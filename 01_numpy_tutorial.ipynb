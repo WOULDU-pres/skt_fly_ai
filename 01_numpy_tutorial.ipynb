{
 "cells": [
  {
   "cell_type": "code",
   "execution_count": 1,
   "id": "20e257fc-395a-4a53-9c65-141249a2b347",
   "metadata": {},
   "outputs": [
    {
     "data": {
      "text/plain": [
       "'1.21.0'"
      ]
     },
     "execution_count": 1,
     "metadata": {},
     "output_type": "execute_result"
    }
   ],
   "source": [
    "import numpy as np\n",
    "\n",
    "np.__version__"
   ]
  },
  {
   "cell_type": "code",
   "execution_count": 2,
   "id": "f0fd5ef0-2211-4166-92da-b82dfdcf9387",
   "metadata": {},
   "outputs": [
    {
     "data": {
      "text/plain": [
       "numpy.ndarray"
      ]
     },
     "execution_count": 2,
     "metadata": {},
     "output_type": "execute_result"
    }
   ],
   "source": [
    "john = [10, 8, 6, 7]\n",
    "x = np.array(john)\n",
    "\n",
    "type(x)"
   ]
  },
  {
   "cell_type": "code",
   "execution_count": 3,
   "id": "8a8041e4-3b0b-4807-9e85-f95c9a94449e",
   "metadata": {},
   "outputs": [
    {
     "data": {
      "text/plain": [
       "array([10,  8,  6,  7])"
      ]
     },
     "execution_count": 3,
     "metadata": {},
     "output_type": "execute_result"
    }
   ],
   "source": [
    "x"
   ]
  },
  {
   "cell_type": "code",
   "execution_count": 6,
   "id": "66f8491c-cab2-4588-998b-e8960bd4f8e7",
   "metadata": {
    "tags": []
   },
   "outputs": [
    {
     "data": {
      "text/plain": [
       "[11, 9, 7, 8]"
      ]
     },
     "execution_count": 6,
     "metadata": {},
     "output_type": "execute_result"
    }
   ],
   "source": [
    "[john[i]+1 for i in range(4)]"
   ]
  },
  {
   "cell_type": "code",
   "execution_count": 9,
   "id": "449b5fac-4708-4db4-91e8-f328a6e9fba2",
   "metadata": {
    "tags": []
   },
   "outputs": [
    {
     "data": {
      "text/plain": [
       "array([10,  8,  6,  7])"
      ]
     },
     "execution_count": 9,
     "metadata": {},
     "output_type": "execute_result"
    }
   ],
   "source": [
    "john = np.array(john)\n",
    "john"
   ]
  },
  {
   "cell_type": "code",
   "execution_count": 10,
   "id": "7812492c-7122-4d71-9d8e-c993ec5361c0",
   "metadata": {},
   "outputs": [
    {
     "data": {
      "text/plain": [
       "array([11,  9,  7,  8])"
      ]
     },
     "execution_count": 10,
     "metadata": {},
     "output_type": "execute_result"
    }
   ],
   "source": [
    "john+1"
   ]
  },
  {
   "cell_type": "markdown",
   "id": "33c3642e-23dd-4f54-80b3-9730e708fedb",
   "metadata": {
    "tags": []
   },
   "source": [
    "#### 다차원 배열\n",
    "- 넘파이는 다차원배열\n",
    "- 파이썬 리스트"
   ]
  },
  {
   "cell_type": "code",
   "execution_count": 20,
   "id": "5b764160-eb6b-4422-a6b9-494fd0a1a55b",
   "metadata": {},
   "outputs": [
    {
     "data": {
      "text/plain": [
       "array([[1., 2., 3., 4.],\n",
       "       [5., 6., 7., 8.]])"
      ]
     },
     "execution_count": 20,
     "metadata": {},
     "output_type": "execute_result"
    }
   ],
   "source": [
    "score = [[1.,2.,3.,4.],[5,6,7,8]]\n",
    "x = np.array(score)\n",
    "x"
   ]
  },
  {
   "cell_type": "code",
   "execution_count": 16,
   "id": "28ed1b58-9f8b-491b-8d98-fdc19d68eebd",
   "metadata": {},
   "outputs": [
    {
     "data": {
      "text/plain": [
       "(2, 4)"
      ]
     },
     "execution_count": 16,
     "metadata": {},
     "output_type": "execute_result"
    }
   ],
   "source": [
    "x.shape"
   ]
  },
  {
   "cell_type": "code",
   "execution_count": 22,
   "id": "a911cc6a-e4f0-4039-88b8-76af3211d0c2",
   "metadata": {},
   "outputs": [
    {
     "data": {
      "text/plain": [
       "array([1., 2., 3., 4., 5., 6., 7., 8.])"
      ]
     },
     "execution_count": 22,
     "metadata": {},
     "output_type": "execute_result"
    }
   ],
   "source": [
    "x.reshape(8,)"
   ]
  },
  {
   "cell_type": "code",
   "execution_count": 18,
   "id": "5ecaca8b-6c14-4b1b-b91e-9eb7d4329fb5",
   "metadata": {},
   "outputs": [
    {
     "data": {
      "text/plain": [
       "array([[1, 2, 3, 4],\n",
       "       [5, 6, 7, 8]])"
      ]
     },
     "execution_count": 18,
     "metadata": {},
     "output_type": "execute_result"
    }
   ],
   "source": [
    "x"
   ]
  },
  {
   "cell_type": "code",
   "execution_count": 21,
   "id": "e8d1c9ae-b15f-4bd2-bf7a-f4fbb17b5702",
   "metadata": {},
   "outputs": [
    {
     "data": {
      "text/plain": [
       "dtype('float64')"
      ]
     },
     "execution_count": 21,
     "metadata": {},
     "output_type": "execute_result"
    }
   ],
   "source": [
    "x.dtype"
   ]
  },
  {
   "cell_type": "code",
   "execution_count": 37,
   "id": "7ce26a30-076c-49be-a815-f20b7470c40d",
   "metadata": {},
   "outputs": [
    {
     "data": {
      "text/plain": [
       "(9,)"
      ]
     },
     "execution_count": 37,
     "metadata": {},
     "output_type": "execute_result"
    }
   ],
   "source": [
    "x = np.arange(1,10)\n",
    "x.shape"
   ]
  },
  {
   "cell_type": "code",
   "execution_count": 39,
   "id": "9fc230d3-d57c-431c-ba7a-587c47b435e4",
   "metadata": {},
   "outputs": [
    {
     "data": {
      "text/plain": [
       "array([[[1, 2, 3],\n",
       "        [4, 5, 6],\n",
       "        [7, 8, 9]]])"
      ]
     },
     "execution_count": 39,
     "metadata": {},
     "output_type": "execute_result"
    }
   ],
   "source": [
    "y = x.reshape(-1,3,3)\n",
    "y"
   ]
  },
  {
   "cell_type": "code",
   "execution_count": 44,
   "id": "5ddc8048-f5dc-430c-8f66-76d5e0f4f194",
   "metadata": {},
   "outputs": [
    {
     "data": {
      "text/plain": [
       "array([[ 0,  1,  2,  3],\n",
       "       [ 4,  5,  6,  7],\n",
       "       [ 8,  9, 10, 11],\n",
       "       [12, 13, 14, 15]])"
      ]
     },
     "execution_count": 44,
     "metadata": {},
     "output_type": "execute_result"
    }
   ],
   "source": [
    "X = np.arange(0,16)\n",
    "X = X.reshape(4,4)\n",
    "X"
   ]
  },
  {
   "cell_type": "code",
   "execution_count": 45,
   "id": "f450b9d4-862b-42d7-8edd-d2401a87e762",
   "metadata": {},
   "outputs": [
    {
     "data": {
      "text/plain": [
       "array([[[ 0,  1],\n",
       "        [ 2,  3],\n",
       "        [ 4,  5],\n",
       "        [ 6,  7]],\n",
       "\n",
       "       [[ 8,  9],\n",
       "        [10, 11],\n",
       "        [12, 13],\n",
       "        [14, 15]]])"
      ]
     },
     "execution_count": 45,
     "metadata": {},
     "output_type": "execute_result"
    }
   ],
   "source": [
    "X = X.reshape(2,4,2)\n",
    "X"
   ]
  },
  {
   "cell_type": "code",
   "execution_count": 52,
   "id": "cb5cf829-d2ef-4e69-b413-3e79ff7740c6",
   "metadata": {},
   "outputs": [
    {
     "data": {
      "text/plain": [
       "((3,), array([1, 2, 3]))"
      ]
     },
     "execution_count": 52,
     "metadata": {},
     "output_type": "execute_result"
    }
   ],
   "source": [
    "x = np.array([1,2,3])\n",
    "y = np.array([[1],[2],[3]])\n",
    "x.shape,y.reshape(-1)"
   ]
  },
  {
   "cell_type": "code",
   "execution_count": 58,
   "id": "02a6c0ca-9bc9-4409-a674-52a160185b64",
   "metadata": {},
   "outputs": [
    {
     "data": {
      "text/plain": [
       "array([[[ 0,  1],\n",
       "        [ 2,  3],\n",
       "        [ 4,  5],\n",
       "        [ 6,  7]],\n",
       "\n",
       "       [[ 8,  9],\n",
       "        [10, 11],\n",
       "        [12, 13],\n",
       "        [14, 15]]])"
      ]
     },
     "execution_count": 58,
     "metadata": {},
     "output_type": "execute_result"
    }
   ],
   "source": [
    "X = np.arange(0,16)\n",
    "X = X.reshape(2,-1,2)\n",
    "X"
   ]
  },
  {
   "cell_type": "markdown",
   "id": "aeb944df-f46c-41d1-b700-a28d08bab0af",
   "metadata": {},
   "source": [
    "#### slicing, indexing"
   ]
  },
  {
   "cell_type": "code",
   "execution_count": 78,
   "id": "9e3fcda5-0341-4e37-80f8-5fd90b657b32",
   "metadata": {},
   "outputs": [
    {
     "data": {
      "text/plain": [
       "array([[4, 5, 6],\n",
       "       [7, 8, 9]])"
      ]
     },
     "execution_count": 78,
     "metadata": {},
     "output_type": "execute_result"
    }
   ],
   "source": [
    "X = np.array([4,5,6,7,8,9])\n",
    "X = X.reshape(2,3)\n",
    "X"
   ]
  },
  {
   "cell_type": "code",
   "execution_count": 83,
   "id": "720993b8-5431-4f58-a96e-f030e73e5990",
   "metadata": {},
   "outputs": [
    {
     "data": {
      "text/plain": [
       "array([5, 6])"
      ]
     },
     "execution_count": 83,
     "metadata": {},
     "output_type": "execute_result"
    }
   ],
   "source": [
    "#fancy indexing\n",
    "X[0,[1,2]]"
   ]
  },
  {
   "cell_type": "code",
   "execution_count": 85,
   "id": "495cc36b-6dd2-4246-88c1-37383367255f",
   "metadata": {},
   "outputs": [
    {
     "data": {
      "text/plain": [
       "array([5, 6])"
      ]
     },
     "execution_count": 85,
     "metadata": {},
     "output_type": "execute_result"
    }
   ],
   "source": [
    "X[0,1:]"
   ]
  },
  {
   "cell_type": "code",
   "execution_count": 86,
   "id": "47807950-239f-4df6-924e-d38cd1505431",
   "metadata": {},
   "outputs": [
    {
     "data": {
      "text/plain": [
       "array([2, 3, 4])"
      ]
     },
     "execution_count": 86,
     "metadata": {},
     "output_type": "execute_result"
    }
   ],
   "source": [
    "#boolean indexing\n",
    "X = np.arange(1,6)\n",
    "idx = [False,True,True,True,False]\n",
    "X[idx]"
   ]
  },
  {
   "cell_type": "code",
   "execution_count": 90,
   "id": "4e907def-0757-45f2-8191-3ec762d084c5",
   "metadata": {},
   "outputs": [
    {
     "data": {
      "text/plain": [
       "array([9, 7])"
      ]
     },
     "execution_count": 90,
     "metadata": {},
     "output_type": "execute_result"
    }
   ],
   "source": [
    "X = np.array([1,9,2,4,7])\n",
    "X[X > 6]"
   ]
  },
  {
   "cell_type": "code",
   "execution_count": 93,
   "id": "40ceb0d2-7fda-4c6a-a196-14b33d6ffdc6",
   "metadata": {},
   "outputs": [
    {
     "data": {
      "text/plain": [
       "array([[1, 2],\n",
       "       [3, 4],\n",
       "       [5, 6]])"
      ]
     },
     "execution_count": 93,
     "metadata": {},
     "output_type": "execute_result"
    }
   ],
   "source": [
    "X = np.arange(1,7).reshape(3,2)\n",
    "X"
   ]
  },
  {
   "cell_type": "code",
   "execution_count": 94,
   "id": "4ba20cc7-eb67-402f-9523-20b91f44d64b",
   "metadata": {},
   "outputs": [
    {
     "data": {
      "text/plain": [
       "array([ 9, 12])"
      ]
     },
     "execution_count": 94,
     "metadata": {},
     "output_type": "execute_result"
    }
   ],
   "source": [
    "np.sum(X, axis = 0)"
   ]
  },
  {
   "cell_type": "code",
   "execution_count": 96,
   "id": "20669bb6-a9c2-4f95-a30e-491189baf911",
   "metadata": {},
   "outputs": [
    {
     "data": {
      "text/plain": [
       "array([3., 4.])"
      ]
     },
     "execution_count": 96,
     "metadata": {},
     "output_type": "execute_result"
    }
   ],
   "source": [
    "np.mean(X, axis = 0)"
   ]
  },
  {
   "cell_type": "code",
   "execution_count": 99,
   "id": "86ea44de-8268-48b9-8696-3edfe69eec09",
   "metadata": {},
   "outputs": [
    {
     "data": {
      "text/plain": [
       "array([[2, 3],\n",
       "       [4, 5],\n",
       "       [6, 7]])"
      ]
     },
     "execution_count": 99,
     "metadata": {},
     "output_type": "execute_result"
    }
   ],
   "source": [
    "X+1"
   ]
  },
  {
   "cell_type": "code",
   "execution_count": 101,
   "id": "03b2b0d0-d2b6-4d62-8130-c5fe7761b1ee",
   "metadata": {},
   "outputs": [
    {
     "data": {
      "text/plain": [
       "(array([[1],\n",
       "        [2],\n",
       "        [3]]),\n",
       " array([1, 2, 3]))"
      ]
     },
     "execution_count": 101,
     "metadata": {},
     "output_type": "execute_result"
    }
   ],
   "source": [
    "X = np.arange(1,4).reshape(3,1)\n",
    "Y = np.arange(1,4)\n",
    "X,Y"
   ]
  },
  {
   "cell_type": "code",
   "execution_count": 102,
   "id": "347db800-d4fb-469c-a77f-566840879b92",
   "metadata": {},
   "outputs": [
    {
     "data": {
      "text/plain": [
       "array([[2, 3, 4],\n",
       "       [3, 4, 5],\n",
       "       [4, 5, 6]])"
      ]
     },
     "execution_count": 102,
     "metadata": {},
     "output_type": "execute_result"
    }
   ],
   "source": [
    "X+Y"
   ]
  },
  {
   "cell_type": "code",
   "execution_count": 103,
   "id": "168ba3c8-9e4b-4f88-91f6-707546276920",
   "metadata": {},
   "outputs": [
    {
     "data": {
      "text/plain": [
       "dtype('int32')"
      ]
     },
     "execution_count": 103,
     "metadata": {},
     "output_type": "execute_result"
    }
   ],
   "source": [
    "X.dtype"
   ]
  },
  {
   "cell_type": "code",
   "execution_count": 104,
   "id": "4693c171-404a-4bad-95d1-7dbe831a8da0",
   "metadata": {},
   "outputs": [
    {
     "data": {
      "text/plain": [
       "array([[1.],\n",
       "       [2.],\n",
       "       [3.]])"
      ]
     },
     "execution_count": 104,
     "metadata": {},
     "output_type": "execute_result"
    }
   ],
   "source": [
    "X.astype(np.float64)"
   ]
  },
  {
   "cell_type": "markdown",
   "id": "b04186a5-e691-4005-a9ad-9bb065ac1da9",
   "metadata": {},
   "source": [
    "#### 난수 생성 함수"
   ]
  },
  {
   "cell_type": "markdown",
   "id": "f3ec7567-3619-4e53-a832-f547327dbd69",
   "metadata": {},
   "source": [
    "##### np.random.random()\n",
    "- (0.0,1.0)"
   ]
  },
  {
   "cell_type": "code",
   "execution_count": 2,
   "id": "4190c683-9898-4d1f-ab77-6ab8fab345c5",
   "metadata": {},
   "outputs": [
    {
     "data": {
      "text/plain": [
       "'1.21.0'"
      ]
     },
     "execution_count": 2,
     "metadata": {},
     "output_type": "execute_result"
    }
   ],
   "source": [
    "import numpy as np\n",
    "\n",
    "np.__version__"
   ]
  },
  {
   "cell_type": "code",
   "execution_count": 3,
   "id": "d10b3456-82c0-4c9f-b9ae-32546f5f21f9",
   "metadata": {},
   "outputs": [
    {
     "data": {
      "text/plain": [
       "array([0.94103926, 0.10613948, 0.52002573])"
      ]
     },
     "execution_count": 3,
     "metadata": {},
     "output_type": "execute_result"
    }
   ],
   "source": [
    "np.random.random(3)"
   ]
  },
  {
   "cell_type": "code",
   "execution_count": 4,
   "id": "3a81f5a2-3c16-41f3-8314-076aa6a421d1",
   "metadata": {},
   "outputs": [
    {
     "data": {
      "text/plain": [
       "array([[0.40668633, 0.14296836],\n",
       "       [0.63631976, 0.58455817]])"
      ]
     },
     "execution_count": 4,
     "metadata": {},
     "output_type": "execute_result"
    }
   ],
   "source": [
    "np.random.random((2,2))"
   ]
  },
  {
   "cell_type": "code",
   "execution_count": 7,
   "id": "1896e235-26f1-4541-9350-9e6c2a98c9b1",
   "metadata": {},
   "outputs": [],
   "source": [
    "# 같은 함수, 다른 표현\n",
    "# random(), random_sample(), rand()"
   ]
  },
  {
   "cell_type": "markdown",
   "id": "9c890b2d-5a49-48bb-9ebc-1f1ccf349698",
   "metadata": {},
   "source": [
    "##### 정규분포 추출 randn()"
   ]
  },
  {
   "cell_type": "code",
   "execution_count": 9,
   "id": "be62df40-e5cc-4ba8-bd82-7b73adb61d25",
   "metadata": {},
   "outputs": [
    {
     "data": {
      "text/plain": [
       "array([[-5.27899086e-04, -2.74901425e-01],\n",
       "       [-1.39285562e-01,  1.98468616e+00],\n",
       "       [ 2.82109326e-01,  7.60808658e-01]])"
      ]
     },
     "execution_count": 9,
     "metadata": {},
     "output_type": "execute_result"
    }
   ],
   "source": [
    "np.random.seed(2022)\n",
    "np.random.randn(3,2)"
   ]
  },
  {
   "cell_type": "code",
   "execution_count": 12,
   "id": "e1d0cd6a-eecb-400e-9e65-a86eb21bc31b",
   "metadata": {},
   "outputs": [
    {
     "data": {
      "text/plain": [
       "array([[13, 21, 10, 13],\n",
       "       [18, 21,  8, 10]])"
      ]
     },
     "execution_count": 12,
     "metadata": {},
     "output_type": "execute_result"
    }
   ],
   "source": [
    "np.random.randint(2,23,(2,4))"
   ]
  },
  {
   "cell_type": "code",
   "execution_count": 16,
   "id": "1bdbf240-b9d8-4741-a942-dc4c3321fcab",
   "metadata": {},
   "outputs": [],
   "source": [
    "x = np.array([[1,2],[3,4]])\n",
    "y = np.array([[5,6],[7,8]])"
   ]
  },
  {
   "cell_type": "code",
   "execution_count": 17,
   "id": "ae7b2d44-95c2-4ec8-bd9f-e98be9d97be2",
   "metadata": {},
   "outputs": [
    {
     "data": {
      "text/plain": [
       "array([[ 6,  8],\n",
       "       [10, 12]])"
      ]
     },
     "execution_count": 17,
     "metadata": {},
     "output_type": "execute_result"
    }
   ],
   "source": [
    "x+y"
   ]
  },
  {
   "cell_type": "code",
   "execution_count": 18,
   "id": "b8530f93-f825-4a61-aea2-242b6f9030eb",
   "metadata": {},
   "outputs": [
    {
     "data": {
      "text/plain": [
       "array([[ 6,  8],\n",
       "       [10, 12]])"
      ]
     },
     "execution_count": 18,
     "metadata": {},
     "output_type": "execute_result"
    }
   ],
   "source": [
    "np.add(x,y)"
   ]
  },
  {
   "cell_type": "code",
   "execution_count": 23,
   "id": "4914bac3-13d0-4a7c-9220-8b11dfa87cf8",
   "metadata": {},
   "outputs": [
    {
     "data": {
      "text/plain": [
       "array([[0.2       , 0.33333333],\n",
       "       [0.42857143, 0.5       ]])"
      ]
     },
     "execution_count": 23,
     "metadata": {},
     "output_type": "execute_result"
    }
   ],
   "source": [
    "np.divide(x,y)"
   ]
  },
  {
   "cell_type": "markdown",
   "id": "2ae36244-96de-46c9-a590-cd59526e5fe5",
   "metadata": {},
   "source": [
    "#### 행렬연산 3가지"
   ]
  },
  {
   "cell_type": "code",
   "execution_count": 20,
   "id": "739941ed-b95f-4416-bbb9-1413db3856bc",
   "metadata": {},
   "outputs": [
    {
     "data": {
      "text/plain": [
       "array([[19, 22],\n",
       "       [43, 50]])"
      ]
     },
     "execution_count": 20,
     "metadata": {},
     "output_type": "execute_result"
    }
   ],
   "source": [
    "x@y"
   ]
  },
  {
   "cell_type": "code",
   "execution_count": 21,
   "id": "5441b1f6-4942-46f1-9d6f-785288dfcb81",
   "metadata": {},
   "outputs": [
    {
     "data": {
      "text/plain": [
       "array([[19, 22],\n",
       "       [43, 50]])"
      ]
     },
     "execution_count": 21,
     "metadata": {},
     "output_type": "execute_result"
    }
   ],
   "source": [
    "np.dot(x,y)"
   ]
  },
  {
   "cell_type": "code",
   "execution_count": 22,
   "id": "859b24ab-537a-48b0-b004-c31a803ab8bd",
   "metadata": {},
   "outputs": [
    {
     "data": {
      "text/plain": [
       "array([[19, 22],\n",
       "       [43, 50]])"
      ]
     },
     "execution_count": 22,
     "metadata": {},
     "output_type": "execute_result"
    }
   ],
   "source": [
    "np.matmul(x,y)"
   ]
  },
  {
   "cell_type": "code",
   "execution_count": 25,
   "id": "2362d0b8-f58c-4488-b415-3871c32be3f4",
   "metadata": {},
   "outputs": [
    {
     "data": {
      "text/plain": [
       "32"
      ]
     },
     "execution_count": 25,
     "metadata": {},
     "output_type": "execute_result"
    }
   ],
   "source": [
    "x = np.array([1,2,3])\n",
    "y = np.array([4,5,6])\n",
    "np.matmul(x,y)"
   ]
  },
  {
   "cell_type": "markdown",
   "id": "b7c9f229-e3f0-4517-b462-847cc5f5da87",
   "metadata": {},
   "source": [
    "#### np.argmax()"
   ]
  },
  {
   "cell_type": "code",
   "execution_count": 36,
   "id": "6f9d193b-41c4-4d6d-82e8-37aa901abe9e",
   "metadata": {},
   "outputs": [
    {
     "name": "stdout",
     "output_type": "stream",
     "text": [
      "[[-0.67028832 -0.53867632 -0.35305234  1.83166474]\n",
      " [ 0.68179401 -0.54893699 -0.08854093 -1.16177716]\n",
      " [ 0.04334993  0.28627855  0.31002766  1.01427196]\n",
      " [-0.53091456  1.11557556  0.7960597   0.2284146 ]\n",
      " [ 1.05977863 -0.49601602  0.18279691 -0.70413539]]\n"
     ]
    },
    {
     "data": {
      "text/plain": [
       "array([4, 3, 3, 0], dtype=int64)"
      ]
     },
     "execution_count": 36,
     "metadata": {},
     "output_type": "execute_result"
    }
   ],
   "source": [
    "x = np.random.randn(5, 4)\n",
    "print(x)\n",
    "np.argmax(x,axis=0)"
   ]
  },
  {
   "cell_type": "markdown",
   "id": "edd6b296-eecd-4550-94f4-3a6887dfa5c7",
   "metadata": {},
   "source": [
    "#### 저장 savez()"
   ]
  },
  {
   "cell_type": "code",
   "execution_count": 38,
   "id": "50e294e0-0a04-43f2-b936-c3ddf6d79796",
   "metadata": {},
   "outputs": [
    {
     "data": {
      "text/plain": [
       "array([[ 2.30035255, -1.69664595, -0.69035737, -0.07596383],\n",
       "       [ 0.01659398,  0.48782301,  1.01276624,  0.51589934],\n",
       "       [ 0.69230623,  1.16285432,  0.63859334, -0.00564434],\n",
       "       [ 0.3505266 , -0.44776523, -1.09372529, -1.32020028],\n",
       "       [ 0.34576926,  0.21349644,  0.81241333, -1.04453068]])"
      ]
     },
     "execution_count": 38,
     "metadata": {},
     "output_type": "execute_result"
    }
   ],
   "source": [
    "x = np.random.randn(5,4)\n",
    "y = np.random.randn(3,3)\n",
    "x"
   ]
  },
  {
   "cell_type": "code",
   "execution_count": 39,
   "id": "048c5356-7891-448a-8cd0-a984bc3a45b1",
   "metadata": {},
   "outputs": [],
   "source": [
    "np.savez('mydata.npz', xvar=x, yvar = y)"
   ]
  },
  {
   "cell_type": "markdown",
   "id": "58b7fd12-db4f-4620-bf0a-a381d6b77dc0",
   "metadata": {},
   "source": [
    "#### 모델 생성"
   ]
  },
  {
   "cell_type": "code",
   "execution_count": 44,
   "id": "a1b1aede-4a98-47c3-aebe-b3ba4ea51c20",
   "metadata": {},
   "outputs": [],
   "source": [
    "# 파일 로딩\n",
    " \n",
    "mydata = np. load('mydata.npz')"
   ]
  },
  {
   "cell_type": "code",
   "execution_count": 45,
   "id": "0f7b2485-4f2f-4126-bb71-23bba73f771a",
   "metadata": {},
   "outputs": [
    {
     "data": {
      "text/plain": [
       "array([[ 2.30035255, -1.69664595, -0.69035737, -0.07596383],\n",
       "       [ 0.01659398,  0.48782301,  1.01276624,  0.51589934],\n",
       "       [ 0.69230623,  1.16285432,  0.63859334, -0.00564434],\n",
       "       [ 0.3505266 , -0.44776523, -1.09372529, -1.32020028],\n",
       "       [ 0.34576926,  0.21349644,  0.81241333, -1.04453068]])"
      ]
     },
     "execution_count": 45,
     "metadata": {},
     "output_type": "execute_result"
    }
   ],
   "source": [
    "x = mydata['xvar']\n",
    "x"
   ]
  },
  {
   "cell_type": "code",
   "execution_count": null,
   "id": "7b95770c-fcd8-4ba4-90dd-fe7db29f486a",
   "metadata": {},
   "outputs": [],
   "source": []
  }
 ],
 "metadata": {
  "kernelspec": {
   "display_name": "flyai",
   "language": "python",
   "name": "flyai"
  },
  "language_info": {
   "codemirror_mode": {
    "name": "ipython",
    "version": 3
   },
   "file_extension": ".py",
   "mimetype": "text/x-python",
   "name": "python",
   "nbconvert_exporter": "python",
   "pygments_lexer": "ipython3",
   "version": "3.8.0"
  }
 },
 "nbformat": 4,
 "nbformat_minor": 5
}
