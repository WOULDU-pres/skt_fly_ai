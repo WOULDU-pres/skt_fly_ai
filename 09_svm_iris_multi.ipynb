{
 "cells": [
  {
   "cell_type": "markdown",
   "id": "f479c8ec-d357-4123-9424-fd1f7388a922",
   "metadata": {
    "tags": []
   },
   "source": [
    "# SVM IRIS multi"
   ]
  },
  {
   "cell_type": "code",
   "execution_count": 3,
   "id": "a18c2789-196a-4a4d-a69c-63ba8069c7ff",
   "metadata": {},
   "outputs": [],
   "source": [
    "import numpy as np\n",
    "import pandas as pd\n",
    "import matplotlib.pyplot as plt\n",
    "import seaborn as sns\n",
    "from sklearn.utils import shuffle\n",
    "from sklearn.neighbors import KNeighborsClassifier\n",
    "from sklearn.model_selection import train_test_split\n",
    "from sklearn.preprocessing import MinMaxScaler\n",
    "from sklearn.svm import SVC"
   ]
  },
  {
   "cell_type": "code",
   "execution_count": 4,
   "id": "06847402-d817-43cb-a451-e7c519f21cd5",
   "metadata": {},
   "outputs": [
    {
     "name": "stdout",
     "output_type": "stream",
     "text": [
      "Hello!\n"
     ]
    }
   ],
   "source": [
    "import myutils as my\n",
    "\n",
    "my.hello()"
   ]
  },
  {
   "cell_type": "code",
   "execution_count": 5,
   "id": "114e5a92-bf27-43a2-ab1d-48453c3713a4",
   "metadata": {},
   "outputs": [
    {
     "name": "stdout",
     "output_type": "stream",
     "text": [
      "(80, 4) (20, 4)\n",
      "(80,) (20,)\n"
     ]
    }
   ],
   "source": [
    "X_train, X_test, y_train, y_test = my.get_iris('bin')\n",
    "\n",
    "print(X_train.shape, X_test.shape)\n",
    "print(y_train.shape, y_test.shape)"
   ]
  },
  {
   "cell_type": "markdown",
   "id": "4538de2a-771b-40b4-8761-1eb524eaf339",
   "metadata": {},
   "source": [
    "## 정규화\n",
    "- 표준화(StandardScaler)\n",
    "- 최대최소 정규화(MinMaxScaler)"
   ]
  },
  {
   "cell_type": "code",
   "execution_count": 6,
   "id": "57d90bd7-de58-4c2e-9f72-e4f70ff27b82",
   "metadata": {},
   "outputs": [
    {
     "data": {
      "text/plain": [
       "array([[0.62962963, 0.58333333, 0.85365854, 0.88235294],\n",
       "       [0.33333333, 0.58333333, 0.09756098, 0.05882353],\n",
       "       [0.03703704, 0.375     , 0.09756098, 0.05882353],\n",
       "       [0.18518519, 0.58333333, 0.14634146, 0.05882353]])"
      ]
     },
     "execution_count": 6,
     "metadata": {},
     "output_type": "execute_result"
    }
   ],
   "source": [
    "scaler = MinMaxScaler()\n",
    "scaler.fit(X_train)\n",
    "#각 컬럼별 최대 최소 계산\n",
    "X_train=scaler.transform(X_train)\n",
    "#최대최소 정규화 형태로 변환, DataFrame 을 Numpy 배열 형태로 변환\n",
    "X_train[:4]"
   ]
  },
  {
   "cell_type": "code",
   "execution_count": 7,
   "id": "98489b4b-009d-4b48-bacf-cb909c1a59be",
   "metadata": {},
   "outputs": [
    {
     "data": {
      "text/plain": [
       "array([1, 0, 0, 0, 1, 0, 1, 0, 1, 1, 1, 0, 0, 1, 0, 1, 0, 1, 0, 0, 1, 1,\n",
       "       1, 1, 0, 0, 1, 1, 1, 0, 0, 0, 1, 0, 0, 0, 1, 0, 0, 0, 0, 0, 1, 1,\n",
       "       1, 1, 0, 0, 1, 0, 0, 1, 1, 0, 0, 1, 1, 0, 0, 0, 1, 1, 1, 1, 1, 0,\n",
       "       0, 0, 0, 1, 0, 1, 0, 1, 1, 0, 1, 1, 0, 1], dtype=int64)"
      ]
     },
     "execution_count": 7,
     "metadata": {},
     "output_type": "execute_result"
    }
   ],
   "source": [
    "y_train=y_train.values\n",
    "y_train"
   ]
  },
  {
   "cell_type": "markdown",
   "id": "39a3dcc0-0569-4327-9b0b-1eb110d3cefe",
   "metadata": {},
   "source": [
    "### 학습"
   ]
  },
  {
   "cell_type": "code",
   "execution_count": 8,
   "id": "b7626732-6518-405d-a5a3-449386600831",
   "metadata": {},
   "outputs": [
    {
     "data": {
      "text/html": [
       "<style>#sk-container-id-1 {color: black;background-color: white;}#sk-container-id-1 pre{padding: 0;}#sk-container-id-1 div.sk-toggleable {background-color: white;}#sk-container-id-1 label.sk-toggleable__label {cursor: pointer;display: block;width: 100%;margin-bottom: 0;padding: 0.3em;box-sizing: border-box;text-align: center;}#sk-container-id-1 label.sk-toggleable__label-arrow:before {content: \"▸\";float: left;margin-right: 0.25em;color: #696969;}#sk-container-id-1 label.sk-toggleable__label-arrow:hover:before {color: black;}#sk-container-id-1 div.sk-estimator:hover label.sk-toggleable__label-arrow:before {color: black;}#sk-container-id-1 div.sk-toggleable__content {max-height: 0;max-width: 0;overflow: hidden;text-align: left;background-color: #f0f8ff;}#sk-container-id-1 div.sk-toggleable__content pre {margin: 0.2em;color: black;border-radius: 0.25em;background-color: #f0f8ff;}#sk-container-id-1 input.sk-toggleable__control:checked~div.sk-toggleable__content {max-height: 200px;max-width: 100%;overflow: auto;}#sk-container-id-1 input.sk-toggleable__control:checked~label.sk-toggleable__label-arrow:before {content: \"▾\";}#sk-container-id-1 div.sk-estimator input.sk-toggleable__control:checked~label.sk-toggleable__label {background-color: #d4ebff;}#sk-container-id-1 div.sk-label input.sk-toggleable__control:checked~label.sk-toggleable__label {background-color: #d4ebff;}#sk-container-id-1 input.sk-hidden--visually {border: 0;clip: rect(1px 1px 1px 1px);clip: rect(1px, 1px, 1px, 1px);height: 1px;margin: -1px;overflow: hidden;padding: 0;position: absolute;width: 1px;}#sk-container-id-1 div.sk-estimator {font-family: monospace;background-color: #f0f8ff;border: 1px dotted black;border-radius: 0.25em;box-sizing: border-box;margin-bottom: 0.5em;}#sk-container-id-1 div.sk-estimator:hover {background-color: #d4ebff;}#sk-container-id-1 div.sk-parallel-item::after {content: \"\";width: 100%;border-bottom: 1px solid gray;flex-grow: 1;}#sk-container-id-1 div.sk-label:hover label.sk-toggleable__label {background-color: #d4ebff;}#sk-container-id-1 div.sk-serial::before {content: \"\";position: absolute;border-left: 1px solid gray;box-sizing: border-box;top: 0;bottom: 0;left: 50%;z-index: 0;}#sk-container-id-1 div.sk-serial {display: flex;flex-direction: column;align-items: center;background-color: white;padding-right: 0.2em;padding-left: 0.2em;position: relative;}#sk-container-id-1 div.sk-item {position: relative;z-index: 1;}#sk-container-id-1 div.sk-parallel {display: flex;align-items: stretch;justify-content: center;background-color: white;position: relative;}#sk-container-id-1 div.sk-item::before, #sk-container-id-1 div.sk-parallel-item::before {content: \"\";position: absolute;border-left: 1px solid gray;box-sizing: border-box;top: 0;bottom: 0;left: 50%;z-index: -1;}#sk-container-id-1 div.sk-parallel-item {display: flex;flex-direction: column;z-index: 1;position: relative;background-color: white;}#sk-container-id-1 div.sk-parallel-item:first-child::after {align-self: flex-end;width: 50%;}#sk-container-id-1 div.sk-parallel-item:last-child::after {align-self: flex-start;width: 50%;}#sk-container-id-1 div.sk-parallel-item:only-child::after {width: 0;}#sk-container-id-1 div.sk-dashed-wrapped {border: 1px dashed gray;margin: 0 0.4em 0.5em 0.4em;box-sizing: border-box;padding-bottom: 0.4em;background-color: white;}#sk-container-id-1 div.sk-label label {font-family: monospace;font-weight: bold;display: inline-block;line-height: 1.2em;}#sk-container-id-1 div.sk-label-container {text-align: center;}#sk-container-id-1 div.sk-container {/* jupyter's `normalize.less` sets `[hidden] { display: none; }` but bootstrap.min.css set `[hidden] { display: none !important; }` so we also need the `!important` here to be able to override the default hidden behavior on the sphinx rendered scikit-learn.org. See: https://github.com/scikit-learn/scikit-learn/issues/21755 */display: inline-block !important;position: relative;}#sk-container-id-1 div.sk-text-repr-fallback {display: none;}</style><div id=\"sk-container-id-1\" class=\"sk-top-container\"><div class=\"sk-text-repr-fallback\"><pre>SVC(kernel=&#x27;linear&#x27;, random_state=2022)</pre><b>In a Jupyter environment, please rerun this cell to show the HTML representation or trust the notebook. <br />On GitHub, the HTML representation is unable to render, please try loading this page with nbviewer.org.</b></div><div class=\"sk-container\" hidden><div class=\"sk-item\"><div class=\"sk-estimator sk-toggleable\"><input class=\"sk-toggleable__control sk-hidden--visually\" id=\"sk-estimator-id-1\" type=\"checkbox\" checked><label for=\"sk-estimator-id-1\" class=\"sk-toggleable__label sk-toggleable__label-arrow\">SVC</label><div class=\"sk-toggleable__content\"><pre>SVC(kernel=&#x27;linear&#x27;, random_state=2022)</pre></div></div></div></div></div>"
      ],
      "text/plain": [
       "SVC(kernel='linear', random_state=2022)"
      ]
     },
     "execution_count": 8,
     "metadata": {},
     "output_type": "execute_result"
    }
   ],
   "source": [
    "clf = SVC(kernel='linear', random_state=2022)\n",
    "clf.fit(X_train, y_train)"
   ]
  },
  {
   "cell_type": "code",
   "execution_count": 9,
   "id": "4ca9f822-1d2c-4d99-afba-64c89b76c832",
   "metadata": {},
   "outputs": [
    {
     "data": {
      "text/plain": [
       "1.0"
      ]
     },
     "execution_count": 9,
     "metadata": {},
     "output_type": "execute_result"
    }
   ],
   "source": [
    "clf.score(X_train, y_train)"
   ]
  },
  {
   "cell_type": "code",
   "execution_count": 10,
   "id": "dd97bb49-6e4f-4026-adf9-706bc56244aa",
   "metadata": {},
   "outputs": [
    {
     "data": {
      "text/plain": [
       "array([[ 0.36369934, -1.12477515,  1.82897479,  1.51865788]])"
      ]
     },
     "execution_count": 10,
     "metadata": {},
     "output_type": "execute_result"
    }
   ],
   "source": [
    "clf.coef_"
   ]
  },
  {
   "cell_type": "code",
   "execution_count": 11,
   "id": "ae2b7e1a-7f08-4b20-94ab-3ab886aa46f2",
   "metadata": {},
   "outputs": [
    {
     "data": {
      "text/plain": [
       "array([-0.98278222])"
      ]
     },
     "execution_count": 11,
     "metadata": {},
     "output_type": "execute_result"
    }
   ],
   "source": [
    "clf.intercept_"
   ]
  },
  {
   "cell_type": "markdown",
   "id": "a5d5ed61-bf9c-47a8-a982-57f9b81edc4d",
   "metadata": {},
   "source": [
    "### 최종"
   ]
  },
  {
   "cell_type": "code",
   "execution_count": 12,
   "id": "46214a87-3b6f-4dac-9197-341a482efefe",
   "metadata": {},
   "outputs": [],
   "source": [
    "X_test = scaler.transform(X_test)\n",
    "y_test = y_test.values"
   ]
  },
  {
   "cell_type": "code",
   "execution_count": 13,
   "id": "79fd8734-d1f0-4a3c-a636-61d672aeb4c8",
   "metadata": {},
   "outputs": [
    {
     "data": {
      "text/plain": [
       "1.0"
      ]
     },
     "execution_count": 13,
     "metadata": {},
     "output_type": "execute_result"
    }
   ],
   "source": [
    "clf.score(X_test, y_test)"
   ]
  },
  {
   "cell_type": "code",
   "execution_count": 14,
   "id": "54ecd238-c240-451d-964a-9b64346441cb",
   "metadata": {},
   "outputs": [],
   "source": [
    "y_pred = clf.predict(X_test)"
   ]
  },
  {
   "cell_type": "code",
   "execution_count": 15,
   "id": "f1c6c58b",
   "metadata": {},
   "outputs": [
    {
     "name": "stdout",
     "output_type": "stream",
     "text": [
      "accuracy: 1.0\n",
      "precision: 1.0\n",
      "recall: 1.0\n"
     ]
    }
   ],
   "source": [
    "my.print_score(y_test, y_pred, average='macro')"
   ]
  },
  {
   "cell_type": "code",
   "execution_count": 16,
   "id": "3ffb5cd1",
   "metadata": {},
   "outputs": [
    {
     "data": {
      "image/png": "[encoded data removed]",
      "text/plain": [
       "<Figure size 500x400 with 1 Axes>"
      ]
     },
     "metadata": {},
     "output_type": "display_data"
    }
   ],
   "source": [
    "my.plot_confusion_matrix(y_test,y_pred)"
   ]
  },
  {
   "cell_type": "markdown",
   "id": "41212995",
   "metadata": {},
   "source": [
    "# 다중분류(이거 MinMax로 하니까 안되요..."
   ]
  },
  {
   "cell_type": "code",
   "execution_count": 17,
   "id": "a1289ff3",
   "metadata": {},
   "outputs": [
    {
     "name": "stdout",
     "output_type": "stream",
     "text": [
      "(120, 4) (30, 4)\n",
      "(120,) (30,)\n"
     ]
    }
   ],
   "source": [
    "X_train, X_test, y_train, y_test = my.get_iris()\n",
    "\n",
    "print(X_train.shape, X_test.shape)\n",
    "print(y_train.shape, y_test.shape)\n"
   ]
  },
  {
   "cell_type": "code",
   "execution_count": 18,
   "id": "80a2afdb",
   "metadata": {},
   "outputs": [
    {
     "data": {
      "text/html": [
       "<div>\n",
       "<style scoped>\n",
       "    .dataframe tbody tr th:only-of-type {\n",
       "        vertical-align: middle;\n",
       "    }\n",
       "\n",
       "    .dataframe tbody tr th {\n",
       "        vertical-align: top;\n",
       "    }\n",
       "\n",
       "    .dataframe thead th {\n",
       "        text-align: right;\n",
       "    }\n",
       "</style>\n",
       "<table border=\"1\" class=\"dataframe\">\n",
       "  <thead>\n",
       "    <tr style=\"text-align: right;\">\n",
       "      <th></th>\n",
       "      <th>sepal_length</th>\n",
       "      <th>sepal_width</th>\n",
       "      <th>petal_length</th>\n",
       "      <th>petal_width</th>\n",
       "    </tr>\n",
       "  </thead>\n",
       "  <tbody>\n",
       "    <tr>\n",
       "      <th>9</th>\n",
       "      <td>4.9</td>\n",
       "      <td>3.1</td>\n",
       "      <td>1.5</td>\n",
       "      <td>0.1</td>\n",
       "    </tr>\n",
       "    <tr>\n",
       "      <th>59</th>\n",
       "      <td>5.2</td>\n",
       "      <td>2.7</td>\n",
       "      <td>3.9</td>\n",
       "      <td>1.4</td>\n",
       "    </tr>\n",
       "    <tr>\n",
       "      <th>16</th>\n",
       "      <td>5.4</td>\n",
       "      <td>3.9</td>\n",
       "      <td>1.3</td>\n",
       "      <td>0.4</td>\n",
       "    </tr>\n",
       "    <tr>\n",
       "      <th>122</th>\n",
       "      <td>7.7</td>\n",
       "      <td>2.8</td>\n",
       "      <td>6.7</td>\n",
       "      <td>2.0</td>\n",
       "    </tr>\n",
       "  </tbody>\n",
       "</table>\n",
       "</div>"
      ],
      "text/plain": [
       "     sepal_length  sepal_width  petal_length  petal_width\n",
       "9             4.9          3.1           1.5          0.1\n",
       "59            5.2          2.7           3.9          1.4\n",
       "16            5.4          3.9           1.3          0.4\n",
       "122           7.7          2.8           6.7          2.0"
      ]
     },
     "execution_count": 18,
     "metadata": {},
     "output_type": "execute_result"
    }
   ],
   "source": [
    "X_train[0:4]"
   ]
  },
  {
   "cell_type": "code",
   "execution_count": 19,
   "id": "d1e2a033",
   "metadata": {},
   "outputs": [
    {
     "data": {
      "text/html": [
       "<style>#sk-container-id-2 {color: black;background-color: white;}#sk-container-id-2 pre{padding: 0;}#sk-container-id-2 div.sk-toggleable {background-color: white;}#sk-container-id-2 label.sk-toggleable__label {cursor: pointer;display: block;width: 100%;margin-bottom: 0;padding: 0.3em;box-sizing: border-box;text-align: center;}#sk-container-id-2 label.sk-toggleable__label-arrow:before {content: \"▸\";float: left;margin-right: 0.25em;color: #696969;}#sk-container-id-2 label.sk-toggleable__label-arrow:hover:before {color: black;}#sk-container-id-2 div.sk-estimator:hover label.sk-toggleable__label-arrow:before {color: black;}#sk-container-id-2 div.sk-toggleable__content {max-height: 0;max-width: 0;overflow: hidden;text-align: left;background-color: #f0f8ff;}#sk-container-id-2 div.sk-toggleable__content pre {margin: 0.2em;color: black;border-radius: 0.25em;background-color: #f0f8ff;}#sk-container-id-2 input.sk-toggleable__control:checked~div.sk-toggleable__content {max-height: 200px;max-width: 100%;overflow: auto;}#sk-container-id-2 input.sk-toggleable__control:checked~label.sk-toggleable__label-arrow:before {content: \"▾\";}#sk-container-id-2 div.sk-estimator input.sk-toggleable__control:checked~label.sk-toggleable__label {background-color: #d4ebff;}#sk-container-id-2 div.sk-label input.sk-toggleable__control:checked~label.sk-toggleable__label {background-color: #d4ebff;}#sk-container-id-2 input.sk-hidden--visually {border: 0;clip: rect(1px 1px 1px 1px);clip: rect(1px, 1px, 1px, 1px);height: 1px;margin: -1px;overflow: hidden;padding: 0;position: absolute;width: 1px;}#sk-container-id-2 div.sk-estimator {font-family: monospace;background-color: #f0f8ff;border: 1px dotted black;border-radius: 0.25em;box-sizing: border-box;margin-bottom: 0.5em;}#sk-container-id-2 div.sk-estimator:hover {background-color: #d4ebff;}#sk-container-id-2 div.sk-parallel-item::after {content: \"\";width: 100%;border-bottom: 1px solid gray;flex-grow: 1;}#sk-container-id-2 div.sk-label:hover label.sk-toggleable__label {background-color: #d4ebff;}#sk-container-id-2 div.sk-serial::before {content: \"\";position: absolute;border-left: 1px solid gray;box-sizing: border-box;top: 0;bottom: 0;left: 50%;z-index: 0;}#sk-container-id-2 div.sk-serial {display: flex;flex-direction: column;align-items: center;background-color: white;padding-right: 0.2em;padding-left: 0.2em;position: relative;}#sk-container-id-2 div.sk-item {position: relative;z-index: 1;}#sk-container-id-2 div.sk-parallel {display: flex;align-items: stretch;justify-content: center;background-color: white;position: relative;}#sk-container-id-2 div.sk-item::before, #sk-container-id-2 div.sk-parallel-item::before {content: \"\";position: absolute;border-left: 1px solid gray;box-sizing: border-box;top: 0;bottom: 0;left: 50%;z-index: -1;}#sk-container-id-2 div.sk-parallel-item {display: flex;flex-direction: column;z-index: 1;position: relative;background-color: white;}#sk-container-id-2 div.sk-parallel-item:first-child::after {align-self: flex-end;width: 50%;}#sk-container-id-2 div.sk-parallel-item:last-child::after {align-self: flex-start;width: 50%;}#sk-container-id-2 div.sk-parallel-item:only-child::after {width: 0;}#sk-container-id-2 div.sk-dashed-wrapped {border: 1px dashed gray;margin: 0 0.4em 0.5em 0.4em;box-sizing: border-box;padding-bottom: 0.4em;background-color: white;}#sk-container-id-2 div.sk-label label {font-family: monospace;font-weight: bold;display: inline-block;line-height: 1.2em;}#sk-container-id-2 div.sk-label-container {text-align: center;}#sk-container-id-2 div.sk-container {/* jupyter's `normalize.less` sets `[hidden] { display: none; }` but bootstrap.min.css set `[hidden] { display: none !important; }` so we also need the `!important` here to be able to override the default hidden behavior on the sphinx rendered scikit-learn.org. See: https://github.com/scikit-learn/scikit-learn/issues/21755 */display: inline-block !important;position: relative;}#sk-container-id-2 div.sk-text-repr-fallback {display: none;}</style><div id=\"sk-container-id-2\" class=\"sk-top-container\"><div class=\"sk-text-repr-fallback\"><pre>MinMaxScaler()</pre><b>In a Jupyter environment, please rerun this cell to show the HTML representation or trust the notebook. <br />On GitHub, the HTML representation is unable to render, please try loading this page with nbviewer.org.</b></div><div class=\"sk-container\" hidden><div class=\"sk-item\"><div class=\"sk-estimator sk-toggleable\"><input class=\"sk-toggleable__control sk-hidden--visually\" id=\"sk-estimator-id-2\" type=\"checkbox\" checked><label for=\"sk-estimator-id-2\" class=\"sk-toggleable__label sk-toggleable__label-arrow\">MinMaxScaler</label><div class=\"sk-toggleable__content\"><pre>MinMaxScaler()</pre></div></div></div></div></div>"
      ],
      "text/plain": [
       "MinMaxScaler()"
      ]
     },
     "execution_count": 19,
     "metadata": {},
     "output_type": "execute_result"
    }
   ],
   "source": [
    "scaler = MinMaxScaler()\n",
    "scaler.fit(X_train)"
   ]
  },
  {
   "cell_type": "code",
   "execution_count": 20,
   "id": "3b4acb34",
   "metadata": {},
   "outputs": [
    {
     "data": {
      "text/html": [
       "<style>#sk-container-id-3 {color: black;background-color: white;}#sk-container-id-3 pre{padding: 0;}#sk-container-id-3 div.sk-toggleable {background-color: white;}#sk-container-id-3 label.sk-toggleable__label {cursor: pointer;display: block;width: 100%;margin-bottom: 0;padding: 0.3em;box-sizing: border-box;text-align: center;}#sk-container-id-3 label.sk-toggleable__label-arrow:before {content: \"▸\";float: left;margin-right: 0.25em;color: #696969;}#sk-container-id-3 label.sk-toggleable__label-arrow:hover:before {color: black;}#sk-container-id-3 div.sk-estimator:hover label.sk-toggleable__label-arrow:before {color: black;}#sk-container-id-3 div.sk-toggleable__content {max-height: 0;max-width: 0;overflow: hidden;text-align: left;background-color: #f0f8ff;}#sk-container-id-3 div.sk-toggleable__content pre {margin: 0.2em;color: black;border-radius: 0.25em;background-color: #f0f8ff;}#sk-container-id-3 input.sk-toggleable__control:checked~div.sk-toggleable__content {max-height: 200px;max-width: 100%;overflow: auto;}#sk-container-id-3 input.sk-toggleable__control:checked~label.sk-toggleable__label-arrow:before {content: \"▾\";}#sk-container-id-3 div.sk-estimator input.sk-toggleable__control:checked~label.sk-toggleable__label {background-color: #d4ebff;}#sk-container-id-3 div.sk-label input.sk-toggleable__control:checked~label.sk-toggleable__label {background-color: #d4ebff;}#sk-container-id-3 input.sk-hidden--visually {border: 0;clip: rect(1px 1px 1px 1px);clip: rect(1px, 1px, 1px, 1px);height: 1px;margin: -1px;overflow: hidden;padding: 0;position: absolute;width: 1px;}#sk-container-id-3 div.sk-estimator {font-family: monospace;background-color: #f0f8ff;border: 1px dotted black;border-radius: 0.25em;box-sizing: border-box;margin-bottom: 0.5em;}#sk-container-id-3 div.sk-estimator:hover {background-color: #d4ebff;}#sk-container-id-3 div.sk-parallel-item::after {content: \"\";width: 100%;border-bottom: 1px solid gray;flex-grow: 1;}#sk-container-id-3 div.sk-label:hover label.sk-toggleable__label {background-color: #d4ebff;}#sk-container-id-3 div.sk-serial::before {content: \"\";position: absolute;border-left: 1px solid gray;box-sizing: border-box;top: 0;bottom: 0;left: 50%;z-index: 0;}#sk-container-id-3 div.sk-serial {display: flex;flex-direction: column;align-items: center;background-color: white;padding-right: 0.2em;padding-left: 0.2em;position: relative;}#sk-container-id-3 div.sk-item {position: relative;z-index: 1;}#sk-container-id-3 div.sk-parallel {display: flex;align-items: stretch;justify-content: center;background-color: white;position: relative;}#sk-container-id-3 div.sk-item::before, #sk-container-id-3 div.sk-parallel-item::before {content: \"\";position: absolute;border-left: 1px solid gray;box-sizing: border-box;top: 0;bottom: 0;left: 50%;z-index: -1;}#sk-container-id-3 div.sk-parallel-item {display: flex;flex-direction: column;z-index: 1;position: relative;background-color: white;}#sk-container-id-3 div.sk-parallel-item:first-child::after {align-self: flex-end;width: 50%;}#sk-container-id-3 div.sk-parallel-item:last-child::after {align-self: flex-start;width: 50%;}#sk-container-id-3 div.sk-parallel-item:only-child::after {width: 0;}#sk-container-id-3 div.sk-dashed-wrapped {border: 1px dashed gray;margin: 0 0.4em 0.5em 0.4em;box-sizing: border-box;padding-bottom: 0.4em;background-color: white;}#sk-container-id-3 div.sk-label label {font-family: monospace;font-weight: bold;display: inline-block;line-height: 1.2em;}#sk-container-id-3 div.sk-label-container {text-align: center;}#sk-container-id-3 div.sk-container {/* jupyter's `normalize.less` sets `[hidden] { display: none; }` but bootstrap.min.css set `[hidden] { display: none !important; }` so we also need the `!important` here to be able to override the default hidden behavior on the sphinx rendered scikit-learn.org. See: https://github.com/scikit-learn/scikit-learn/issues/21755 */display: inline-block !important;position: relative;}#sk-container-id-3 div.sk-text-repr-fallback {display: none;}</style><div id=\"sk-container-id-3\" class=\"sk-top-container\"><div class=\"sk-text-repr-fallback\"><pre>SVC(kernel=&#x27;linear&#x27;)</pre><b>In a Jupyter environment, please rerun this cell to show the HTML representation or trust the notebook. <br />On GitHub, the HTML representation is unable to render, please try loading this page with nbviewer.org.</b></div><div class=\"sk-container\" hidden><div class=\"sk-item\"><div class=\"sk-estimator sk-toggleable\"><input class=\"sk-toggleable__control sk-hidden--visually\" id=\"sk-estimator-id-3\" type=\"checkbox\" checked><label for=\"sk-estimator-id-3\" class=\"sk-toggleable__label sk-toggleable__label-arrow\">SVC</label><div class=\"sk-toggleable__content\"><pre>SVC(kernel=&#x27;linear&#x27;)</pre></div></div></div></div></div>"
      ],
      "text/plain": [
       "SVC(kernel='linear')"
      ]
     },
     "execution_count": 20,
     "metadata": {},
     "output_type": "execute_result"
    }
   ],
   "source": [
    "clf = SVC(kernel='linear')\n",
    "clf.fit(X_train, y_train)"
   ]
  },
  {
   "cell_type": "code",
   "execution_count": 21,
   "id": "fd8b3099",
   "metadata": {},
   "outputs": [],
   "source": [
    "X_train_s=scaler.transform(X_train)\n",
    "y_train_s=y_train.values\n",
    "X_test_s=scaler.transform(X_test)\n",
    "y_test_s=y_test.values"
   ]
  },
  {
   "cell_type": "code",
   "execution_count": 22,
   "id": "9d13800f",
   "metadata": {},
   "outputs": [
    {
     "name": "stderr",
     "output_type": "stream",
     "text": [
      "C:\\Users\\023\\anaconda3\\envs\\flyai\\lib\\site-packages\\sklearn\\base.py:409: UserWarning: X does not have valid feature names, but SVC was fitted with feature names\n",
      "  warnings.warn(\n"
     ]
    },
    {
     "data": {
      "text/plain": [
       "0.31666666666666665"
      ]
     },
     "execution_count": 22,
     "metadata": {},
     "output_type": "execute_result"
    }
   ],
   "source": [
    "clf.score(X_train_s, y_train_s)"
   ]
  },
  {
   "cell_type": "code",
   "execution_count": 23,
   "id": "4757f1c1",
   "metadata": {},
   "outputs": [
    {
     "data": {
      "text/plain": [
       "array([[-0.04630492,  0.52107128, -1.00301993, -0.46411958],\n",
       "       [-0.00705051,  0.17887454, -0.53845157, -0.29220526],\n",
       "       [ 0.50018059,  0.62930057, -1.92317882, -2.01177648]])"
      ]
     },
     "execution_count": 23,
     "metadata": {},
     "output_type": "execute_result"
    }
   ],
   "source": [
    "clf.coef_"
   ]
  },
  {
   "cell_type": "code",
   "execution_count": 24,
   "id": "2ad1c102",
   "metadata": {},
   "outputs": [
    {
     "data": {
      "text/plain": [
       "array([1.45331704, 1.50715097, 7.88441182])"
      ]
     },
     "execution_count": 24,
     "metadata": {},
     "output_type": "execute_result"
    }
   ],
   "source": [
    "clf.intercept_"
   ]
  },
  {
   "cell_type": "code",
   "execution_count": 25,
   "id": "a554ac2d",
   "metadata": {},
   "outputs": [
    {
     "name": "stderr",
     "output_type": "stream",
     "text": [
      "C:\\Users\\023\\anaconda3\\envs\\flyai\\lib\\site-packages\\sklearn\\base.py:409: UserWarning: X does not have valid feature names, but SVC was fitted with feature names\n",
      "  warnings.warn(\n"
     ]
    },
    {
     "data": {
      "text/plain": [
       "0.4"
      ]
     },
     "execution_count": 25,
     "metadata": {},
     "output_type": "execute_result"
    }
   ],
   "source": [
    "clf.score(X_test_s, y_test_s)"
   ]
  },
  {
   "cell_type": "code",
   "execution_count": 26,
   "id": "397fa365",
   "metadata": {},
   "outputs": [
    {
     "name": "stderr",
     "output_type": "stream",
     "text": [
      "C:\\Users\\023\\anaconda3\\envs\\flyai\\lib\\site-packages\\sklearn\\base.py:409: UserWarning: X does not have valid feature names, but SVC was fitted with feature names\n",
      "  warnings.warn(\n"
     ]
    }
   ],
   "source": [
    "y_pred = clf.predict(X_test_s)"
   ]
  },
  {
   "cell_type": "code",
   "execution_count": 27,
   "id": "2e90e4ff",
   "metadata": {},
   "outputs": [
    {
     "name": "stdout",
     "output_type": "stream",
     "text": [
      "accuracy: 0.4\n",
      "precision: 0.13333333333333333\n",
      "recall: 0.3333333333333333\n"
     ]
    },
    {
     "name": "stderr",
     "output_type": "stream",
     "text": [
      "C:\\Users\\023\\anaconda3\\envs\\flyai\\lib\\site-packages\\sklearn\\metrics\\_classification.py:1344: UndefinedMetricWarning: Precision is ill-defined and being set to 0.0 in labels with no predicted samples. Use `zero_division` parameter to control this behavior.\n",
      "  _warn_prf(average, modifier, msg_start, len(result))\n"
     ]
    }
   ],
   "source": [
    "my.print_score(y_test_s, y_pred, average='macro')"
   ]
  },
  {
   "cell_type": "code",
   "execution_count": 28,
   "id": "398fb943",
   "metadata": {},
   "outputs": [
    {
     "data": {
      "image/png": "[encoded data removed]",
      "text/plain": [
       "<Figure size 500x400 with 1 Axes>"
      ]
     },
     "metadata": {},
     "output_type": "display_data"
    }
   ],
   "source": [
    "my.plot_confusion_matrix(y_test_s,y_pred)"
   ]
  },
  {
   "cell_type": "markdown",
   "id": "c2677f14",
   "metadata": {},
   "source": [
    "# 베스트 모델 찾기"
   ]
  },
  {
   "cell_type": "code",
   "execution_count": 29,
   "id": "6a1d8185",
   "metadata": {},
   "outputs": [],
   "source": [
    "scaler = MinMaxScaler()\n",
    "scaler.fit(X_train)\n",
    "X_train_s=scaler.transform(X_train)\n",
    "y_train_s=y_train.values"
   ]
  },
  {
   "cell_type": "code",
   "execution_count": 30,
   "id": "58705753",
   "metadata": {},
   "outputs": [
    {
     "data": {
      "text/plain": [
       "(numpy.ndarray, numpy.ndarray)"
      ]
     },
     "execution_count": 30,
     "metadata": {},
     "output_type": "execute_result"
    }
   ],
   "source": [
    "type(X_train_s), type(y_train_s)"
   ]
  },
  {
   "cell_type": "markdown",
   "id": "db63e319",
   "metadata": {},
   "source": [
    "### 모델 준비"
   ]
  },
  {
   "cell_type": "code",
   "execution_count": 31,
   "id": "d4582d9e",
   "metadata": {},
   "outputs": [
    {
     "name": "stdout",
     "output_type": "stream",
     "text": [
      "linear 0.9666666666666667\n",
      "linearSVC 0.9416666666666667\n",
      "poly 0.9916666666666667\n",
      "rbf 0.9666666666666667\n",
      "knn_5 0.9666666666666667\n",
      "knn_9 0.975\n"
     ]
    }
   ],
   "source": [
    "from sklearn.neighbors import KNeighborsClassifier\n",
    "from sklearn.svm import LinearSVC\n",
    "names =['linear', 'linearSVC', 'poly', 'rbf','knn_5','knn_9']\n",
    "models = [\n",
    "    SVC(kernel ='linear', C=1),\n",
    "    LinearSVC(C=1,max_iter=1000),\n",
    "    SVC(kernel='poly', degree=3),\n",
    "    SVC(kernel='rbf', C=1, gamma=0.7),\n",
    "    KNeighborsClassifier(n_neighbors=5),\n",
    "    KNeighborsClassifier(n_neighbors=9)\n",
    "]\n",
    "\n",
    "scores = {}\n",
    "for name, model in zip(names, models):\n",
    "    model.fit(X_train_s, y_train_s)\n",
    "    score = model.score(X_train_s, y_train_s)\n",
    "    print(name,score)\n",
    "    scores[name] = score"
   ]
  },
  {
   "cell_type": "code",
   "execution_count": 32,
   "id": "5442b190",
   "metadata": {},
   "outputs": [
    {
     "data": {
      "text/plain": [
       "{'linear': 0.9666666666666667,\n",
       " 'linearSVC': 0.9416666666666667,\n",
       " 'poly': 0.9916666666666667,\n",
       " 'rbf': 0.9666666666666667,\n",
       " 'knn_5': 0.9666666666666667,\n",
       " 'knn_9': 0.975}"
      ]
     },
     "execution_count": 32,
     "metadata": {},
     "output_type": "execute_result"
    }
   ],
   "source": [
    "scores"
   ]
  },
  {
   "cell_type": "code",
   "execution_count": 33,
   "id": "f8d406a0",
   "metadata": {},
   "outputs": [
    {
     "data": {
      "text/plain": [
       "<AxesSubplot: ylabel='Count'>"
      ]
     },
     "execution_count": 33,
     "metadata": {},
     "output_type": "execute_result"
    },
    {
     "data": {
      "image/png": "[encoded data removed]",
      "text/plain": [
       "<Figure size 1000x500 with 4 Axes>"
      ]
     },
     "metadata": {},
     "output_type": "display_data"
    }
   ],
   "source": [
    "fig, axes = plt.subplots(2,2, figsize=(10,5))\n",
    "sns.scatterplot(data=scores, ax=axes[0,0])\n",
    "sns.histplot(data=scores, ax=axes[0,1])"
   ]
  },
  {
   "cell_type": "markdown",
   "id": "c93dfb91",
   "metadata": {},
   "source": [
    "### GridSearch"
   ]
  },
  {
   "cell_type": "code",
   "execution_count": 34,
   "id": "ca89db3b",
   "metadata": {},
   "outputs": [
    {
     "data": {
      "text/plain": [
       "(numpy.ndarray, numpy.ndarray)"
      ]
     },
     "execution_count": 34,
     "metadata": {},
     "output_type": "execute_result"
    }
   ],
   "source": [
    "type(X_train_s),type(y_train_s)"
   ]
  },
  {
   "cell_type": "code",
   "execution_count": 35,
   "id": "3a288483",
   "metadata": {},
   "outputs": [
    {
     "data": {
      "text/plain": [
       "[{'C': [0.001, 0.01, 0.1, 1, 10, 100, 1000],\n",
       "  'gamma': [0.001, 0.01, 0.1, 1, 10, 100, 1000],\n",
       "  'kernel': ['rbf']},\n",
       " {'C': [0.001, 0.01, 0.1, 1, 10, 100, 1000], 'kernel': ['linear']},\n",
       " {'C': [0.001, 0.01, 0.1, 1, 10, 100, 1000],\n",
       "  'degree': [2, 3],\n",
       "  'kernel': ['poly']}]"
      ]
     },
     "execution_count": 35,
     "metadata": {},
     "output_type": "execute_result"
    }
   ],
   "source": [
    "param_range = [0.001,0.01, 0.1,1,10,100,1000]\n",
    "params = [\n",
    "    {\n",
    "        'C' : param_range,\n",
    "        'gamma' : param_range,\n",
    "        'kernel' : ['rbf']\n",
    "    },\n",
    "    {\n",
    "        'C' : param_range,\n",
    "        'kernel' : ['linear']\n",
    "    }\n",
    "    ,\n",
    "    {\n",
    "        'C' : param_range,\n",
    "        'degree' : [2,3],#2차원 3차원\n",
    "        'kernel' : ['poly'] \n",
    "    }\n",
    "]\n",
    "params\n"
   ]
  },
  {
   "cell_type": "code",
   "execution_count": 36,
   "id": "246688af",
   "metadata": {},
   "outputs": [],
   "source": [
    "from sklearn.model_selection import GridSearchCV, RandomizedSearchCV"
   ]
  },
  {
   "cell_type": "code",
   "execution_count": 37,
   "id": "845618a9",
   "metadata": {},
   "outputs": [
    {
     "name": "stdout",
     "output_type": "stream",
     "text": [
      "Fitting 3 folds for each of 70 candidates, totalling 210 fits\n",
      "[CV 1/3] END ..C=0.001, gamma=0.001, kernel=rbf;, score=0.350 total time=   0.0s\n",
      "[CV 2/3] END ..C=0.001, gamma=0.001, kernel=rbf;, score=0.350 total time=   0.0s\n",
      "[CV 3/3] END ..C=0.001, gamma=0.001, kernel=rbf;, score=0.350 total time=   0.0s\n",
      "[CV 1/3] END ...C=0.001, gamma=0.01, kernel=rbf;, score=0.350 total time=   0.0s\n",
      "[CV 2/3] END ...C=0.001, gamma=0.01, kernel=rbf;, score=0.350 total time=   0.0s\n",
      "[CV 3/3] END ...C=0.001, gamma=0.01, kernel=rbf;, score=0.350 total time=   0.0s\n",
      "[CV 1/3] END ....C=0.001, gamma=0.1, kernel=rbf;, score=0.350 total time=   0.0s\n",
      "[CV 2/3] END ....C=0.001, gamma=0.1, kernel=rbf;, score=0.350 total time=   0.0s\n",
      "[CV 3/3] END ....C=0.001, gamma=0.1, kernel=rbf;, score=0.350 total time=   0.0s\n",
      "[CV 1/3] END ......C=0.001, gamma=1, kernel=rbf;, score=0.350 total time=   0.0s\n",
      "[CV 2/3] END ......C=0.001, gamma=1, kernel=rbf;, score=0.350 total time=   0.0s\n",
      "[CV 3/3] END ......C=0.001, gamma=1, kernel=rbf;, score=0.350 total time=   0.0s\n",
      "[CV 1/3] END .....C=0.001, gamma=10, kernel=rbf;, score=0.350 total time=   0.0s\n",
      "[CV 2/3] END .....C=0.001, gamma=10, kernel=rbf;, score=0.350 total time=   0.0s\n",
      "[CV 3/3] END .....C=0.001, gamma=10, kernel=rbf;, score=0.350 total time=   0.0s\n",
      "[CV 1/3] END ....C=0.001, gamma=100, kernel=rbf;, score=0.350 total time=   0.0s\n",
      "[CV 2/3] END ....C=0.001, gamma=100, kernel=rbf;, score=0.350 total time=   0.0s\n",
      "[CV 3/3] END ....C=0.001, gamma=100, kernel=rbf;, score=0.350 total time=   0.0s\n",
      "[CV 1/3] END ...C=0.001, gamma=1000, kernel=rbf;, score=0.350 total time=   0.0s\n",
      "[CV 2/3] END ...C=0.001, gamma=1000, kernel=rbf;, score=0.350 total time=   0.0s\n",
      "[CV 3/3] END ...C=0.001, gamma=1000, kernel=rbf;, score=0.350 total time=   0.0s\n",
      "[CV 1/3] END ...C=0.01, gamma=0.001, kernel=rbf;, score=0.350 total time=   0.0s\n",
      "[CV 2/3] END ...C=0.01, gamma=0.001, kernel=rbf;, score=0.350 total time=   0.0s\n",
      "[CV 3/3] END ...C=0.01, gamma=0.001, kernel=rbf;, score=0.350 total time=   0.0s\n",
      "[CV 1/3] END ....C=0.01, gamma=0.01, kernel=rbf;, score=0.350 total time=   0.0s\n",
      "[CV 2/3] END ....C=0.01, gamma=0.01, kernel=rbf;, score=0.350 total time=   0.0s\n",
      "[CV 3/3] END ....C=0.01, gamma=0.01, kernel=rbf;, score=0.350 total time=   0.0s\n",
      "[CV 1/3] END .....C=0.01, gamma=0.1, kernel=rbf;, score=0.350 total time=   0.0s\n",
      "[CV 2/3] END .....C=0.01, gamma=0.1, kernel=rbf;, score=0.350 total time=   0.0s\n",
      "[CV 3/3] END .....C=0.01, gamma=0.1, kernel=rbf;, score=0.350 total time=   0.0s\n",
      "[CV 1/3] END .......C=0.01, gamma=1, kernel=rbf;, score=0.350 total time=   0.0s\n",
      "[CV 2/3] END .......C=0.01, gamma=1, kernel=rbf;, score=0.350 total time=   0.0s\n",
      "[CV 3/3] END .......C=0.01, gamma=1, kernel=rbf;, score=0.350 total time=   0.0s\n",
      "[CV 1/3] END ......C=0.01, gamma=10, kernel=rbf;, score=0.350 total time=   0.0s\n",
      "[CV 2/3] END ......C=0.01, gamma=10, kernel=rbf;, score=0.350 total time=   0.0s\n",
      "[CV 3/3] END ......C=0.01, gamma=10, kernel=rbf;, score=0.350 total time=   0.0s\n",
      "[CV 1/3] END .....C=0.01, gamma=100, kernel=rbf;, score=0.350 total time=   0.0s\n",
      "[CV 2/3] END .....C=0.01, gamma=100, kernel=rbf;, score=0.350 total time=   0.0s\n",
      "[CV 3/3] END .....C=0.01, gamma=100, kernel=rbf;, score=0.350 total time=   0.0s\n",
      "[CV 1/3] END ....C=0.01, gamma=1000, kernel=rbf;, score=0.350 total time=   0.0s\n",
      "[CV 2/3] END ....C=0.01, gamma=1000, kernel=rbf;, score=0.350 total time=   0.0s\n",
      "[CV 3/3] END ....C=0.01, gamma=1000, kernel=rbf;, score=0.350 total time=   0.0s\n",
      "[CV 1/3] END ....C=0.1, gamma=0.001, kernel=rbf;, score=0.350 total time=   0.0s\n",
      "[CV 2/3] END ....C=0.1, gamma=0.001, kernel=rbf;, score=0.350 total time=   0.0s\n",
      "[CV 3/3] END ....C=0.1, gamma=0.001, kernel=rbf;, score=0.350 total time=   0.0s\n",
      "[CV 1/3] END .....C=0.1, gamma=0.01, kernel=rbf;, score=0.350 total time=   0.0s\n",
      "[CV 2/3] END .....C=0.1, gamma=0.01, kernel=rbf;, score=0.350 total time=   0.0s\n",
      "[CV 3/3] END .....C=0.1, gamma=0.01, kernel=rbf;, score=0.350 total time=   0.0s\n",
      "[CV 1/3] END ......C=0.1, gamma=0.1, kernel=rbf;, score=0.350 total time=   0.0s\n",
      "[CV 2/3] END ......C=0.1, gamma=0.1, kernel=rbf;, score=0.350 total time=   0.0s\n",
      "[CV 3/3] END ......C=0.1, gamma=0.1, kernel=rbf;, score=0.350 total time=   0.0s\n",
      "[CV 1/3] END ........C=0.1, gamma=1, kernel=rbf;, score=0.925 total time=   0.0s\n",
      "[CV 2/3] END ........C=0.1, gamma=1, kernel=rbf;, score=0.850 total time=   0.0s\n",
      "[CV 3/3] END ........C=0.1, gamma=1, kernel=rbf;, score=0.800 total time=   0.0s\n",
      "[CV 1/3] END .......C=0.1, gamma=10, kernel=rbf;, score=0.925 total time=   0.0s\n",
      "[CV 2/3] END .......C=0.1, gamma=10, kernel=rbf;, score=0.950 total time=   0.0s\n",
      "[CV 3/3] END .......C=0.1, gamma=10, kernel=rbf;, score=1.000 total time=   0.0s\n",
      "[CV 1/3] END ......C=0.1, gamma=100, kernel=rbf;, score=0.350 total time=   0.0s\n",
      "[CV 2/3] END ......C=0.1, gamma=100, kernel=rbf;, score=0.350 total time=   0.0s\n",
      "[CV 3/3] END ......C=0.1, gamma=100, kernel=rbf;, score=0.350 total time=   0.0s\n",
      "[CV 1/3] END .....C=0.1, gamma=1000, kernel=rbf;, score=0.350 total time=   0.0s\n",
      "[CV 2/3] END .....C=0.1, gamma=1000, kernel=rbf;, score=0.350 total time=   0.0s\n",
      "[CV 3/3] END .....C=0.1, gamma=1000, kernel=rbf;, score=0.350 total time=   0.0s\n",
      "[CV 1/3] END ......C=1, gamma=0.001, kernel=rbf;, score=0.350 total time=   0.0s\n",
      "[CV 2/3] END ......C=1, gamma=0.001, kernel=rbf;, score=0.350 total time=   0.0s\n",
      "[CV 3/3] END ......C=1, gamma=0.001, kernel=rbf;, score=0.350 total time=   0.0s\n",
      "[CV 1/3] END .......C=1, gamma=0.01, kernel=rbf;, score=0.350 total time=   0.0s\n",
      "[CV 2/3] END .......C=1, gamma=0.01, kernel=rbf;, score=0.350 total time=   0.0s\n",
      "[CV 3/3] END .......C=1, gamma=0.01, kernel=rbf;, score=0.350 total time=   0.0s\n",
      "[CV 1/3] END ........C=1, gamma=0.1, kernel=rbf;, score=0.900 total time=   0.0s\n",
      "[CV 2/3] END ........C=1, gamma=0.1, kernel=rbf;, score=0.950 total time=   0.0s\n",
      "[CV 3/3] END ........C=1, gamma=0.1, kernel=rbf;, score=0.925 total time=   0.0s\n",
      "[CV 1/3] END ..........C=1, gamma=1, kernel=rbf;, score=0.925 total time=   0.0s\n",
      "[CV 2/3] END ..........C=1, gamma=1, kernel=rbf;, score=0.975 total time=   0.0s\n",
      "[CV 3/3] END ..........C=1, gamma=1, kernel=rbf;, score=1.000 total time=   0.0s\n",
      "[CV 1/3] END .........C=1, gamma=10, kernel=rbf;, score=0.925 total time=   0.0s\n",
      "[CV 2/3] END .........C=1, gamma=10, kernel=rbf;, score=0.950 total time=   0.0s\n",
      "[CV 3/3] END .........C=1, gamma=10, kernel=rbf;, score=0.975 total time=   0.0s\n",
      "[CV 1/3] END ........C=1, gamma=100, kernel=rbf;, score=0.950 total time=   0.0s\n",
      "[CV 2/3] END ........C=1, gamma=100, kernel=rbf;, score=0.925 total time=   0.0s\n",
      "[CV 3/3] END ........C=1, gamma=100, kernel=rbf;, score=0.925 total time=   0.0s\n",
      "[CV 1/3] END .......C=1, gamma=1000, kernel=rbf;, score=0.400 total time=   0.0s\n",
      "[CV 2/3] END .......C=1, gamma=1000, kernel=rbf;, score=0.400 total time=   0.0s\n",
      "[CV 3/3] END .......C=1, gamma=1000, kernel=rbf;, score=0.475 total time=   0.0s\n",
      "[CV 1/3] END .....C=10, gamma=0.001, kernel=rbf;, score=0.350 total time=   0.0s\n",
      "[CV 2/3] END .....C=10, gamma=0.001, kernel=rbf;, score=0.350 total time=   0.0s\n",
      "[CV 3/3] END .....C=10, gamma=0.001, kernel=rbf;, score=0.350 total time=   0.0s\n",
      "[CV 1/3] END ......C=10, gamma=0.01, kernel=rbf;, score=0.900 total time=   0.0s\n",
      "[CV 2/3] END ......C=10, gamma=0.01, kernel=rbf;, score=0.950 total time=   0.0s\n",
      "[CV 3/3] END ......C=10, gamma=0.01, kernel=rbf;, score=0.925 total time=   0.0s\n",
      "[CV 1/3] END .......C=10, gamma=0.1, kernel=rbf;, score=0.950 total time=   0.0s\n",
      "[CV 2/3] END .......C=10, gamma=0.1, kernel=rbf;, score=0.975 total time=   0.0s\n",
      "[CV 3/3] END .......C=10, gamma=0.1, kernel=rbf;, score=1.000 total time=   0.0s\n",
      "[CV 1/3] END .........C=10, gamma=1, kernel=rbf;, score=0.950 total time=   0.0s\n",
      "[CV 2/3] END .........C=10, gamma=1, kernel=rbf;, score=0.975 total time=   0.0s\n",
      "[CV 3/3] END .........C=10, gamma=1, kernel=rbf;, score=0.975 total time=   0.0s\n",
      "[CV 1/3] END ........C=10, gamma=10, kernel=rbf;, score=0.950 total time=   0.0s\n",
      "[CV 2/3] END ........C=10, gamma=10, kernel=rbf;, score=0.975 total time=   0.0s\n",
      "[CV 3/3] END ........C=10, gamma=10, kernel=rbf;, score=0.925 total time=   0.0s\n",
      "[CV 1/3] END .......C=10, gamma=100, kernel=rbf;, score=0.950 total time=   0.0s\n",
      "[CV 2/3] END .......C=10, gamma=100, kernel=rbf;, score=0.900 total time=   0.0s\n",
      "[CV 3/3] END .......C=10, gamma=100, kernel=rbf;, score=0.925 total time=   0.0s\n",
      "[CV 1/3] END ......C=10, gamma=1000, kernel=rbf;, score=0.475 total time=   0.0s\n",
      "[CV 2/3] END ......C=10, gamma=1000, kernel=rbf;, score=0.425 total time=   0.0s\n",
      "[CV 3/3] END ......C=10, gamma=1000, kernel=rbf;, score=0.475 total time=   0.0s\n",
      "[CV 1/3] END ....C=100, gamma=0.001, kernel=rbf;, score=0.900 total time=   0.0s\n",
      "[CV 2/3] END ....C=100, gamma=0.001, kernel=rbf;, score=0.950 total time=   0.0s\n",
      "[CV 3/3] END ....C=100, gamma=0.001, kernel=rbf;, score=0.925 total time=   0.0s\n",
      "[CV 1/3] END .....C=100, gamma=0.01, kernel=rbf;, score=0.950 total time=   0.0s\n",
      "[CV 2/3] END .....C=100, gamma=0.01, kernel=rbf;, score=0.975 total time=   0.0s\n",
      "[CV 3/3] END .....C=100, gamma=0.01, kernel=rbf;, score=1.000 total time=   0.0s\n",
      "[CV 1/3] END ......C=100, gamma=0.1, kernel=rbf;, score=0.950 total time=   0.0s\n",
      "[CV 2/3] END ......C=100, gamma=0.1, kernel=rbf;, score=0.950 total time=   0.0s\n",
      "[CV 3/3] END ......C=100, gamma=0.1, kernel=rbf;, score=0.975 total time=   0.0s\n",
      "[CV 1/3] END ........C=100, gamma=1, kernel=rbf;, score=0.950 total time=   0.0s\n",
      "[CV 2/3] END ........C=100, gamma=1, kernel=rbf;, score=0.925 total time=   0.0s\n",
      "[CV 3/3] END ........C=100, gamma=1, kernel=rbf;, score=0.950 total time=   0.0s\n",
      "[CV 1/3] END .......C=100, gamma=10, kernel=rbf;, score=0.950 total time=   0.0s\n",
      "[CV 2/3] END .......C=100, gamma=10, kernel=rbf;, score=0.950 total time=   0.0s\n"
     ]
    },
    {
     "name": "stdout",
     "output_type": "stream",
     "text": [
      "[CV 3/3] END .......C=100, gamma=10, kernel=rbf;, score=0.950 total time=   0.0s\n",
      "[CV 1/3] END ......C=100, gamma=100, kernel=rbf;, score=0.950 total time=   0.0s\n",
      "[CV 2/3] END ......C=100, gamma=100, kernel=rbf;, score=0.900 total time=   0.0s\n",
      "[CV 3/3] END ......C=100, gamma=100, kernel=rbf;, score=0.925 total time=   0.0s\n",
      "[CV 1/3] END .....C=100, gamma=1000, kernel=rbf;, score=0.475 total time=   0.0s\n",
      "[CV 2/3] END .....C=100, gamma=1000, kernel=rbf;, score=0.425 total time=   0.0s\n",
      "[CV 3/3] END .....C=100, gamma=1000, kernel=rbf;, score=0.475 total time=   0.0s\n",
      "[CV 1/3] END ...C=1000, gamma=0.001, kernel=rbf;, score=0.950 total time=   0.0s\n",
      "[CV 2/3] END ...C=1000, gamma=0.001, kernel=rbf;, score=0.975 total time=   0.0s\n",
      "[CV 3/3] END ...C=1000, gamma=0.001, kernel=rbf;, score=1.000 total time=   0.0s\n",
      "[CV 1/3] END ....C=1000, gamma=0.01, kernel=rbf;, score=0.950 total time=   0.0s\n",
      "[CV 2/3] END ....C=1000, gamma=0.01, kernel=rbf;, score=0.925 total time=   0.0s\n",
      "[CV 3/3] END ....C=1000, gamma=0.01, kernel=rbf;, score=0.975 total time=   0.0s\n",
      "[CV 1/3] END .....C=1000, gamma=0.1, kernel=rbf;, score=0.925 total time=   0.0s\n",
      "[CV 2/3] END .....C=1000, gamma=0.1, kernel=rbf;, score=0.950 total time=   0.0s\n",
      "[CV 3/3] END .....C=1000, gamma=0.1, kernel=rbf;, score=0.950 total time=   0.0s\n",
      "[CV 1/3] END .......C=1000, gamma=1, kernel=rbf;, score=0.950 total time=   0.0s\n",
      "[CV 2/3] END .......C=1000, gamma=1, kernel=rbf;, score=0.975 total time=   0.0s\n",
      "[CV 3/3] END .......C=1000, gamma=1, kernel=rbf;, score=0.950 total time=   0.0s\n",
      "[CV 1/3] END ......C=1000, gamma=10, kernel=rbf;, score=0.950 total time=   0.0s\n",
      "[CV 2/3] END ......C=1000, gamma=10, kernel=rbf;, score=0.950 total time=   0.0s\n",
      "[CV 3/3] END ......C=1000, gamma=10, kernel=rbf;, score=0.950 total time=   0.0s\n",
      "[CV 1/3] END .....C=1000, gamma=100, kernel=rbf;, score=0.950 total time=   0.0s\n",
      "[CV 2/3] END .....C=1000, gamma=100, kernel=rbf;, score=0.900 total time=   0.0s\n",
      "[CV 3/3] END .....C=1000, gamma=100, kernel=rbf;, score=0.925 total time=   0.0s\n",
      "[CV 1/3] END ....C=1000, gamma=1000, kernel=rbf;, score=0.475 total time=   0.0s\n",
      "[CV 2/3] END ....C=1000, gamma=1000, kernel=rbf;, score=0.425 total time=   0.0s\n",
      "[CV 3/3] END ....C=1000, gamma=1000, kernel=rbf;, score=0.475 total time=   0.0s\n",
      "[CV 1/3] END ............C=0.001, kernel=linear;, score=0.350 total time=   0.0s\n",
      "[CV 2/3] END ............C=0.001, kernel=linear;, score=0.350 total time=   0.0s\n",
      "[CV 3/3] END ............C=0.001, kernel=linear;, score=0.350 total time=   0.0s\n",
      "[CV 1/3] END .............C=0.01, kernel=linear;, score=0.350 total time=   0.0s\n",
      "[CV 2/3] END .............C=0.01, kernel=linear;, score=0.350 total time=   0.0s\n",
      "[CV 3/3] END .............C=0.01, kernel=linear;, score=0.350 total time=   0.0s\n",
      "[CV 1/3] END ..............C=0.1, kernel=linear;, score=0.750 total time=   0.0s\n",
      "[CV 2/3] END ..............C=0.1, kernel=linear;, score=0.725 total time=   0.0s\n",
      "[CV 3/3] END ..............C=0.1, kernel=linear;, score=0.675 total time=   0.0s\n",
      "[CV 1/3] END ................C=1, kernel=linear;, score=0.925 total time=   0.0s\n",
      "[CV 2/3] END ................C=1, kernel=linear;, score=0.975 total time=   0.0s\n",
      "[CV 3/3] END ................C=1, kernel=linear;, score=0.975 total time=   0.0s\n",
      "[CV 1/3] END ...............C=10, kernel=linear;, score=0.950 total time=   0.0s\n",
      "[CV 2/3] END ...............C=10, kernel=linear;, score=0.975 total time=   0.0s\n",
      "[CV 3/3] END ...............C=10, kernel=linear;, score=0.975 total time=   0.0s\n",
      "[CV 1/3] END ..............C=100, kernel=linear;, score=0.925 total time=   0.0s\n",
      "[CV 2/3] END ..............C=100, kernel=linear;, score=0.925 total time=   0.0s\n",
      "[CV 3/3] END ..............C=100, kernel=linear;, score=0.950 total time=   0.0s\n",
      "[CV 1/3] END .............C=1000, kernel=linear;, score=0.975 total time=   0.0s\n",
      "[CV 2/3] END .............C=1000, kernel=linear;, score=0.950 total time=   0.0s\n",
      "[CV 3/3] END .............C=1000, kernel=linear;, score=0.950 total time=   0.0s\n",
      "[CV 1/3] END ....C=0.001, degree=2, kernel=poly;, score=0.350 total time=   0.0s\n",
      "[CV 2/3] END ....C=0.001, degree=2, kernel=poly;, score=0.350 total time=   0.0s\n",
      "[CV 3/3] END ....C=0.001, degree=2, kernel=poly;, score=0.350 total time=   0.0s\n",
      "[CV 1/3] END ....C=0.001, degree=3, kernel=poly;, score=0.850 total time=   0.0s\n",
      "[CV 2/3] END ....C=0.001, degree=3, kernel=poly;, score=0.825 total time=   0.0s\n",
      "[CV 3/3] END ....C=0.001, degree=3, kernel=poly;, score=0.875 total time=   0.0s\n",
      "[CV 1/3] END .....C=0.01, degree=2, kernel=poly;, score=0.875 total time=   0.0s\n",
      "[CV 2/3] END .....C=0.01, degree=2, kernel=poly;, score=0.850 total time=   0.0s\n",
      "[CV 3/3] END .....C=0.01, degree=2, kernel=poly;, score=0.875 total time=   0.0s\n",
      "[CV 1/3] END .....C=0.01, degree=3, kernel=poly;, score=0.875 total time=   0.0s\n",
      "[CV 2/3] END .....C=0.01, degree=3, kernel=poly;, score=0.950 total time=   0.0s\n",
      "[CV 3/3] END .....C=0.01, degree=3, kernel=poly;, score=0.875 total time=   0.0s\n",
      "[CV 1/3] END ......C=0.1, degree=2, kernel=poly;, score=0.925 total time=   0.0s\n",
      "[CV 2/3] END ......C=0.1, degree=2, kernel=poly;, score=0.975 total time=   0.0s\n",
      "[CV 3/3] END ......C=0.1, degree=2, kernel=poly;, score=0.975 total time=   0.0s\n",
      "[CV 1/3] END ......C=0.1, degree=3, kernel=poly;, score=0.925 total time=   0.0s\n",
      "[CV 2/3] END ......C=0.1, degree=3, kernel=poly;, score=0.975 total time=   0.0s\n",
      "[CV 3/3] END ......C=0.1, degree=3, kernel=poly;, score=0.975 total time=   0.0s\n",
      "[CV 1/3] END ........C=1, degree=2, kernel=poly;, score=0.925 total time=   0.0s\n",
      "[CV 2/3] END ........C=1, degree=2, kernel=poly;, score=0.950 total time=   0.0s\n",
      "[CV 3/3] END ........C=1, degree=2, kernel=poly;, score=0.975 total time=   0.0s\n",
      "[CV 1/3] END ........C=1, degree=3, kernel=poly;, score=0.925 total time=   0.0s\n",
      "[CV 2/3] END ........C=1, degree=3, kernel=poly;, score=0.975 total time=   0.0s\n",
      "[CV 3/3] END ........C=1, degree=3, kernel=poly;, score=0.975 total time=   0.0s\n",
      "[CV 1/3] END .......C=10, degree=2, kernel=poly;, score=0.925 total time=   0.0s\n",
      "[CV 2/3] END .......C=10, degree=2, kernel=poly;, score=0.975 total time=   0.0s\n",
      "[CV 3/3] END .......C=10, degree=2, kernel=poly;, score=0.950 total time=   0.0s\n",
      "[CV 1/3] END .......C=10, degree=3, kernel=poly;, score=0.925 total time=   0.0s\n",
      "[CV 2/3] END .......C=10, degree=3, kernel=poly;, score=0.950 total time=   0.0s\n",
      "[CV 3/3] END .......C=10, degree=3, kernel=poly;, score=0.975 total time=   0.0s\n",
      "[CV 1/3] END ......C=100, degree=2, kernel=poly;, score=0.925 total time=   0.0s\n",
      "[CV 2/3] END ......C=100, degree=2, kernel=poly;, score=0.950 total time=   0.0s\n",
      "[CV 3/3] END ......C=100, degree=2, kernel=poly;, score=0.975 total time=   0.0s\n",
      "[CV 1/3] END ......C=100, degree=3, kernel=poly;, score=0.925 total time=   0.0s\n",
      "[CV 2/3] END ......C=100, degree=3, kernel=poly;, score=0.950 total time=   0.0s\n",
      "[CV 3/3] END ......C=100, degree=3, kernel=poly;, score=0.975 total time=   0.0s\n",
      "[CV 1/3] END .....C=1000, degree=2, kernel=poly;, score=0.925 total time=   0.0s\n",
      "[CV 2/3] END .....C=1000, degree=2, kernel=poly;, score=0.950 total time=   0.0s\n",
      "[CV 3/3] END .....C=1000, degree=2, kernel=poly;, score=0.975 total time=   0.0s\n",
      "[CV 1/3] END .....C=1000, degree=3, kernel=poly;, score=0.925 total time=   0.0s\n",
      "[CV 2/3] END .....C=1000, degree=3, kernel=poly;, score=0.950 total time=   0.0s\n",
      "[CV 3/3] END .....C=1000, degree=3, kernel=poly;, score=0.975 total time=   0.0s\n"
     ]
    },
    {
     "data": {
      "text/html": [
       "<style>#sk-container-id-4 {color: black;background-color: white;}#sk-container-id-4 pre{padding: 0;}#sk-container-id-4 div.sk-toggleable {background-color: white;}#sk-container-id-4 label.sk-toggleable__label {cursor: pointer;display: block;width: 100%;margin-bottom: 0;padding: 0.3em;box-sizing: border-box;text-align: center;}#sk-container-id-4 label.sk-toggleable__label-arrow:before {content: \"▸\";float: left;margin-right: 0.25em;color: #696969;}#sk-container-id-4 label.sk-toggleable__label-arrow:hover:before {color: black;}#sk-container-id-4 div.sk-estimator:hover label.sk-toggleable__label-arrow:before {color: black;}#sk-container-id-4 div.sk-toggleable__content {max-height: 0;max-width: 0;overflow: hidden;text-align: left;background-color: #f0f8ff;}#sk-container-id-4 div.sk-toggleable__content pre {margin: 0.2em;color: black;border-radius: 0.25em;background-color: #f0f8ff;}#sk-container-id-4 input.sk-toggleable__control:checked~div.sk-toggleable__content {max-height: 200px;max-width: 100%;overflow: auto;}#sk-container-id-4 input.sk-toggleable__control:checked~label.sk-toggleable__label-arrow:before {content: \"▾\";}#sk-container-id-4 div.sk-estimator input.sk-toggleable__control:checked~label.sk-toggleable__label {background-color: #d4ebff;}#sk-container-id-4 div.sk-label input.sk-toggleable__control:checked~label.sk-toggleable__label {background-color: #d4ebff;}#sk-container-id-4 input.sk-hidden--visually {border: 0;clip: rect(1px 1px 1px 1px);clip: rect(1px, 1px, 1px, 1px);height: 1px;margin: -1px;overflow: hidden;padding: 0;position: absolute;width: 1px;}#sk-container-id-4 div.sk-estimator {font-family: monospace;background-color: #f0f8ff;border: 1px dotted black;border-radius: 0.25em;box-sizing: border-box;margin-bottom: 0.5em;}#sk-container-id-4 div.sk-estimator:hover {background-color: #d4ebff;}#sk-container-id-4 div.sk-parallel-item::after {content: \"\";width: 100%;border-bottom: 1px solid gray;flex-grow: 1;}#sk-container-id-4 div.sk-label:hover label.sk-toggleable__label {background-color: #d4ebff;}#sk-container-id-4 div.sk-serial::before {content: \"\";position: absolute;border-left: 1px solid gray;box-sizing: border-box;top: 0;bottom: 0;left: 50%;z-index: 0;}#sk-container-id-4 div.sk-serial {display: flex;flex-direction: column;align-items: center;background-color: white;padding-right: 0.2em;padding-left: 0.2em;position: relative;}#sk-container-id-4 div.sk-item {position: relative;z-index: 1;}#sk-container-id-4 div.sk-parallel {display: flex;align-items: stretch;justify-content: center;background-color: white;position: relative;}#sk-container-id-4 div.sk-item::before, #sk-container-id-4 div.sk-parallel-item::before {content: \"\";position: absolute;border-left: 1px solid gray;box-sizing: border-box;top: 0;bottom: 0;left: 50%;z-index: -1;}#sk-container-id-4 div.sk-parallel-item {display: flex;flex-direction: column;z-index: 1;position: relative;background-color: white;}#sk-container-id-4 div.sk-parallel-item:first-child::after {align-self: flex-end;width: 50%;}#sk-container-id-4 div.sk-parallel-item:last-child::after {align-self: flex-start;width: 50%;}#sk-container-id-4 div.sk-parallel-item:only-child::after {width: 0;}#sk-container-id-4 div.sk-dashed-wrapped {border: 1px dashed gray;margin: 0 0.4em 0.5em 0.4em;box-sizing: border-box;padding-bottom: 0.4em;background-color: white;}#sk-container-id-4 div.sk-label label {font-family: monospace;font-weight: bold;display: inline-block;line-height: 1.2em;}#sk-container-id-4 div.sk-label-container {text-align: center;}#sk-container-id-4 div.sk-container {/* jupyter's `normalize.less` sets `[hidden] { display: none; }` but bootstrap.min.css set `[hidden] { display: none !important; }` so we also need the `!important` here to be able to override the default hidden behavior on the sphinx rendered scikit-learn.org. See: https://github.com/scikit-learn/scikit-learn/issues/21755 */display: inline-block !important;position: relative;}#sk-container-id-4 div.sk-text-repr-fallback {display: none;}</style><div id=\"sk-container-id-4\" class=\"sk-top-container\"><div class=\"sk-text-repr-fallback\"><pre>GridSearchCV(cv=3, estimator=SVC(random_state=2023), n_jobs=1,\n",
       "             param_grid=[{&#x27;C&#x27;: [0.001, 0.01, 0.1, 1, 10, 100, 1000],\n",
       "                          &#x27;gamma&#x27;: [0.001, 0.01, 0.1, 1, 10, 100, 1000],\n",
       "                          &#x27;kernel&#x27;: [&#x27;rbf&#x27;]},\n",
       "                         {&#x27;C&#x27;: [0.001, 0.01, 0.1, 1, 10, 100, 1000],\n",
       "                          &#x27;kernel&#x27;: [&#x27;linear&#x27;]},\n",
       "                         {&#x27;C&#x27;: [0.001, 0.01, 0.1, 1, 10, 100, 1000],\n",
       "                          &#x27;degree&#x27;: [2, 3], &#x27;kernel&#x27;: [&#x27;poly&#x27;]}],\n",
       "             scoring=&#x27;accuracy&#x27;, verbose=3)</pre><b>In a Jupyter environment, please rerun this cell to show the HTML representation or trust the notebook. <br />On GitHub, the HTML representation is unable to render, please try loading this page with nbviewer.org.</b></div><div class=\"sk-container\" hidden><div class=\"sk-item sk-dashed-wrapped\"><div class=\"sk-label-container\"><div class=\"sk-label sk-toggleable\"><input class=\"sk-toggleable__control sk-hidden--visually\" id=\"sk-estimator-id-4\" type=\"checkbox\" ><label for=\"sk-estimator-id-4\" class=\"sk-toggleable__label sk-toggleable__label-arrow\">GridSearchCV</label><div class=\"sk-toggleable__content\"><pre>GridSearchCV(cv=3, estimator=SVC(random_state=2023), n_jobs=1,\n",
       "             param_grid=[{&#x27;C&#x27;: [0.001, 0.01, 0.1, 1, 10, 100, 1000],\n",
       "                          &#x27;gamma&#x27;: [0.001, 0.01, 0.1, 1, 10, 100, 1000],\n",
       "                          &#x27;kernel&#x27;: [&#x27;rbf&#x27;]},\n",
       "                         {&#x27;C&#x27;: [0.001, 0.01, 0.1, 1, 10, 100, 1000],\n",
       "                          &#x27;kernel&#x27;: [&#x27;linear&#x27;]},\n",
       "                         {&#x27;C&#x27;: [0.001, 0.01, 0.1, 1, 10, 100, 1000],\n",
       "                          &#x27;degree&#x27;: [2, 3], &#x27;kernel&#x27;: [&#x27;poly&#x27;]}],\n",
       "             scoring=&#x27;accuracy&#x27;, verbose=3)</pre></div></div></div><div class=\"sk-parallel\"><div class=\"sk-parallel-item\"><div class=\"sk-item\"><div class=\"sk-label-container\"><div class=\"sk-label sk-toggleable\"><input class=\"sk-toggleable__control sk-hidden--visually\" id=\"sk-estimator-id-5\" type=\"checkbox\" ><label for=\"sk-estimator-id-5\" class=\"sk-toggleable__label sk-toggleable__label-arrow\">estimator: SVC</label><div class=\"sk-toggleable__content\"><pre>SVC(random_state=2023)</pre></div></div></div><div class=\"sk-serial\"><div class=\"sk-item\"><div class=\"sk-estimator sk-toggleable\"><input class=\"sk-toggleable__control sk-hidden--visually\" id=\"sk-estimator-id-6\" type=\"checkbox\" ><label for=\"sk-estimator-id-6\" class=\"sk-toggleable__label sk-toggleable__label-arrow\">SVC</label><div class=\"sk-toggleable__content\"><pre>SVC(random_state=2023)</pre></div></div></div></div></div></div></div></div></div></div>"
      ],
      "text/plain": [
       "GridSearchCV(cv=3, estimator=SVC(random_state=2023), n_jobs=1,\n",
       "             param_grid=[{'C': [0.001, 0.01, 0.1, 1, 10, 100, 1000],\n",
       "                          'gamma': [0.001, 0.01, 0.1, 1, 10, 100, 1000],\n",
       "                          'kernel': ['rbf']},\n",
       "                         {'C': [0.001, 0.01, 0.1, 1, 10, 100, 1000],\n",
       "                          'kernel': ['linear']},\n",
       "                         {'C': [0.001, 0.01, 0.1, 1, 10, 100, 1000],\n",
       "                          'degree': [2, 3], 'kernel': ['poly']}],\n",
       "             scoring='accuracy', verbose=3)"
      ]
     },
     "execution_count": 37,
     "metadata": {},
     "output_type": "execute_result"
    }
   ],
   "source": [
    "clf = SVC(random_state = 2023) #서포트벡터머신\n",
    "gs = GridSearchCV(estimator = clf, #여러개 생성\n",
    "                 scoring = 'accuracy',\n",
    "                 param_grid = params, #파라미터를 기준으로 하나씩 집어넣음\n",
    "                 cv = 3, #테스트 셋을 여러개로 나눔\n",
    "                 n_jobs = -1, #학습 쓰레드\n",
    "                  verbose=3 #알려주는거\n",
    "                 )\n",
    "gs.fit(X_train_s,y_train_s)"
   ]
  },
  {
   "cell_type": "code",
   "execution_count": 38,
   "id": "a09f1fd4",
   "metadata": {},
   "outputs": [
    {
     "data": {
      "text/html": [
       "<style>#sk-container-id-5 {color: black;background-color: white;}#sk-container-id-5 pre{padding: 0;}#sk-container-id-5 div.sk-toggleable {background-color: white;}#sk-container-id-5 label.sk-toggleable__label {cursor: pointer;display: block;width: 100%;margin-bottom: 0;padding: 0.3em;box-sizing: border-box;text-align: center;}#sk-container-id-5 label.sk-toggleable__label-arrow:before {content: \"▸\";float: left;margin-right: 0.25em;color: #696969;}#sk-container-id-5 label.sk-toggleable__label-arrow:hover:before {color: black;}#sk-container-id-5 div.sk-estimator:hover label.sk-toggleable__label-arrow:before {color: black;}#sk-container-id-5 div.sk-toggleable__content {max-height: 0;max-width: 0;overflow: hidden;text-align: left;background-color: #f0f8ff;}#sk-container-id-5 div.sk-toggleable__content pre {margin: 0.2em;color: black;border-radius: 0.25em;background-color: #f0f8ff;}#sk-container-id-5 input.sk-toggleable__control:checked~div.sk-toggleable__content {max-height: 200px;max-width: 100%;overflow: auto;}#sk-container-id-5 input.sk-toggleable__control:checked~label.sk-toggleable__label-arrow:before {content: \"▾\";}#sk-container-id-5 div.sk-estimator input.sk-toggleable__control:checked~label.sk-toggleable__label {background-color: #d4ebff;}#sk-container-id-5 div.sk-label input.sk-toggleable__control:checked~label.sk-toggleable__label {background-color: #d4ebff;}#sk-container-id-5 input.sk-hidden--visually {border: 0;clip: rect(1px 1px 1px 1px);clip: rect(1px, 1px, 1px, 1px);height: 1px;margin: -1px;overflow: hidden;padding: 0;position: absolute;width: 1px;}#sk-container-id-5 div.sk-estimator {font-family: monospace;background-color: #f0f8ff;border: 1px dotted black;border-radius: 0.25em;box-sizing: border-box;margin-bottom: 0.5em;}#sk-container-id-5 div.sk-estimator:hover {background-color: #d4ebff;}#sk-container-id-5 div.sk-parallel-item::after {content: \"\";width: 100%;border-bottom: 1px solid gray;flex-grow: 1;}#sk-container-id-5 div.sk-label:hover label.sk-toggleable__label {background-color: #d4ebff;}#sk-container-id-5 div.sk-serial::before {content: \"\";position: absolute;border-left: 1px solid gray;box-sizing: border-box;top: 0;bottom: 0;left: 50%;z-index: 0;}#sk-container-id-5 div.sk-serial {display: flex;flex-direction: column;align-items: center;background-color: white;padding-right: 0.2em;padding-left: 0.2em;position: relative;}#sk-container-id-5 div.sk-item {position: relative;z-index: 1;}#sk-container-id-5 div.sk-parallel {display: flex;align-items: stretch;justify-content: center;background-color: white;position: relative;}#sk-container-id-5 div.sk-item::before, #sk-container-id-5 div.sk-parallel-item::before {content: \"\";position: absolute;border-left: 1px solid gray;box-sizing: border-box;top: 0;bottom: 0;left: 50%;z-index: -1;}#sk-container-id-5 div.sk-parallel-item {display: flex;flex-direction: column;z-index: 1;position: relative;background-color: white;}#sk-container-id-5 div.sk-parallel-item:first-child::after {align-self: flex-end;width: 50%;}#sk-container-id-5 div.sk-parallel-item:last-child::after {align-self: flex-start;width: 50%;}#sk-container-id-5 div.sk-parallel-item:only-child::after {width: 0;}#sk-container-id-5 div.sk-dashed-wrapped {border: 1px dashed gray;margin: 0 0.4em 0.5em 0.4em;box-sizing: border-box;padding-bottom: 0.4em;background-color: white;}#sk-container-id-5 div.sk-label label {font-family: monospace;font-weight: bold;display: inline-block;line-height: 1.2em;}#sk-container-id-5 div.sk-label-container {text-align: center;}#sk-container-id-5 div.sk-container {/* jupyter's `normalize.less` sets `[hidden] { display: none; }` but bootstrap.min.css set `[hidden] { display: none !important; }` so we also need the `!important` here to be able to override the default hidden behavior on the sphinx rendered scikit-learn.org. See: https://github.com/scikit-learn/scikit-learn/issues/21755 */display: inline-block !important;position: relative;}#sk-container-id-5 div.sk-text-repr-fallback {display: none;}</style><div id=\"sk-container-id-5\" class=\"sk-top-container\"><div class=\"sk-text-repr-fallback\"><pre>SVC(C=10, gamma=0.1, random_state=2023)</pre><b>In a Jupyter environment, please rerun this cell to show the HTML representation or trust the notebook. <br />On GitHub, the HTML representation is unable to render, please try loading this page with nbviewer.org.</b></div><div class=\"sk-container\" hidden><div class=\"sk-item\"><div class=\"sk-estimator sk-toggleable\"><input class=\"sk-toggleable__control sk-hidden--visually\" id=\"sk-estimator-id-7\" type=\"checkbox\" checked><label for=\"sk-estimator-id-7\" class=\"sk-toggleable__label sk-toggleable__label-arrow\">SVC</label><div class=\"sk-toggleable__content\"><pre>SVC(C=10, gamma=0.1, random_state=2023)</pre></div></div></div></div></div>"
      ],
      "text/plain": [
       "SVC(C=10, gamma=0.1, random_state=2023)"
      ]
     },
     "execution_count": 38,
     "metadata": {},
     "output_type": "execute_result"
    }
   ],
   "source": [
    "gs.best_estimator_"
   ]
  },
  {
   "cell_type": "code",
   "execution_count": 39,
   "id": "40832521",
   "metadata": {},
   "outputs": [
    {
     "data": {
      "text/plain": [
       "0.975"
      ]
     },
     "execution_count": 39,
     "metadata": {},
     "output_type": "execute_result"
    }
   ],
   "source": [
    "gs.best_score_"
   ]
  },
  {
   "cell_type": "code",
   "execution_count": 40,
   "id": "5f02cfd3",
   "metadata": {},
   "outputs": [
    {
     "data": {
      "text/plain": [
       "{'C': 10, 'gamma': 0.1, 'kernel': 'rbf'}"
      ]
     },
     "execution_count": 40,
     "metadata": {},
     "output_type": "execute_result"
    }
   ],
   "source": [
    "gs.best_params_"
   ]
  },
  {
   "cell_type": "markdown",
   "id": "bd36dce8",
   "metadata": {},
   "source": [
    "### 재학습"
   ]
  },
  {
   "cell_type": "code",
   "execution_count": 41,
   "id": "84804a50",
   "metadata": {},
   "outputs": [
    {
     "data": {
      "text/html": [
       "<style>#sk-container-id-6 {color: black;background-color: white;}#sk-container-id-6 pre{padding: 0;}#sk-container-id-6 div.sk-toggleable {background-color: white;}#sk-container-id-6 label.sk-toggleable__label {cursor: pointer;display: block;width: 100%;margin-bottom: 0;padding: 0.3em;box-sizing: border-box;text-align: center;}#sk-container-id-6 label.sk-toggleable__label-arrow:before {content: \"▸\";float: left;margin-right: 0.25em;color: #696969;}#sk-container-id-6 label.sk-toggleable__label-arrow:hover:before {color: black;}#sk-container-id-6 div.sk-estimator:hover label.sk-toggleable__label-arrow:before {color: black;}#sk-container-id-6 div.sk-toggleable__content {max-height: 0;max-width: 0;overflow: hidden;text-align: left;background-color: #f0f8ff;}#sk-container-id-6 div.sk-toggleable__content pre {margin: 0.2em;color: black;border-radius: 0.25em;background-color: #f0f8ff;}#sk-container-id-6 input.sk-toggleable__control:checked~div.sk-toggleable__content {max-height: 200px;max-width: 100%;overflow: auto;}#sk-container-id-6 input.sk-toggleable__control:checked~label.sk-toggleable__label-arrow:before {content: \"▾\";}#sk-container-id-6 div.sk-estimator input.sk-toggleable__control:checked~label.sk-toggleable__label {background-color: #d4ebff;}#sk-container-id-6 div.sk-label input.sk-toggleable__control:checked~label.sk-toggleable__label {background-color: #d4ebff;}#sk-container-id-6 input.sk-hidden--visually {border: 0;clip: rect(1px 1px 1px 1px);clip: rect(1px, 1px, 1px, 1px);height: 1px;margin: -1px;overflow: hidden;padding: 0;position: absolute;width: 1px;}#sk-container-id-6 div.sk-estimator {font-family: monospace;background-color: #f0f8ff;border: 1px dotted black;border-radius: 0.25em;box-sizing: border-box;margin-bottom: 0.5em;}#sk-container-id-6 div.sk-estimator:hover {background-color: #d4ebff;}#sk-container-id-6 div.sk-parallel-item::after {content: \"\";width: 100%;border-bottom: 1px solid gray;flex-grow: 1;}#sk-container-id-6 div.sk-label:hover label.sk-toggleable__label {background-color: #d4ebff;}#sk-container-id-6 div.sk-serial::before {content: \"\";position: absolute;border-left: 1px solid gray;box-sizing: border-box;top: 0;bottom: 0;left: 50%;z-index: 0;}#sk-container-id-6 div.sk-serial {display: flex;flex-direction: column;align-items: center;background-color: white;padding-right: 0.2em;padding-left: 0.2em;position: relative;}#sk-container-id-6 div.sk-item {position: relative;z-index: 1;}#sk-container-id-6 div.sk-parallel {display: flex;align-items: stretch;justify-content: center;background-color: white;position: relative;}#sk-container-id-6 div.sk-item::before, #sk-container-id-6 div.sk-parallel-item::before {content: \"\";position: absolute;border-left: 1px solid gray;box-sizing: border-box;top: 0;bottom: 0;left: 50%;z-index: -1;}#sk-container-id-6 div.sk-parallel-item {display: flex;flex-direction: column;z-index: 1;position: relative;background-color: white;}#sk-container-id-6 div.sk-parallel-item:first-child::after {align-self: flex-end;width: 50%;}#sk-container-id-6 div.sk-parallel-item:last-child::after {align-self: flex-start;width: 50%;}#sk-container-id-6 div.sk-parallel-item:only-child::after {width: 0;}#sk-container-id-6 div.sk-dashed-wrapped {border: 1px dashed gray;margin: 0 0.4em 0.5em 0.4em;box-sizing: border-box;padding-bottom: 0.4em;background-color: white;}#sk-container-id-6 div.sk-label label {font-family: monospace;font-weight: bold;display: inline-block;line-height: 1.2em;}#sk-container-id-6 div.sk-label-container {text-align: center;}#sk-container-id-6 div.sk-container {/* jupyter's `normalize.less` sets `[hidden] { display: none; }` but bootstrap.min.css set `[hidden] { display: none !important; }` so we also need the `!important` here to be able to override the default hidden behavior on the sphinx rendered scikit-learn.org. See: https://github.com/scikit-learn/scikit-learn/issues/21755 */display: inline-block !important;position: relative;}#sk-container-id-6 div.sk-text-repr-fallback {display: none;}</style><div id=\"sk-container-id-6\" class=\"sk-top-container\"><div class=\"sk-text-repr-fallback\"><pre>SVC(C=10, gamma=0.1, random_state=2023)</pre><b>In a Jupyter environment, please rerun this cell to show the HTML representation or trust the notebook. <br />On GitHub, the HTML representation is unable to render, please try loading this page with nbviewer.org.</b></div><div class=\"sk-container\" hidden><div class=\"sk-item\"><div class=\"sk-estimator sk-toggleable\"><input class=\"sk-toggleable__control sk-hidden--visually\" id=\"sk-estimator-id-8\" type=\"checkbox\" checked><label for=\"sk-estimator-id-8\" class=\"sk-toggleable__label sk-toggleable__label-arrow\">SVC</label><div class=\"sk-toggleable__content\"><pre>SVC(C=10, gamma=0.1, random_state=2023)</pre></div></div></div></div></div>"
      ],
      "text/plain": [
       "SVC(C=10, gamma=0.1, random_state=2023)"
      ]
     },
     "execution_count": 41,
     "metadata": {},
     "output_type": "execute_result"
    }
   ],
   "source": [
    "clf = SVC(C=10, gamma= 0.1, kernel= 'rbf', random_state=2023)\n",
    "clf.fit(X_train_s, y_train_s)"
   ]
  },
  {
   "cell_type": "code",
   "execution_count": 42,
   "id": "e2e1f44c",
   "metadata": {},
   "outputs": [
    {
     "data": {
      "text/plain": [
       "0.975"
      ]
     },
     "execution_count": 42,
     "metadata": {},
     "output_type": "execute_result"
    }
   ],
   "source": [
    "clf.score(X_train_s, y_train_s)"
   ]
  },
  {
   "cell_type": "code",
   "execution_count": 43,
   "id": "f2f1ae93",
   "metadata": {},
   "outputs": [
    {
     "data": {
      "text/plain": [
       "0.9666666666666667"
      ]
     },
     "execution_count": 43,
     "metadata": {},
     "output_type": "execute_result"
    }
   ],
   "source": [
    "clf.score(X_test_s, y_test_s)"
   ]
  },
  {
   "cell_type": "code",
   "execution_count": 44,
   "id": "26483213",
   "metadata": {},
   "outputs": [
    {
     "name": "stdout",
     "output_type": "stream",
     "text": [
      "Fitting 3 folds for each of 10 candidates, totalling 30 fits\n",
      "[CV 1/3] END .........C=10, gamma=1, kernel=rbf;, score=0.950 total time=   0.0s\n",
      "[CV 2/3] END .........C=10, gamma=1, kernel=rbf;, score=0.975 total time=   0.0s\n",
      "[CV 3/3] END .........C=10, gamma=1, kernel=rbf;, score=0.975 total time=   0.0s\n",
      "[CV 1/3] END ...C=0.001, gamma=1000, kernel=rbf;, score=0.350 total time=   0.0s\n",
      "[CV 2/3] END ...C=0.001, gamma=1000, kernel=rbf;, score=0.350 total time=   0.0s\n",
      "[CV 3/3] END ...C=0.001, gamma=1000, kernel=rbf;, score=0.350 total time=   0.0s\n",
      "[CV 1/3] END .....C=1000, degree=2, kernel=poly;, score=0.925 total time=   0.0s\n",
      "[CV 2/3] END .....C=1000, degree=2, kernel=poly;, score=0.950 total time=   0.0s\n",
      "[CV 3/3] END .....C=1000, degree=2, kernel=poly;, score=0.975 total time=   0.0s\n",
      "[CV 1/3] END ................C=1, kernel=linear;, score=0.925 total time=   0.0s\n",
      "[CV 2/3] END ................C=1, kernel=linear;, score=0.975 total time=   0.0s\n",
      "[CV 3/3] END ................C=1, kernel=linear;, score=0.975 total time=   0.0s\n",
      "[CV 1/3] END ....C=0.01, gamma=0.01, kernel=rbf;, score=0.350 total time=   0.0s\n",
      "[CV 2/3] END ....C=0.01, gamma=0.01, kernel=rbf;, score=0.350 total time=   0.0s\n",
      "[CV 3/3] END ....C=0.01, gamma=0.01, kernel=rbf;, score=0.350 total time=   0.0s\n",
      "[CV 1/3] END .......C=0.1, gamma=10, kernel=rbf;, score=0.925 total time=   0.0s\n",
      "[CV 2/3] END .......C=0.1, gamma=10, kernel=rbf;, score=0.950 total time=   0.0s\n",
      "[CV 3/3] END .......C=0.1, gamma=10, kernel=rbf;, score=1.000 total time=   0.0s\n",
      "[CV 1/3] END ....C=0.1, gamma=0.001, kernel=rbf;, score=0.350 total time=   0.0s\n",
      "[CV 2/3] END ....C=0.1, gamma=0.001, kernel=rbf;, score=0.350 total time=   0.0s\n",
      "[CV 3/3] END ....C=0.1, gamma=0.001, kernel=rbf;, score=0.350 total time=   0.0s\n",
      "[CV 1/3] END ........C=1, degree=2, kernel=poly;, score=0.925 total time=   0.0s\n",
      "[CV 2/3] END ........C=1, degree=2, kernel=poly;, score=0.950 total time=   0.0s\n",
      "[CV 3/3] END ........C=1, degree=2, kernel=poly;, score=0.975 total time=   0.0s\n",
      "[CV 1/3] END ....C=1000, gamma=1000, kernel=rbf;, score=0.475 total time=   0.0s\n",
      "[CV 2/3] END ....C=1000, gamma=1000, kernel=rbf;, score=0.425 total time=   0.0s\n",
      "[CV 3/3] END ....C=1000, gamma=1000, kernel=rbf;, score=0.475 total time=   0.0s\n",
      "[CV 1/3] END .....C=1000, gamma=100, kernel=rbf;, score=0.950 total time=   0.0s\n",
      "[CV 2/3] END .....C=1000, gamma=100, kernel=rbf;, score=0.900 total time=   0.0s\n",
      "[CV 3/3] END .....C=1000, gamma=100, kernel=rbf;, score=0.925 total time=   0.0s\n"
     ]
    },
    {
     "data": {
      "text/html": [
       "<style>#sk-container-id-7 {color: black;background-color: white;}#sk-container-id-7 pre{padding: 0;}#sk-container-id-7 div.sk-toggleable {background-color: white;}#sk-container-id-7 label.sk-toggleable__label {cursor: pointer;display: block;width: 100%;margin-bottom: 0;padding: 0.3em;box-sizing: border-box;text-align: center;}#sk-container-id-7 label.sk-toggleable__label-arrow:before {content: \"▸\";float: left;margin-right: 0.25em;color: #696969;}#sk-container-id-7 label.sk-toggleable__label-arrow:hover:before {color: black;}#sk-container-id-7 div.sk-estimator:hover label.sk-toggleable__label-arrow:before {color: black;}#sk-container-id-7 div.sk-toggleable__content {max-height: 0;max-width: 0;overflow: hidden;text-align: left;background-color: #f0f8ff;}#sk-container-id-7 div.sk-toggleable__content pre {margin: 0.2em;color: black;border-radius: 0.25em;background-color: #f0f8ff;}#sk-container-id-7 input.sk-toggleable__control:checked~div.sk-toggleable__content {max-height: 200px;max-width: 100%;overflow: auto;}#sk-container-id-7 input.sk-toggleable__control:checked~label.sk-toggleable__label-arrow:before {content: \"▾\";}#sk-container-id-7 div.sk-estimator input.sk-toggleable__control:checked~label.sk-toggleable__label {background-color: #d4ebff;}#sk-container-id-7 div.sk-label input.sk-toggleable__control:checked~label.sk-toggleable__label {background-color: #d4ebff;}#sk-container-id-7 input.sk-hidden--visually {border: 0;clip: rect(1px 1px 1px 1px);clip: rect(1px, 1px, 1px, 1px);height: 1px;margin: -1px;overflow: hidden;padding: 0;position: absolute;width: 1px;}#sk-container-id-7 div.sk-estimator {font-family: monospace;background-color: #f0f8ff;border: 1px dotted black;border-radius: 0.25em;box-sizing: border-box;margin-bottom: 0.5em;}#sk-container-id-7 div.sk-estimator:hover {background-color: #d4ebff;}#sk-container-id-7 div.sk-parallel-item::after {content: \"\";width: 100%;border-bottom: 1px solid gray;flex-grow: 1;}#sk-container-id-7 div.sk-label:hover label.sk-toggleable__label {background-color: #d4ebff;}#sk-container-id-7 div.sk-serial::before {content: \"\";position: absolute;border-left: 1px solid gray;box-sizing: border-box;top: 0;bottom: 0;left: 50%;z-index: 0;}#sk-container-id-7 div.sk-serial {display: flex;flex-direction: column;align-items: center;background-color: white;padding-right: 0.2em;padding-left: 0.2em;position: relative;}#sk-container-id-7 div.sk-item {position: relative;z-index: 1;}#sk-container-id-7 div.sk-parallel {display: flex;align-items: stretch;justify-content: center;background-color: white;position: relative;}#sk-container-id-7 div.sk-item::before, #sk-container-id-7 div.sk-parallel-item::before {content: \"\";position: absolute;border-left: 1px solid gray;box-sizing: border-box;top: 0;bottom: 0;left: 50%;z-index: -1;}#sk-container-id-7 div.sk-parallel-item {display: flex;flex-direction: column;z-index: 1;position: relative;background-color: white;}#sk-container-id-7 div.sk-parallel-item:first-child::after {align-self: flex-end;width: 50%;}#sk-container-id-7 div.sk-parallel-item:last-child::after {align-self: flex-start;width: 50%;}#sk-container-id-7 div.sk-parallel-item:only-child::after {width: 0;}#sk-container-id-7 div.sk-dashed-wrapped {border: 1px dashed gray;margin: 0 0.4em 0.5em 0.4em;box-sizing: border-box;padding-bottom: 0.4em;background-color: white;}#sk-container-id-7 div.sk-label label {font-family: monospace;font-weight: bold;display: inline-block;line-height: 1.2em;}#sk-container-id-7 div.sk-label-container {text-align: center;}#sk-container-id-7 div.sk-container {/* jupyter's `normalize.less` sets `[hidden] { display: none; }` but bootstrap.min.css set `[hidden] { display: none !important; }` so we also need the `!important` here to be able to override the default hidden behavior on the sphinx rendered scikit-learn.org. See: https://github.com/scikit-learn/scikit-learn/issues/21755 */display: inline-block !important;position: relative;}#sk-container-id-7 div.sk-text-repr-fallback {display: none;}</style><div id=\"sk-container-id-7\" class=\"sk-top-container\"><div class=\"sk-text-repr-fallback\"><pre>RandomizedSearchCV(cv=3, estimator=SVC(random_state=2023), n_jobs=1,\n",
       "                   param_distributions=[{&#x27;C&#x27;: [0.001, 0.01, 0.1, 1, 10, 100,\n",
       "                                               1000],\n",
       "                                         &#x27;gamma&#x27;: [0.001, 0.01, 0.1, 1, 10, 100,\n",
       "                                                   1000],\n",
       "                                         &#x27;kernel&#x27;: [&#x27;rbf&#x27;]},\n",
       "                                        {&#x27;C&#x27;: [0.001, 0.01, 0.1, 1, 10, 100,\n",
       "                                               1000],\n",
       "                                         &#x27;kernel&#x27;: [&#x27;linear&#x27;]},\n",
       "                                        {&#x27;C&#x27;: [0.001, 0.01, 0.1, 1, 10, 100,\n",
       "                                               1000],\n",
       "                                         &#x27;degree&#x27;: [2, 3],\n",
       "                                         &#x27;kernel&#x27;: [&#x27;poly&#x27;]}],\n",
       "                   scoring=&#x27;accuracy&#x27;, verbose=3)</pre><b>In a Jupyter environment, please rerun this cell to show the HTML representation or trust the notebook. <br />On GitHub, the HTML representation is unable to render, please try loading this page with nbviewer.org.</b></div><div class=\"sk-container\" hidden><div class=\"sk-item sk-dashed-wrapped\"><div class=\"sk-label-container\"><div class=\"sk-label sk-toggleable\"><input class=\"sk-toggleable__control sk-hidden--visually\" id=\"sk-estimator-id-9\" type=\"checkbox\" ><label for=\"sk-estimator-id-9\" class=\"sk-toggleable__label sk-toggleable__label-arrow\">RandomizedSearchCV</label><div class=\"sk-toggleable__content\"><pre>RandomizedSearchCV(cv=3, estimator=SVC(random_state=2023), n_jobs=1,\n",
       "                   param_distributions=[{&#x27;C&#x27;: [0.001, 0.01, 0.1, 1, 10, 100,\n",
       "                                               1000],\n",
       "                                         &#x27;gamma&#x27;: [0.001, 0.01, 0.1, 1, 10, 100,\n",
       "                                                   1000],\n",
       "                                         &#x27;kernel&#x27;: [&#x27;rbf&#x27;]},\n",
       "                                        {&#x27;C&#x27;: [0.001, 0.01, 0.1, 1, 10, 100,\n",
       "                                               1000],\n",
       "                                         &#x27;kernel&#x27;: [&#x27;linear&#x27;]},\n",
       "                                        {&#x27;C&#x27;: [0.001, 0.01, 0.1, 1, 10, 100,\n",
       "                                               1000],\n",
       "                                         &#x27;degree&#x27;: [2, 3],\n",
       "                                         &#x27;kernel&#x27;: [&#x27;poly&#x27;]}],\n",
       "                   scoring=&#x27;accuracy&#x27;, verbose=3)</pre></div></div></div><div class=\"sk-parallel\"><div class=\"sk-parallel-item\"><div class=\"sk-item\"><div class=\"sk-label-container\"><div class=\"sk-label sk-toggleable\"><input class=\"sk-toggleable__control sk-hidden--visually\" id=\"sk-estimator-id-10\" type=\"checkbox\" ><label for=\"sk-estimator-id-10\" class=\"sk-toggleable__label sk-toggleable__label-arrow\">estimator: SVC</label><div class=\"sk-toggleable__content\"><pre>SVC(random_state=2023)</pre></div></div></div><div class=\"sk-serial\"><div class=\"sk-item\"><div class=\"sk-estimator sk-toggleable\"><input class=\"sk-toggleable__control sk-hidden--visually\" id=\"sk-estimator-id-11\" type=\"checkbox\" ><label for=\"sk-estimator-id-11\" class=\"sk-toggleable__label sk-toggleable__label-arrow\">SVC</label><div class=\"sk-toggleable__content\"><pre>SVC(random_state=2023)</pre></div></div></div></div></div></div></div></div></div></div>"
      ],
      "text/plain": [
       "RandomizedSearchCV(cv=3, estimator=SVC(random_state=2023), n_jobs=1,\n",
       "                   param_distributions=[{'C': [0.001, 0.01, 0.1, 1, 10, 100,\n",
       "                                               1000],\n",
       "                                         'gamma': [0.001, 0.01, 0.1, 1, 10, 100,\n",
       "                                                   1000],\n",
       "                                         'kernel': ['rbf']},\n",
       "                                        {'C': [0.001, 0.01, 0.1, 1, 10, 100,\n",
       "                                               1000],\n",
       "                                         'kernel': ['linear']},\n",
       "                                        {'C': [0.001, 0.01, 0.1, 1, 10, 100,\n",
       "                                               1000],\n",
       "                                         'degree': [2, 3],\n",
       "                                         'kernel': ['poly']}],\n",
       "                   scoring='accuracy', verbose=3)"
      ]
     },
     "execution_count": 44,
     "metadata": {},
     "output_type": "execute_result"
    }
   ],
   "source": [
    "clf = SVC(random_state = 2023)\n",
    "gs = RandomizedSearchCV(estimator = clf,\n",
    "                 scoring = 'accuracy',\n",
    "                 param_distributions = params,\n",
    "                 cv = 3,\n",
    "                 n_jobs = 1,\n",
    "                  verbose=3\n",
    "                 )\n",
    "gs.fit(X_train_s,y_train_s)"
   ]
  },
  {
   "cell_type": "code",
   "execution_count": 45,
   "id": "57b2c988",
   "metadata": {},
   "outputs": [
    {
     "data": {
      "text/plain": [
       "{'kernel': 'rbf', 'gamma': 1, 'C': 10}"
      ]
     },
     "execution_count": 45,
     "metadata": {},
     "output_type": "execute_result"
    }
   ],
   "source": [
    "gs.best_params_"
   ]
  },
  {
   "cell_type": "code",
   "execution_count": 46,
   "id": "81288793",
   "metadata": {},
   "outputs": [
    {
     "data": {
      "text/plain": [
       "0.9916666666666667"
      ]
     },
     "execution_count": 46,
     "metadata": {},
     "output_type": "execute_result"
    }
   ],
   "source": [
    "clf = SVC(C=1000, kernel= 'linear', random_state=2023)\n",
    "clf.fit(X_train_s, y_train_s)\n",
    "clf.score(X_train_s, y_train_s)"
   ]
  },
  {
   "cell_type": "code",
   "execution_count": null,
   "id": "845472d5",
   "metadata": {},
   "outputs": [],
   "source": []
  },
  {
   "cell_type": "code",
   "execution_count": null,
   "id": "25f67a4c",
   "metadata": {},
   "outputs": [],
   "source": []
  },
  {
   "cell_type": "code",
   "execution_count": null,
   "id": "2b726b02",
   "metadata": {},
   "outputs": [],
   "source": []
  },
  {
   "cell_type": "code",
   "execution_count": null,
   "id": "43ca74e5",
   "metadata": {},
   "outputs": [],
   "source": []
  }
 ],
 "metadata": {
  "kernelspec": {
   "display_name": "flyai",
   "language": "python",
   "name": "flyai"
  },
  "language_info": {
   "codemirror_mode": {
    "name": "ipython",
    "version": 3
   },
   "file_extension": ".py",
   "mimetype": "text/x-python",
   "name": "python",
   "nbconvert_exporter": "python",
   "pygments_lexer": "ipython3",
   "version": "3.8.0"
  }
 },
 "nbformat": 4,
 "nbformat_minor": 5
}
