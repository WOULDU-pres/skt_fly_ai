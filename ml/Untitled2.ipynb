{
 "cells": [
  {
   "cell_type": "code",
   "execution_count": 2,
   "id": "d239a76e",
   "metadata": {},
   "outputs": [
    {
     "name": "stdout",
     "output_type": "stream",
     "text": [
      "0.9926739926739927\n",
      "[0.10939546 0.32698159 0.13726046 0.33329041 0.0922263  0.00084578]\n",
      "flipper_length_mm    0.333290\n",
      "bill_length_mm       0.326982\n",
      "bill_depth_mm        0.137260\n",
      "island               0.109395\n",
      "body_mass_g          0.092226\n",
      "sex                  0.000846\n",
      "dtype: float64\n"
     ]
    },
    {
     "data": {
      "image/png": "[encoded data removed]",
      "text/plain": [
       "<Figure size 640x480 with 1 Axes>"
      ]
     },
     "metadata": {},
     "output_type": "display_data"
    }
   ],
   "source": [
    "import pandas as pd\n",
    "import matplotlib.pyplot as plt\n",
    "import seaborn as sns\n",
    "from sklearn.model_selection import train_test_split\n",
    "from sklearn.metrics import accuracy_score, precision_score, recall_score\n",
    "from sklearn.metrics import confusion_matrix\n",
    "from sklearn.preprocessing import StandardScaler\n",
    "from sklearn.neighbors import KNeighborsClassifier\n",
    "from sklearn.svm import SVC\n",
    "from sklearn.tree import DecisionTreeClassifier\n",
    "from sklearn.ensemble import RandomForestClassifier\n",
    "from sklearn.preprocessing import LabelEncoder\n",
    "\n",
    "# 결측치 처리\n",
    "df = pd.read_csv(\"penguins.csv\")\n",
    "# print(df.loc[df[\"bill_length_mm\"].isna()])\n",
    "df.dropna(subset=[\"bill_length_mm\"], inplace=True)  # Row drop\n",
    "\n",
    "df[\"sex\"].fillna(\"NONE\", inplace=True)  # Fill na\n",
    "\n",
    "# X feature encoding\n",
    "# df['island'] = df['island'].map({\n",
    "#     'Biscoe': 0,\n",
    "#     'Dream': 1,\n",
    "#     'Torgersen': 2,\n",
    "# })\n",
    "\n",
    "\n",
    "# df['sex'] = df['sex'].map({\n",
    "#     'MALE': 0,\n",
    "#     'FEMALE': 1,\n",
    "#     'NONE': 2,\n",
    "# })\n",
    "\n",
    "island_encoder = LabelEncoder()\n",
    "df[\"island\"] = island_encoder.fit_transform(df[\"island\"])\n",
    "\n",
    "sex_encoder = LabelEncoder()\n",
    "df[\"sex\"] = sex_encoder.fit_transform(df[\"sex\"])\n",
    "\n",
    "# X, Y 분리\n",
    "x = df.drop(['species'], axis=1)\n",
    "y = df['species']\n",
    "\n",
    "# 학습셋 분리\n",
    "x_train, x_test, y_train, y_test = train_test_split(\n",
    "    x, y, test_size=0.2, stratify=y, random_state=2022)\n",
    "\n",
    "# numpy로 변환\n",
    "x_train = x_train.values\n",
    "y_train = y_train.values\n",
    "\n",
    "# 학습\n",
    "clf = RandomForestClassifier(n_estimators=30, max_depth=3)\n",
    "clf.fit(x_train, y_train)\n",
    "print(clf.score(x_train, y_train))\n",
    "print(clf.feature_importances_)\n",
    "\n",
    "sr = pd.Series(clf.feature_importances_, index=x.columns.values)\n",
    "sr = sr.sort_values(ascending=False)\n",
    "print(sr)\n",
    "\n",
    "sns.barplot(x=sr, y=sr.index)\n",
    "plt.show()"
   ]
  },
  {
   "cell_type": "code",
   "execution_count": null,
   "id": "3df4150a",
   "metadata": {},
   "outputs": [],
   "source": []
  }
 ],
 "metadata": {
  "kernelspec": {
   "display_name": "flyai",
   "language": "python",
   "name": "flyai"
  },
  "language_info": {
   "codemirror_mode": {
    "name": "ipython",
    "version": 3
   },
   "file_extension": ".py",
   "mimetype": "text/x-python",
   "name": "python",
   "nbconvert_exporter": "python",
   "pygments_lexer": "ipython3",
   "version": "3.8.0"
  }
 },
 "nbformat": 4,
 "nbformat_minor": 5
}
