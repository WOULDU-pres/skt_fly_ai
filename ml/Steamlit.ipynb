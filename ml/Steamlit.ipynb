{
 "cells": [
  {
   "cell_type": "code",
   "execution_count": 1,
   "id": "faa0f540",
   "metadata": {},
   "outputs": [
    {
     "name": "stdout",
     "output_type": "stream",
     "text": [
      "Requirement already satisfied: xgboost in c:\\users\\023\\anaconda3\\envs\\flyai\\lib\\site-packages (1.7.2)\n",
      "Requirement already satisfied: numpy in c:\\users\\023\\anaconda3\\envs\\flyai\\lib\\site-packages (from xgboost) (1.21.0)\n",
      "Requirement already satisfied: scipy in c:\\users\\023\\anaconda3\\envs\\flyai\\lib\\site-packages (from xgboost) (1.9.3)\n"
     ]
    }
   ],
   "source": [
    "!pip install xgboost"
   ]
  },
  {
   "cell_type": "code",
   "execution_count": 2,
   "id": "53d2855e",
   "metadata": {},
   "outputs": [
    {
     "name": "stdout",
     "output_type": "stream",
     "text": [
      "Collecting streamlit\n",
      "  Downloading streamlit-1.16.0-py2.py3-none-any.whl (9.2 MB)\n",
      "     ---------------------------------------- 9.2/9.2 MB 8.4 MB/s eta 0:00:00\n",
      "Collecting altair>=3.2.0\n",
      "  Downloading altair-4.2.0-py3-none-any.whl (812 kB)\n",
      "     ------------------------------------- 812.8/812.8 kB 10.3 MB/s eta 0:00:00\n",
      "Requirement already satisfied: python-dateutil in c:\\users\\023\\anaconda3\\envs\\flyai\\lib\\site-packages (from streamlit) (2.8.2)\n",
      "Collecting blinker>=1.0.0\n",
      "  Downloading blinker-1.5-py2.py3-none-any.whl (12 kB)\n",
      "Collecting pydeck>=0.1.dev5\n",
      "  Downloading pydeck-0.8.0-py2.py3-none-any.whl (4.7 MB)\n",
      "     ---------------------------------------- 4.7/4.7 MB 8.8 MB/s eta 0:00:00\n",
      "Requirement already satisfied: pillow>=6.2.0 in c:\\users\\023\\appdata\\roaming\\python\\python38\\site-packages (from streamlit) (9.3.0)\n",
      "Collecting rich>=10.11.0\n",
      "  Downloading rich-13.0.1-py3-none-any.whl (238 kB)\n",
      "     -------------------------------------- 238.1/238.1 kB 7.3 MB/s eta 0:00:00\n",
      "Collecting gitpython!=3.1.19\n",
      "  Downloading GitPython-3.1.30-py3-none-any.whl (184 kB)\n",
      "     -------------------------------------- 184.0/184.0 kB 5.6 MB/s eta 0:00:00\n",
      "Collecting pyarrow>=4.0\n",
      "  Downloading pyarrow-10.0.1-cp38-cp38-win_amd64.whl (20.3 MB)\n",
      "     ---------------------------------------- 20.3/20.3 MB 9.3 MB/s eta 0:00:00\n",
      "Collecting cachetools>=4.0\n",
      "  Downloading cachetools-5.2.1-py3-none-any.whl (9.3 kB)\n",
      "Collecting click>=7.0\n",
      "  Downloading click-8.1.3-py3-none-any.whl (96 kB)\n",
      "     ---------------------------------------- 96.6/96.6 kB ? eta 0:00:00\n",
      "Requirement already satisfied: tornado>=5.0 in c:\\users\\023\\anaconda3\\envs\\flyai\\lib\\site-packages (from streamlit) (6.2)\n",
      "Collecting protobuf<4,>=3.12\n",
      "  Downloading protobuf-3.20.3-cp38-cp38-win_amd64.whl (904 kB)\n",
      "     ------------------------------------- 904.4/904.4 kB 11.5 MB/s eta 0:00:00\n",
      "Collecting semver\n",
      "  Downloading semver-2.13.0-py2.py3-none-any.whl (12 kB)\n",
      "Collecting validators>=0.2\n",
      "  Downloading validators-0.20.0.tar.gz (30 kB)\n",
      "  Preparing metadata (setup.py): started\n",
      "  Preparing metadata (setup.py): finished with status 'done'\n",
      "Collecting watchdog\n",
      "  Downloading watchdog-2.2.1-py3-none-win_amd64.whl (78 kB)\n",
      "     ---------------------------------------- 79.0/79.0 kB ? eta 0:00:00\n",
      "Requirement already satisfied: importlib-metadata>=1.4 in c:\\users\\023\\anaconda3\\envs\\flyai\\lib\\site-packages (from streamlit) (5.2.0)\n",
      "Requirement already satisfied: pandas>=0.21.0 in c:\\users\\023\\anaconda3\\envs\\flyai\\lib\\site-packages (from streamlit) (1.5.2)\n",
      "Requirement already satisfied: requests>=2.4 in c:\\users\\023\\anaconda3\\envs\\flyai\\lib\\site-packages (from streamlit) (2.28.1)\n",
      "Collecting tzlocal>=1.1\n",
      "  Downloading tzlocal-4.2-py3-none-any.whl (19 kB)\n",
      "Collecting toml\n",
      "  Downloading toml-0.10.2-py2.py3-none-any.whl (16 kB)\n",
      "Requirement already satisfied: numpy in c:\\users\\023\\anaconda3\\envs\\flyai\\lib\\site-packages (from streamlit) (1.21.0)\n",
      "Requirement already satisfied: packaging>=14.1 in c:\\users\\023\\anaconda3\\envs\\flyai\\lib\\site-packages (from streamlit) (22.0)\n",
      "Collecting pympler>=0.9\n",
      "  Downloading Pympler-1.0.1-py3-none-any.whl (164 kB)\n",
      "     ------------------------------------- 164.8/164.8 kB 10.3 MB/s eta 0:00:00\n",
      "Collecting typing-extensions>=3.10.0.0\n",
      "  Downloading typing_extensions-4.4.0-py3-none-any.whl (26 kB)\n",
      "Collecting toolz\n",
      "  Downloading toolz-0.12.0-py3-none-any.whl (55 kB)\n",
      "     ---------------------------------------- 55.8/55.8 kB 3.0 MB/s eta 0:00:00\n",
      "Requirement already satisfied: jinja2 in c:\\users\\023\\anaconda3\\envs\\flyai\\lib\\site-packages (from altair>=3.2.0->streamlit) (3.1.2)\n",
      "Requirement already satisfied: jsonschema>=3.0 in c:\\users\\023\\anaconda3\\envs\\flyai\\lib\\site-packages (from altair>=3.2.0->streamlit) (4.17.3)\n",
      "Requirement already satisfied: entrypoints in c:\\users\\023\\anaconda3\\envs\\flyai\\lib\\site-packages (from altair>=3.2.0->streamlit) (0.4)\n",
      "Requirement already satisfied: colorama in c:\\users\\023\\anaconda3\\envs\\flyai\\lib\\site-packages (from click>=7.0->streamlit) (0.4.6)\n",
      "Collecting gitdb<5,>=4.0.1\n",
      "  Downloading gitdb-4.0.10-py3-none-any.whl (62 kB)\n",
      "     ---------------------------------------- 62.7/62.7 kB 3.3 MB/s eta 0:00:00\n",
      "Requirement already satisfied: zipp>=0.5 in c:\\users\\023\\anaconda3\\envs\\flyai\\lib\\site-packages (from importlib-metadata>=1.4->streamlit) (3.11.0)\n",
      "Requirement already satisfied: pytz>=2020.1 in c:\\users\\023\\anaconda3\\envs\\flyai\\lib\\site-packages (from pandas>=0.21.0->streamlit) (2022.7)\n",
      "Requirement already satisfied: six>=1.5 in c:\\users\\023\\anaconda3\\envs\\flyai\\lib\\site-packages (from python-dateutil->streamlit) (1.16.0)\n",
      "Requirement already satisfied: certifi>=2017.4.17 in c:\\users\\023\\anaconda3\\envs\\flyai\\lib\\site-packages (from requests>=2.4->streamlit) (2022.9.24)\n",
      "Requirement already satisfied: charset-normalizer<3,>=2 in c:\\users\\023\\anaconda3\\envs\\flyai\\lib\\site-packages (from requests>=2.4->streamlit) (2.1.1)\n",
      "Requirement already satisfied: urllib3<1.27,>=1.21.1 in c:\\users\\023\\anaconda3\\envs\\flyai\\lib\\site-packages (from requests>=2.4->streamlit) (1.26.13)\n",
      "Requirement already satisfied: idna<4,>=2.5 in c:\\users\\023\\anaconda3\\envs\\flyai\\lib\\site-packages (from requests>=2.4->streamlit) (3.4)\n",
      "Collecting commonmark<0.10.0,>=0.9.0\n",
      "  Downloading commonmark-0.9.1-py2.py3-none-any.whl (51 kB)\n",
      "     ---------------------------------------- 51.1/51.1 kB ? eta 0:00:00\n",
      "Requirement already satisfied: pygments<3.0.0,>=2.6.0 in c:\\users\\023\\anaconda3\\envs\\flyai\\lib\\site-packages (from rich>=10.11.0->streamlit) (2.13.0)\n",
      "Collecting pytz-deprecation-shim\n",
      "  Downloading pytz_deprecation_shim-0.1.0.post0-py2.py3-none-any.whl (15 kB)\n",
      "Collecting tzdata\n",
      "  Downloading tzdata-2022.7-py2.py3-none-any.whl (340 kB)\n",
      "     ------------------------------------- 340.1/340.1 kB 10.6 MB/s eta 0:00:00\n",
      "Collecting backports.zoneinfo\n",
      "  Downloading backports.zoneinfo-0.2.1-cp38-cp38-win_amd64.whl (38 kB)\n",
      "Requirement already satisfied: decorator>=3.4.0 in c:\\users\\023\\anaconda3\\envs\\flyai\\lib\\site-packages (from validators>=0.2->streamlit) (5.1.1)\n",
      "Collecting smmap<6,>=3.0.1\n",
      "  Downloading smmap-5.0.0-py3-none-any.whl (24 kB)\n",
      "Requirement already satisfied: MarkupSafe>=2.0 in c:\\users\\023\\anaconda3\\envs\\flyai\\lib\\site-packages (from jinja2->altair>=3.2.0->streamlit) (2.1.1)\n",
      "Requirement already satisfied: pkgutil-resolve-name>=1.3.10 in c:\\users\\023\\anaconda3\\envs\\flyai\\lib\\site-packages (from jsonschema>=3.0->altair>=3.2.0->streamlit) (1.3.10)\n",
      "Requirement already satisfied: pyrsistent!=0.17.0,!=0.17.1,!=0.17.2,>=0.14.0 in c:\\users\\023\\anaconda3\\envs\\flyai\\lib\\site-packages (from jsonschema>=3.0->altair>=3.2.0->streamlit) (0.19.2)\n",
      "Requirement already satisfied: attrs>=17.4.0 in c:\\users\\023\\anaconda3\\envs\\flyai\\lib\\site-packages (from jsonschema>=3.0->altair>=3.2.0->streamlit) (22.1.0)\n",
      "Requirement already satisfied: importlib-resources>=1.4.0 in c:\\users\\023\\anaconda3\\envs\\flyai\\lib\\site-packages (from jsonschema>=3.0->altair>=3.2.0->streamlit) (5.10.1)\n",
      "Building wheels for collected packages: validators\n",
      "  Building wheel for validators (setup.py): started\n",
      "  Building wheel for validators (setup.py): finished with status 'done'\n",
      "  Created wheel for validators: filename=validators-0.20.0-py3-none-any.whl size=19579 sha256=1eb385f4773368f431a630c403c0462a29dfc4e39b0ea95a38a080d2e09cf611\n",
      "  Stored in directory: c:\\users\\023\\appdata\\local\\pip\\cache\\wheels\\cb\\aa\\fe\\3316d4394e9ad09ea76561bd5be33f6d01828ff125ab2a3395\n",
      "Successfully built validators\n",
      "Installing collected packages: commonmark, watchdog, validators, tzdata, typing-extensions, toolz, toml, smmap, semver, pympler, pyarrow, protobuf, click, cachetools, blinker, backports.zoneinfo, rich, pytz-deprecation-shim, pydeck, gitdb, tzlocal, gitpython, altair, streamlit\n",
      "Successfully installed altair-4.2.0 backports.zoneinfo-0.2.1 blinker-1.5 cachetools-5.2.1 click-8.1.3 commonmark-0.9.1 gitdb-4.0.10 gitpython-3.1.30 protobuf-3.20.3 pyarrow-10.0.1 pydeck-0.8.0 pympler-1.0.1 pytz-deprecation-shim-0.1.0.post0 rich-13.0.1 semver-2.13.0 smmap-5.0.0 streamlit-1.16.0 toml-0.10.2 toolz-0.12.0 typing-extensions-4.4.0 tzdata-2022.7 tzlocal-4.2 validators-0.20.0 watchdog-2.2.1\n",
      "Note: you may need to restart the kernel to use updated packages.\n"
     ]
    }
   ],
   "source": [
    "pip install streamlit"
   ]
  },
  {
   "cell_type": "code",
   "execution_count": 4,
   "id": "7de23775",
   "metadata": {},
   "outputs": [],
   "source": [
    "import matplotlib.pyplot as plt\n",
    "import xgboost as xgb\n",
    "import time\n",
    "import numpy as np\n",
    "import pandas as pd\n",
    "import streamlit as st"
   ]
  },
  {
   "cell_type": "code",
   "execution_count": 5,
   "id": "efefef07",
   "metadata": {},
   "outputs": [],
   "source": [
    "# xgb모델 불러오기\n",
    "xgb_model = xgb.XGBRegressor()"
   ]
  },
  {
   "cell_type": "code",
   "execution_count": 6,
   "id": "e6d72f7e",
   "metadata": {},
   "outputs": [
    {
     "name": "stderr",
     "output_type": "stream",
     "text": [
      "2023-01-11 10:18:22.308 \n",
      "  \u001b[33m\u001b[1mWarning:\u001b[0m to view this Streamlit app on a browser, run it with the following\n",
      "  command:\n",
      "\n",
      "    streamlit run C:\\Users\\023\\anaconda3\\envs\\flyai\\lib\\site-packages\\ipykernel_launcher.py [ARGUMENTS]\n"
     ]
    },
    {
     "data": {
      "text/plain": [
       "DeltaGenerator(_root_container=0, _provided_cursor=None, _parent=None, _block_type=None, _form_data=None)"
      ]
     },
     "execution_count": 6,
     "metadata": {},
     "output_type": "execute_result"
    }
   ],
   "source": [
    "# 제목\n",
    "st.title('Incheon house Price')\n",
    "st.header('Incheon House Price Prediction Project')"
   ]
  },
  {
   "cell_type": "code",
   "execution_count": null,
   "id": "a33eb4f0",
   "metadata": {},
   "outputs": [],
   "source": [
    "!streamlit run C:\\Users\\023\\anaconda3\\envs\\flyai\\lib\\site-packages\\ipykernel_launcher.py [ARGUMENTS]"
   ]
  },
  {
   "cell_type": "code",
   "execution_count": null,
   "id": "799f7827",
   "metadata": {},
   "outputs": [],
   "source": [
    "# 제목\n",
    "st.title('Incheon house Price')\n",
    "st.header('Incheon House Price Prediction Project')"
   ]
  },
  {
   "cell_type": "code",
   "execution_count": null,
   "id": "0d12ce96",
   "metadata": {},
   "outputs": [],
   "source": []
  }
 ],
 "metadata": {
  "kernelspec": {
   "display_name": "flyai",
   "language": "python",
   "name": "flyai"
  },
  "language_info": {
   "codemirror_mode": {
    "name": "ipython",
    "version": 3
   },
   "file_extension": ".py",
   "mimetype": "text/x-python",
   "name": "python",
   "nbconvert_exporter": "python",
   "pygments_lexer": "ipython3",
   "version": "3.8.0"
  }
 },
 "nbformat": 4,
 "nbformat_minor": 5
}
