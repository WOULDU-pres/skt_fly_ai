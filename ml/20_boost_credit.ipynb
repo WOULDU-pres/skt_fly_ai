{
 "cells": [
  {
   "cell_type": "code",
   "execution_count": 25,
   "id": "0296d56f",
   "metadata": {},
   "outputs": [],
   "source": [
    "import numpy as np\n",
    "import pandas as pd\n",
    "import matplotlib.pyplot as plt\n",
    "import seaborn as sns\n",
    "import myutils as my"
   ]
  },
  {
   "cell_type": "markdown",
   "id": "323ad9f1",
   "metadata": {},
   "source": [
    "# Credit Card Fraud Detection"
   ]
  },
  {
   "cell_type": "code",
   "execution_count": 26,
   "id": "583c553d",
   "metadata": {},
   "outputs": [
    {
     "data": {
      "text/plain": [
       "(284807, 31)"
      ]
     },
     "execution_count": 26,
     "metadata": {},
     "output_type": "execute_result"
    }
   ],
   "source": [
    "credit = pd.read_csv('creditcard.csv')\n",
    "credit.shape"
   ]
  },
  {
   "cell_type": "code",
   "execution_count": 27,
   "id": "9848c4c1",
   "metadata": {},
   "outputs": [],
   "source": [
    "df = credit.copy()"
   ]
  },
  {
   "cell_type": "code",
   "execution_count": 28,
   "id": "f03fdac3",
   "metadata": {},
   "outputs": [
    {
     "data": {
      "text/html": [
       "<div>\n",
       "<style scoped>\n",
       "    .dataframe tbody tr th:only-of-type {\n",
       "        vertical-align: middle;\n",
       "    }\n",
       "\n",
       "    .dataframe tbody tr th {\n",
       "        vertical-align: top;\n",
       "    }\n",
       "\n",
       "    .dataframe thead th {\n",
       "        text-align: right;\n",
       "    }\n",
       "</style>\n",
       "<table border=\"1\" class=\"dataframe\">\n",
       "  <thead>\n",
       "    <tr style=\"text-align: right;\">\n",
       "      <th></th>\n",
       "      <th>Time</th>\n",
       "      <th>V1</th>\n",
       "      <th>V2</th>\n",
       "      <th>V3</th>\n",
       "      <th>V4</th>\n",
       "      <th>V5</th>\n",
       "      <th>V6</th>\n",
       "      <th>V7</th>\n",
       "      <th>V8</th>\n",
       "      <th>V9</th>\n",
       "      <th>...</th>\n",
       "      <th>V21</th>\n",
       "      <th>V22</th>\n",
       "      <th>V23</th>\n",
       "      <th>V24</th>\n",
       "      <th>V25</th>\n",
       "      <th>V26</th>\n",
       "      <th>V27</th>\n",
       "      <th>V28</th>\n",
       "      <th>Amount</th>\n",
       "      <th>Class</th>\n",
       "    </tr>\n",
       "  </thead>\n",
       "  <tbody>\n",
       "    <tr>\n",
       "      <th>0</th>\n",
       "      <td>0.0</td>\n",
       "      <td>-1.359807</td>\n",
       "      <td>-0.072781</td>\n",
       "      <td>2.536347</td>\n",
       "      <td>1.378155</td>\n",
       "      <td>-0.338321</td>\n",
       "      <td>0.462388</td>\n",
       "      <td>0.239599</td>\n",
       "      <td>0.098698</td>\n",
       "      <td>0.363787</td>\n",
       "      <td>...</td>\n",
       "      <td>-0.018307</td>\n",
       "      <td>0.277838</td>\n",
       "      <td>-0.110474</td>\n",
       "      <td>0.066928</td>\n",
       "      <td>0.128539</td>\n",
       "      <td>-0.189115</td>\n",
       "      <td>0.133558</td>\n",
       "      <td>-0.021053</td>\n",
       "      <td>149.62</td>\n",
       "      <td>0</td>\n",
       "    </tr>\n",
       "    <tr>\n",
       "      <th>1</th>\n",
       "      <td>0.0</td>\n",
       "      <td>1.191857</td>\n",
       "      <td>0.266151</td>\n",
       "      <td>0.166480</td>\n",
       "      <td>0.448154</td>\n",
       "      <td>0.060018</td>\n",
       "      <td>-0.082361</td>\n",
       "      <td>-0.078803</td>\n",
       "      <td>0.085102</td>\n",
       "      <td>-0.255425</td>\n",
       "      <td>...</td>\n",
       "      <td>-0.225775</td>\n",
       "      <td>-0.638672</td>\n",
       "      <td>0.101288</td>\n",
       "      <td>-0.339846</td>\n",
       "      <td>0.167170</td>\n",
       "      <td>0.125895</td>\n",
       "      <td>-0.008983</td>\n",
       "      <td>0.014724</td>\n",
       "      <td>2.69</td>\n",
       "      <td>0</td>\n",
       "    </tr>\n",
       "    <tr>\n",
       "      <th>2</th>\n",
       "      <td>1.0</td>\n",
       "      <td>-1.358354</td>\n",
       "      <td>-1.340163</td>\n",
       "      <td>1.773209</td>\n",
       "      <td>0.379780</td>\n",
       "      <td>-0.503198</td>\n",
       "      <td>1.800499</td>\n",
       "      <td>0.791461</td>\n",
       "      <td>0.247676</td>\n",
       "      <td>-1.514654</td>\n",
       "      <td>...</td>\n",
       "      <td>0.247998</td>\n",
       "      <td>0.771679</td>\n",
       "      <td>0.909412</td>\n",
       "      <td>-0.689281</td>\n",
       "      <td>-0.327642</td>\n",
       "      <td>-0.139097</td>\n",
       "      <td>-0.055353</td>\n",
       "      <td>-0.059752</td>\n",
       "      <td>378.66</td>\n",
       "      <td>0</td>\n",
       "    </tr>\n",
       "    <tr>\n",
       "      <th>3</th>\n",
       "      <td>1.0</td>\n",
       "      <td>-0.966272</td>\n",
       "      <td>-0.185226</td>\n",
       "      <td>1.792993</td>\n",
       "      <td>-0.863291</td>\n",
       "      <td>-0.010309</td>\n",
       "      <td>1.247203</td>\n",
       "      <td>0.237609</td>\n",
       "      <td>0.377436</td>\n",
       "      <td>-1.387024</td>\n",
       "      <td>...</td>\n",
       "      <td>-0.108300</td>\n",
       "      <td>0.005274</td>\n",
       "      <td>-0.190321</td>\n",
       "      <td>-1.175575</td>\n",
       "      <td>0.647376</td>\n",
       "      <td>-0.221929</td>\n",
       "      <td>0.062723</td>\n",
       "      <td>0.061458</td>\n",
       "      <td>123.50</td>\n",
       "      <td>0</td>\n",
       "    </tr>\n",
       "    <tr>\n",
       "      <th>4</th>\n",
       "      <td>2.0</td>\n",
       "      <td>-1.158233</td>\n",
       "      <td>0.877737</td>\n",
       "      <td>1.548718</td>\n",
       "      <td>0.403034</td>\n",
       "      <td>-0.407193</td>\n",
       "      <td>0.095921</td>\n",
       "      <td>0.592941</td>\n",
       "      <td>-0.270533</td>\n",
       "      <td>0.817739</td>\n",
       "      <td>...</td>\n",
       "      <td>-0.009431</td>\n",
       "      <td>0.798278</td>\n",
       "      <td>-0.137458</td>\n",
       "      <td>0.141267</td>\n",
       "      <td>-0.206010</td>\n",
       "      <td>0.502292</td>\n",
       "      <td>0.219422</td>\n",
       "      <td>0.215153</td>\n",
       "      <td>69.99</td>\n",
       "      <td>0</td>\n",
       "    </tr>\n",
       "  </tbody>\n",
       "</table>\n",
       "<p>5 rows × 31 columns</p>\n",
       "</div>"
      ],
      "text/plain": [
       "   Time        V1        V2        V3        V4        V5        V6        V7  \\\n",
       "0   0.0 -1.359807 -0.072781  2.536347  1.378155 -0.338321  0.462388  0.239599   \n",
       "1   0.0  1.191857  0.266151  0.166480  0.448154  0.060018 -0.082361 -0.078803   \n",
       "2   1.0 -1.358354 -1.340163  1.773209  0.379780 -0.503198  1.800499  0.791461   \n",
       "3   1.0 -0.966272 -0.185226  1.792993 -0.863291 -0.010309  1.247203  0.237609   \n",
       "4   2.0 -1.158233  0.877737  1.548718  0.403034 -0.407193  0.095921  0.592941   \n",
       "\n",
       "         V8        V9  ...       V21       V22       V23       V24       V25  \\\n",
       "0  0.098698  0.363787  ... -0.018307  0.277838 -0.110474  0.066928  0.128539   \n",
       "1  0.085102 -0.255425  ... -0.225775 -0.638672  0.101288 -0.339846  0.167170   \n",
       "2  0.247676 -1.514654  ...  0.247998  0.771679  0.909412 -0.689281 -0.327642   \n",
       "3  0.377436 -1.387024  ... -0.108300  0.005274 -0.190321 -1.175575  0.647376   \n",
       "4 -0.270533  0.817739  ... -0.009431  0.798278 -0.137458  0.141267 -0.206010   \n",
       "\n",
       "        V26       V27       V28  Amount  Class  \n",
       "0 -0.189115  0.133558 -0.021053  149.62      0  \n",
       "1  0.125895 -0.008983  0.014724    2.69      0  \n",
       "2 -0.139097 -0.055353 -0.059752  378.66      0  \n",
       "3 -0.221929  0.062723  0.061458  123.50      0  \n",
       "4  0.502292  0.219422  0.215153   69.99      0  \n",
       "\n",
       "[5 rows x 31 columns]"
      ]
     },
     "execution_count": 28,
     "metadata": {},
     "output_type": "execute_result"
    }
   ],
   "source": [
    "df.head()"
   ]
  },
  {
   "cell_type": "code",
   "execution_count": 29,
   "id": "85d57ace",
   "metadata": {},
   "outputs": [
    {
     "name": "stdout",
     "output_type": "stream",
     "text": [
      "<class 'pandas.core.frame.DataFrame'>\n",
      "RangeIndex: 284807 entries, 0 to 284806\n",
      "Data columns (total 31 columns):\n",
      " #   Column  Non-Null Count   Dtype  \n",
      "---  ------  --------------   -----  \n",
      " 0   Time    284807 non-null  float64\n",
      " 1   V1      284807 non-null  float64\n",
      " 2   V2      284807 non-null  float64\n",
      " 3   V3      284807 non-null  float64\n",
      " 4   V4      284807 non-null  float64\n",
      " 5   V5      284807 non-null  float64\n",
      " 6   V6      284807 non-null  float64\n",
      " 7   V7      284807 non-null  float64\n",
      " 8   V8      284807 non-null  float64\n",
      " 9   V9      284807 non-null  float64\n",
      " 10  V10     284807 non-null  float64\n",
      " 11  V11     284807 non-null  float64\n",
      " 12  V12     284807 non-null  float64\n",
      " 13  V13     284807 non-null  float64\n",
      " 14  V14     284807 non-null  float64\n",
      " 15  V15     284807 non-null  float64\n",
      " 16  V16     284807 non-null  float64\n",
      " 17  V17     284807 non-null  float64\n",
      " 18  V18     284807 non-null  float64\n",
      " 19  V19     284807 non-null  float64\n",
      " 20  V20     284807 non-null  float64\n",
      " 21  V21     284807 non-null  float64\n",
      " 22  V22     284807 non-null  float64\n",
      " 23  V23     284807 non-null  float64\n",
      " 24  V24     284807 non-null  float64\n",
      " 25  V25     284807 non-null  float64\n",
      " 26  V26     284807 non-null  float64\n",
      " 27  V27     284807 non-null  float64\n",
      " 28  V28     284807 non-null  float64\n",
      " 29  Amount  284807 non-null  float64\n",
      " 30  Class   284807 non-null  int64  \n",
      "dtypes: float64(30), int64(1)\n",
      "memory usage: 67.4 MB\n"
     ]
    }
   ],
   "source": [
    "df.info()"
   ]
  },
  {
   "cell_type": "code",
   "execution_count": 30,
   "id": "f111dbae",
   "metadata": {},
   "outputs": [
    {
     "data": {
      "text/plain": [
       "0    0.998273\n",
       "1    0.001727\n",
       "Name: Class, dtype: float64"
      ]
     },
     "execution_count": 30,
     "metadata": {},
     "output_type": "execute_result"
    }
   ],
   "source": [
    "df['Class'].value_counts(normalize = True)"
   ]
  },
  {
   "cell_type": "code",
   "execution_count": 31,
   "id": "47631370",
   "metadata": {},
   "outputs": [
    {
     "data": {
      "text/plain": [
       "<AxesSubplot: ylabel='count'>"
      ]
     },
     "execution_count": 31,
     "metadata": {},
     "output_type": "execute_result"
    },
    {
     "data": {
      "image/png": "[encoded data removed]",
      "text/plain": [
       "<Figure size 640x480 with 1 Axes>"
      ]
     },
     "metadata": {},
     "output_type": "display_data"
    }
   ],
   "source": [
    "sns.countplot(df['Class'])"
   ]
  },
  {
   "cell_type": "markdown",
   "id": "72949883",
   "metadata": {},
   "source": [
    "### 학습"
   ]
  },
  {
   "cell_type": "code",
   "execution_count": 32,
   "id": "eeff4060",
   "metadata": {},
   "outputs": [
    {
     "data": {
      "text/plain": [
       "Index(['Time', 'V1', 'V2', 'V3', 'V4', 'V5', 'V6', 'V7', 'V8', 'V9', 'V10',\n",
       "       'V11', 'V12', 'V13', 'V14', 'V15', 'V16', 'V17', 'V18', 'V19', 'V20',\n",
       "       'V21', 'V22', 'V23', 'V24', 'V25', 'V26', 'V27', 'V28', 'Amount',\n",
       "       'Class'],\n",
       "      dtype='object')"
      ]
     },
     "execution_count": 32,
     "metadata": {},
     "output_type": "execute_result"
    }
   ],
   "source": [
    "df.columns"
   ]
  },
  {
   "cell_type": "code",
   "execution_count": 33,
   "id": "57816573",
   "metadata": {},
   "outputs": [],
   "source": [
    "X = df.drop(['Time','Class'], axis = 1)\n",
    "y = df['Class']"
   ]
  },
  {
   "cell_type": "code",
   "execution_count": 34,
   "id": "4449c546",
   "metadata": {},
   "outputs": [
    {
     "data": {
      "text/plain": [
       "((213605, 29), (71202, 29))"
      ]
     },
     "execution_count": 34,
     "metadata": {},
     "output_type": "execute_result"
    }
   ],
   "source": [
    "from sklearn.model_selection import train_test_split\n",
    "\n",
    "X_train, X_test,y_train,y_test = train_test_split(X, y,\n",
    "                                                 stratify = y,\n",
    "                                                 random_state = 2022\n",
    "                                                 )\n",
    "X_train.shape, X_test.shape"
   ]
  },
  {
   "cell_type": "code",
   "execution_count": 38,
   "id": "c020e65d",
   "metadata": {},
   "outputs": [
    {
     "data": {
      "text/plain": [
       "array([[-0.29373076],\n",
       "       [ 1.09165967],\n",
       "       [-0.29527008],\n",
       "       [-0.04282116],\n",
       "       [-0.28001679],\n",
       "       [-0.18191996],\n",
       "       [ 3.96725441],\n",
       "       [ 0.55513574],\n",
       "       [ 0.80366639],\n",
       "       [ 2.77609852]])"
      ]
     },
     "execution_count": 38,
     "metadata": {},
     "output_type": "execute_result"
    }
   ],
   "source": [
    "from sklearn.preprocessing import RobustScaler\n",
    "\n",
    "scaler = RobustScaler()\n",
    "amount = scaler.fit_transform(X_train['Amount'].values.reshape(-1,1))\n",
    "amount[:10]"
   ]
  },
  {
   "cell_type": "code",
   "execution_count": 41,
   "id": "27d84800",
   "metadata": {},
   "outputs": [
    {
     "data": {
      "text/html": [
       "<div>\n",
       "<style scoped>\n",
       "    .dataframe tbody tr th:only-of-type {\n",
       "        vertical-align: middle;\n",
       "    }\n",
       "\n",
       "    .dataframe tbody tr th {\n",
       "        vertical-align: top;\n",
       "    }\n",
       "\n",
       "    .dataframe thead th {\n",
       "        text-align: right;\n",
       "    }\n",
       "</style>\n",
       "<table border=\"1\" class=\"dataframe\">\n",
       "  <thead>\n",
       "    <tr style=\"text-align: right;\">\n",
       "      <th></th>\n",
       "      <th>V1</th>\n",
       "      <th>V2</th>\n",
       "      <th>V3</th>\n",
       "      <th>V4</th>\n",
       "      <th>V5</th>\n",
       "      <th>V6</th>\n",
       "      <th>V7</th>\n",
       "      <th>V8</th>\n",
       "      <th>V9</th>\n",
       "      <th>V10</th>\n",
       "      <th>...</th>\n",
       "      <th>V20</th>\n",
       "      <th>V21</th>\n",
       "      <th>V22</th>\n",
       "      <th>V23</th>\n",
       "      <th>V24</th>\n",
       "      <th>V25</th>\n",
       "      <th>V26</th>\n",
       "      <th>V27</th>\n",
       "      <th>V28</th>\n",
       "      <th>Amount</th>\n",
       "    </tr>\n",
       "  </thead>\n",
       "  <tbody>\n",
       "    <tr>\n",
       "      <th>128422</th>\n",
       "      <td>1.215333</td>\n",
       "      <td>0.801141</td>\n",
       "      <td>-0.189307</td>\n",
       "      <td>1.419017</td>\n",
       "      <td>0.008088</td>\n",
       "      <td>-1.408858</td>\n",
       "      <td>0.381728</td>\n",
       "      <td>-0.318842</td>\n",
       "      <td>-0.253099</td>\n",
       "      <td>-0.709171</td>\n",
       "      <td>...</td>\n",
       "      <td>-0.049420</td>\n",
       "      <td>-0.035684</td>\n",
       "      <td>0.013635</td>\n",
       "      <td>-0.094377</td>\n",
       "      <td>0.603550</td>\n",
       "      <td>0.678874</td>\n",
       "      <td>-0.350695</td>\n",
       "      <td>0.041712</td>\n",
       "      <td>0.062790</td>\n",
       "      <td>-0.293731</td>\n",
       "    </tr>\n",
       "    <tr>\n",
       "      <th>171305</th>\n",
       "      <td>1.738408</td>\n",
       "      <td>-0.491419</td>\n",
       "      <td>-0.363447</td>\n",
       "      <td>1.246371</td>\n",
       "      <td>-0.463203</td>\n",
       "      <td>0.081463</td>\n",
       "      <td>-0.435535</td>\n",
       "      <td>0.148466</td>\n",
       "      <td>0.742494</td>\n",
       "      <td>0.290212</td>\n",
       "      <td>...</td>\n",
       "      <td>-0.081259</td>\n",
       "      <td>-0.082295</td>\n",
       "      <td>-0.367354</td>\n",
       "      <td>0.245198</td>\n",
       "      <td>-0.477114</td>\n",
       "      <td>-0.426857</td>\n",
       "      <td>-0.942277</td>\n",
       "      <td>0.036408</td>\n",
       "      <td>-0.022854</td>\n",
       "      <td>1.091660</td>\n",
       "    </tr>\n",
       "    <tr>\n",
       "      <th>221036</th>\n",
       "      <td>-1.403107</td>\n",
       "      <td>2.011951</td>\n",
       "      <td>-1.017325</td>\n",
       "      <td>-0.609291</td>\n",
       "      <td>-0.520037</td>\n",
       "      <td>-1.193734</td>\n",
       "      <td>-0.092010</td>\n",
       "      <td>1.110164</td>\n",
       "      <td>-0.216664</td>\n",
       "      <td>-0.479891</td>\n",
       "      <td>...</td>\n",
       "      <td>-0.096649</td>\n",
       "      <td>-0.188705</td>\n",
       "      <td>-0.607803</td>\n",
       "      <td>0.247878</td>\n",
       "      <td>-0.092102</td>\n",
       "      <td>-0.308456</td>\n",
       "      <td>0.163223</td>\n",
       "      <td>0.086396</td>\n",
       "      <td>0.031273</td>\n",
       "      <td>-0.295270</td>\n",
       "    </tr>\n",
       "    <tr>\n",
       "      <th>149451</th>\n",
       "      <td>2.086094</td>\n",
       "      <td>0.197339</td>\n",
       "      <td>-2.035231</td>\n",
       "      <td>0.086509</td>\n",
       "      <td>0.760273</td>\n",
       "      <td>-1.259484</td>\n",
       "      <td>0.685797</td>\n",
       "      <td>-0.582541</td>\n",
       "      <td>1.138718</td>\n",
       "      <td>-0.207594</td>\n",
       "      <td>...</td>\n",
       "      <td>-0.189533</td>\n",
       "      <td>0.045950</td>\n",
       "      <td>0.497758</td>\n",
       "      <td>-0.104216</td>\n",
       "      <td>-0.316860</td>\n",
       "      <td>0.447140</td>\n",
       "      <td>0.198046</td>\n",
       "      <td>-0.115068</td>\n",
       "      <td>-0.094393</td>\n",
       "      <td>-0.042821</td>\n",
       "    </tr>\n",
       "    <tr>\n",
       "      <th>33474</th>\n",
       "      <td>1.237063</td>\n",
       "      <td>0.274868</td>\n",
       "      <td>0.654614</td>\n",
       "      <td>0.695816</td>\n",
       "      <td>-0.619955</td>\n",
       "      <td>-1.174747</td>\n",
       "      <td>0.084537</td>\n",
       "      <td>-0.239485</td>\n",
       "      <td>-0.011667</td>\n",
       "      <td>-0.072926</td>\n",
       "      <td>...</td>\n",
       "      <td>-0.088976</td>\n",
       "      <td>-0.233229</td>\n",
       "      <td>-0.665765</td>\n",
       "      <td>0.174009</td>\n",
       "      <td>0.712623</td>\n",
       "      <td>0.181414</td>\n",
       "      <td>0.073546</td>\n",
       "      <td>-0.027184</td>\n",
       "      <td>0.022853</td>\n",
       "      <td>-0.280017</td>\n",
       "    </tr>\n",
       "  </tbody>\n",
       "</table>\n",
       "<p>5 rows × 29 columns</p>\n",
       "</div>"
      ],
      "text/plain": [
       "              V1        V2        V3        V4        V5        V6        V7  \\\n",
       "128422  1.215333  0.801141 -0.189307  1.419017  0.008088 -1.408858  0.381728   \n",
       "171305  1.738408 -0.491419 -0.363447  1.246371 -0.463203  0.081463 -0.435535   \n",
       "221036 -1.403107  2.011951 -1.017325 -0.609291 -0.520037 -1.193734 -0.092010   \n",
       "149451  2.086094  0.197339 -2.035231  0.086509  0.760273 -1.259484  0.685797   \n",
       "33474   1.237063  0.274868  0.654614  0.695816 -0.619955 -1.174747  0.084537   \n",
       "\n",
       "              V8        V9       V10  ...       V20       V21       V22  \\\n",
       "128422 -0.318842 -0.253099 -0.709171  ... -0.049420 -0.035684  0.013635   \n",
       "171305  0.148466  0.742494  0.290212  ... -0.081259 -0.082295 -0.367354   \n",
       "221036  1.110164 -0.216664 -0.479891  ... -0.096649 -0.188705 -0.607803   \n",
       "149451 -0.582541  1.138718 -0.207594  ... -0.189533  0.045950  0.497758   \n",
       "33474  -0.239485 -0.011667 -0.072926  ... -0.088976 -0.233229 -0.665765   \n",
       "\n",
       "             V23       V24       V25       V26       V27       V28    Amount  \n",
       "128422 -0.094377  0.603550  0.678874 -0.350695  0.041712  0.062790 -0.293731  \n",
       "171305  0.245198 -0.477114 -0.426857 -0.942277  0.036408 -0.022854  1.091660  \n",
       "221036  0.247878 -0.092102 -0.308456  0.163223  0.086396  0.031273 -0.295270  \n",
       "149451 -0.104216 -0.316860  0.447140  0.198046 -0.115068 -0.094393 -0.042821  \n",
       "33474   0.174009  0.712623  0.181414  0.073546 -0.027184  0.022853 -0.280017  \n",
       "\n",
       "[5 rows x 29 columns]"
      ]
     },
     "execution_count": 41,
     "metadata": {},
     "output_type": "execute_result"
    }
   ],
   "source": [
    "X_train['Amount'] = amount.reshape(-1)\n",
    "X_train.head()"
   ]
  },
  {
   "cell_type": "code",
   "execution_count": 42,
   "id": "386bf323",
   "metadata": {},
   "outputs": [
    {
     "data": {
      "text/plain": [
       "0    213236\n",
       "1       369\n",
       "Name: Class, dtype: int64"
      ]
     },
     "execution_count": 42,
     "metadata": {},
     "output_type": "execute_result"
    }
   ],
   "source": [
    "y_train.value_counts()"
   ]
  },
  {
   "cell_type": "code",
   "execution_count": 44,
   "id": "28079ec0",
   "metadata": {},
   "outputs": [],
   "source": [
    "# !pip install imbalanced-learn"
   ]
  },
  {
   "cell_type": "code",
   "execution_count": 46,
   "id": "d9a9451e",
   "metadata": {},
   "outputs": [],
   "source": [
    "#스모트는 업샘플링을 위해서 트레인 데이터만 받습니다.\n",
    "#주변에 있는 데이터 바탕으로 새 데이터 생성\n",
    "from imblearn.over_sampling import SMOTE\n",
    "\n",
    "smote = SMOTE(k_neighbors = 5)\n",
    "X_train_o, y_train_o = smote.fit_resample(X_train, y_train)"
   ]
  },
  {
   "cell_type": "code",
   "execution_count": 47,
   "id": "68903329",
   "metadata": {},
   "outputs": [
    {
     "data": {
      "text/plain": [
       "0    213236\n",
       "1    213236\n",
       "Name: Class, dtype: int64"
      ]
     },
     "execution_count": 47,
     "metadata": {},
     "output_type": "execute_result"
    }
   ],
   "source": [
    "y_train_o.value_counts()"
   ]
  },
  {
   "cell_type": "markdown",
   "id": "9c8db88b",
   "metadata": {},
   "source": [
    "### 학습 xgboost"
   ]
  },
  {
   "cell_type": "code",
   "execution_count": 52,
   "id": "5f9ddb97",
   "metadata": {},
   "outputs": [],
   "source": [
    "# !pip install xgboost"
   ]
  },
  {
   "cell_type": "code",
   "execution_count": 54,
   "id": "f335bf67",
   "metadata": {},
   "outputs": [
    {
     "name": "stdout",
     "output_type": "stream",
     "text": [
      "CPU times: total: 15min 47s\n",
      "Wall time: 2min 5s\n"
     ]
    },
    {
     "data": {
      "text/html": [
       "<style>#sk-container-id-1 {color: black;background-color: white;}#sk-container-id-1 pre{padding: 0;}#sk-container-id-1 div.sk-toggleable {background-color: white;}#sk-container-id-1 label.sk-toggleable__label {cursor: pointer;display: block;width: 100%;margin-bottom: 0;padding: 0.3em;box-sizing: border-box;text-align: center;}#sk-container-id-1 label.sk-toggleable__label-arrow:before {content: \"▸\";float: left;margin-right: 0.25em;color: #696969;}#sk-container-id-1 label.sk-toggleable__label-arrow:hover:before {color: black;}#sk-container-id-1 div.sk-estimator:hover label.sk-toggleable__label-arrow:before {color: black;}#sk-container-id-1 div.sk-toggleable__content {max-height: 0;max-width: 0;overflow: hidden;text-align: left;background-color: #f0f8ff;}#sk-container-id-1 div.sk-toggleable__content pre {margin: 0.2em;color: black;border-radius: 0.25em;background-color: #f0f8ff;}#sk-container-id-1 input.sk-toggleable__control:checked~div.sk-toggleable__content {max-height: 200px;max-width: 100%;overflow: auto;}#sk-container-id-1 input.sk-toggleable__control:checked~label.sk-toggleable__label-arrow:before {content: \"▾\";}#sk-container-id-1 div.sk-estimator input.sk-toggleable__control:checked~label.sk-toggleable__label {background-color: #d4ebff;}#sk-container-id-1 div.sk-label input.sk-toggleable__control:checked~label.sk-toggleable__label {background-color: #d4ebff;}#sk-container-id-1 input.sk-hidden--visually {border: 0;clip: rect(1px 1px 1px 1px);clip: rect(1px, 1px, 1px, 1px);height: 1px;margin: -1px;overflow: hidden;padding: 0;position: absolute;width: 1px;}#sk-container-id-1 div.sk-estimator {font-family: monospace;background-color: #f0f8ff;border: 1px dotted black;border-radius: 0.25em;box-sizing: border-box;margin-bottom: 0.5em;}#sk-container-id-1 div.sk-estimator:hover {background-color: #d4ebff;}#sk-container-id-1 div.sk-parallel-item::after {content: \"\";width: 100%;border-bottom: 1px solid gray;flex-grow: 1;}#sk-container-id-1 div.sk-label:hover label.sk-toggleable__label {background-color: #d4ebff;}#sk-container-id-1 div.sk-serial::before {content: \"\";position: absolute;border-left: 1px solid gray;box-sizing: border-box;top: 0;bottom: 0;left: 50%;z-index: 0;}#sk-container-id-1 div.sk-serial {display: flex;flex-direction: column;align-items: center;background-color: white;padding-right: 0.2em;padding-left: 0.2em;position: relative;}#sk-container-id-1 div.sk-item {position: relative;z-index: 1;}#sk-container-id-1 div.sk-parallel {display: flex;align-items: stretch;justify-content: center;background-color: white;position: relative;}#sk-container-id-1 div.sk-item::before, #sk-container-id-1 div.sk-parallel-item::before {content: \"\";position: absolute;border-left: 1px solid gray;box-sizing: border-box;top: 0;bottom: 0;left: 50%;z-index: -1;}#sk-container-id-1 div.sk-parallel-item {display: flex;flex-direction: column;z-index: 1;position: relative;background-color: white;}#sk-container-id-1 div.sk-parallel-item:first-child::after {align-self: flex-end;width: 50%;}#sk-container-id-1 div.sk-parallel-item:last-child::after {align-self: flex-start;width: 50%;}#sk-container-id-1 div.sk-parallel-item:only-child::after {width: 0;}#sk-container-id-1 div.sk-dashed-wrapped {border: 1px dashed gray;margin: 0 0.4em 0.5em 0.4em;box-sizing: border-box;padding-bottom: 0.4em;background-color: white;}#sk-container-id-1 div.sk-label label {font-family: monospace;font-weight: bold;display: inline-block;line-height: 1.2em;}#sk-container-id-1 div.sk-label-container {text-align: center;}#sk-container-id-1 div.sk-container {/* jupyter's `normalize.less` sets `[hidden] { display: none; }` but bootstrap.min.css set `[hidden] { display: none !important; }` so we also need the `!important` here to be able to override the default hidden behavior on the sphinx rendered scikit-learn.org. See: https://github.com/scikit-learn/scikit-learn/issues/21755 */display: inline-block !important;position: relative;}#sk-container-id-1 div.sk-text-repr-fallback {display: none;}</style><div id=\"sk-container-id-1\" class=\"sk-top-container\"><div class=\"sk-text-repr-fallback\"><pre>XGBClassifier(base_score=0.5, booster=&#x27;gbtree&#x27;, callbacks=None,\n",
       "              colsample_bylevel=1, colsample_bynode=1, colsample_bytree=1,\n",
       "              early_stopping_rounds=None, enable_categorical=False,\n",
       "              eval_metric=None, feature_types=None, gamma=0, gpu_id=-1,\n",
       "              grow_policy=&#x27;depthwise&#x27;, importance_type=None,\n",
       "              interaction_constraints=&#x27;&#x27;, learning_rate=0.1, max_bin=256,\n",
       "              max_cat_threshold=64, max_cat_to_onehot=4, max_delta_step=0,\n",
       "              max_depth=4, max_leaves=0, min_child_weight=1, missing=nan,\n",
       "              monotone_constraints=&#x27;()&#x27;, n_estimators=360, n_jobs=0,\n",
       "              num_parallel_tree=1, predictor=&#x27;auto&#x27;, random_state=2022, ...)</pre><b>In a Jupyter environment, please rerun this cell to show the HTML representation or trust the notebook. <br />On GitHub, the HTML representation is unable to render, please try loading this page with nbviewer.org.</b></div><div class=\"sk-container\" hidden><div class=\"sk-item\"><div class=\"sk-estimator sk-toggleable\"><input class=\"sk-toggleable__control sk-hidden--visually\" id=\"sk-estimator-id-1\" type=\"checkbox\" checked><label for=\"sk-estimator-id-1\" class=\"sk-toggleable__label sk-toggleable__label-arrow\">XGBClassifier</label><div class=\"sk-toggleable__content\"><pre>XGBClassifier(base_score=0.5, booster=&#x27;gbtree&#x27;, callbacks=None,\n",
       "              colsample_bylevel=1, colsample_bynode=1, colsample_bytree=1,\n",
       "              early_stopping_rounds=None, enable_categorical=False,\n",
       "              eval_metric=None, feature_types=None, gamma=0, gpu_id=-1,\n",
       "              grow_policy=&#x27;depthwise&#x27;, importance_type=None,\n",
       "              interaction_constraints=&#x27;&#x27;, learning_rate=0.1, max_bin=256,\n",
       "              max_cat_threshold=64, max_cat_to_onehot=4, max_delta_step=0,\n",
       "              max_depth=4, max_leaves=0, min_child_weight=1, missing=nan,\n",
       "              monotone_constraints=&#x27;()&#x27;, n_estimators=360, n_jobs=0,\n",
       "              num_parallel_tree=1, predictor=&#x27;auto&#x27;, random_state=2022, ...)</pre></div></div></div></div></div>"
      ],
      "text/plain": [
       "XGBClassifier(base_score=0.5, booster='gbtree', callbacks=None,\n",
       "              colsample_bylevel=1, colsample_bynode=1, colsample_bytree=1,\n",
       "              early_stopping_rounds=None, enable_categorical=False,\n",
       "              eval_metric=None, feature_types=None, gamma=0, gpu_id=-1,\n",
       "              grow_policy='depthwise', importance_type=None,\n",
       "              interaction_constraints='', learning_rate=0.1, max_bin=256,\n",
       "              max_cat_threshold=64, max_cat_to_onehot=4, max_delta_step=0,\n",
       "              max_depth=4, max_leaves=0, min_child_weight=1, missing=nan,\n",
       "              monotone_constraints='()', n_estimators=360, n_jobs=0,\n",
       "              num_parallel_tree=1, predictor='auto', random_state=2022, ...)"
      ]
     },
     "execution_count": 54,
     "metadata": {},
     "output_type": "execute_result"
    }
   ],
   "source": [
    "%%time\n",
    "# 이 셀이 얼마나 걸리는지 시간을 측정해주는 %%time (맨 위에 넣어야함)\n",
    "\n",
    "from xgboost import XGBClassifier\n",
    "\n",
    "clf = XGBClassifier(n_estimators=360, max_depth=4, \n",
    "                    learning_rate=0.1, # 딥러닝할 땐 0.001이런식\n",
    "                   random_state=2022)\n",
    "clf.fit(X_train_o, y_train_o) # 지도학습이기 때문에 결과를 같이 넣어준다."
   ]
  },
  {
   "cell_type": "code",
   "execution_count": 55,
   "id": "2ec49850",
   "metadata": {},
   "outputs": [
    {
     "data": {
      "text/html": [
       "<div>\n",
       "<style scoped>\n",
       "    .dataframe tbody tr th:only-of-type {\n",
       "        vertical-align: middle;\n",
       "    }\n",
       "\n",
       "    .dataframe tbody tr th {\n",
       "        vertical-align: top;\n",
       "    }\n",
       "\n",
       "    .dataframe thead th {\n",
       "        text-align: right;\n",
       "    }\n",
       "</style>\n",
       "<table border=\"1\" class=\"dataframe\">\n",
       "  <thead>\n",
       "    <tr style=\"text-align: right;\">\n",
       "      <th></th>\n",
       "      <th>V1</th>\n",
       "      <th>V2</th>\n",
       "      <th>V3</th>\n",
       "      <th>V4</th>\n",
       "      <th>V5</th>\n",
       "      <th>V6</th>\n",
       "      <th>V7</th>\n",
       "      <th>V8</th>\n",
       "      <th>V9</th>\n",
       "      <th>V10</th>\n",
       "      <th>...</th>\n",
       "      <th>V20</th>\n",
       "      <th>V21</th>\n",
       "      <th>V22</th>\n",
       "      <th>V23</th>\n",
       "      <th>V24</th>\n",
       "      <th>V25</th>\n",
       "      <th>V26</th>\n",
       "      <th>V27</th>\n",
       "      <th>V28</th>\n",
       "      <th>Amount</th>\n",
       "    </tr>\n",
       "  </thead>\n",
       "  <tbody>\n",
       "    <tr>\n",
       "      <th>269516</th>\n",
       "      <td>-0.788351</td>\n",
       "      <td>1.017304</td>\n",
       "      <td>2.076547</td>\n",
       "      <td>-0.424758</td>\n",
       "      <td>-0.111348</td>\n",
       "      <td>-0.338223</td>\n",
       "      <td>0.591926</td>\n",
       "      <td>-0.079984</td>\n",
       "      <td>0.631959</td>\n",
       "      <td>-0.254340</td>\n",
       "      <td>...</td>\n",
       "      <td>0.310954</td>\n",
       "      <td>-0.243521</td>\n",
       "      <td>-0.314397</td>\n",
       "      <td>-0.297472</td>\n",
       "      <td>-0.079742</td>\n",
       "      <td>0.363853</td>\n",
       "      <td>-0.661865</td>\n",
       "      <td>0.296847</td>\n",
       "      <td>-0.020793</td>\n",
       "      <td>1.00</td>\n",
       "    </tr>\n",
       "    <tr>\n",
       "      <th>268650</th>\n",
       "      <td>0.031775</td>\n",
       "      <td>0.984943</td>\n",
       "      <td>1.946750</td>\n",
       "      <td>3.485038</td>\n",
       "      <td>0.053358</td>\n",
       "      <td>0.750247</td>\n",
       "      <td>0.292991</td>\n",
       "      <td>-0.037411</td>\n",
       "      <td>-0.810757</td>\n",
       "      <td>1.347887</td>\n",
       "      <td>...</td>\n",
       "      <td>-0.020441</td>\n",
       "      <td>0.221212</td>\n",
       "      <td>0.872030</td>\n",
       "      <td>0.241873</td>\n",
       "      <td>-0.044876</td>\n",
       "      <td>-1.858397</td>\n",
       "      <td>-0.256131</td>\n",
       "      <td>0.065699</td>\n",
       "      <td>0.097293</td>\n",
       "      <td>39.42</td>\n",
       "    </tr>\n",
       "    <tr>\n",
       "      <th>233923</th>\n",
       "      <td>-0.862976</td>\n",
       "      <td>0.635569</td>\n",
       "      <td>1.703359</td>\n",
       "      <td>0.975656</td>\n",
       "      <td>0.544971</td>\n",
       "      <td>0.591933</td>\n",
       "      <td>0.315289</td>\n",
       "      <td>0.389436</td>\n",
       "      <td>0.298056</td>\n",
       "      <td>-0.451674</td>\n",
       "      <td>...</td>\n",
       "      <td>0.172197</td>\n",
       "      <td>-0.575219</td>\n",
       "      <td>-1.521491</td>\n",
       "      <td>-0.064036</td>\n",
       "      <td>0.295989</td>\n",
       "      <td>0.403143</td>\n",
       "      <td>-0.789849</td>\n",
       "      <td>0.330940</td>\n",
       "      <td>0.148762</td>\n",
       "      <td>21.60</td>\n",
       "    </tr>\n",
       "    <tr>\n",
       "      <th>29813</th>\n",
       "      <td>-0.905617</td>\n",
       "      <td>1.123705</td>\n",
       "      <td>0.921499</td>\n",
       "      <td>0.826021</td>\n",
       "      <td>0.014548</td>\n",
       "      <td>-0.219043</td>\n",
       "      <td>0.266730</td>\n",
       "      <td>0.570994</td>\n",
       "      <td>-1.011442</td>\n",
       "      <td>-0.136356</td>\n",
       "      <td>...</td>\n",
       "      <td>0.103558</td>\n",
       "      <td>0.273320</td>\n",
       "      <td>0.740480</td>\n",
       "      <td>-0.023742</td>\n",
       "      <td>0.242122</td>\n",
       "      <td>-0.288354</td>\n",
       "      <td>-0.318455</td>\n",
       "      <td>0.303056</td>\n",
       "      <td>0.124989</td>\n",
       "      <td>26.56</td>\n",
       "    </tr>\n",
       "    <tr>\n",
       "      <th>18624</th>\n",
       "      <td>-1.108111</td>\n",
       "      <td>-0.219703</td>\n",
       "      <td>0.246222</td>\n",
       "      <td>-2.014915</td>\n",
       "      <td>0.252283</td>\n",
       "      <td>0.805354</td>\n",
       "      <td>-0.024774</td>\n",
       "      <td>0.536040</td>\n",
       "      <td>-0.729734</td>\n",
       "      <td>0.290439</td>\n",
       "      <td>...</td>\n",
       "      <td>0.033536</td>\n",
       "      <td>0.057153</td>\n",
       "      <td>0.210138</td>\n",
       "      <td>-0.438643</td>\n",
       "      <td>-1.708551</td>\n",
       "      <td>0.196073</td>\n",
       "      <td>-0.236755</td>\n",
       "      <td>-0.010716</td>\n",
       "      <td>-0.224976</td>\n",
       "      <td>78.90</td>\n",
       "    </tr>\n",
       "  </tbody>\n",
       "</table>\n",
       "<p>5 rows × 29 columns</p>\n",
       "</div>"
      ],
      "text/plain": [
       "              V1        V2        V3        V4        V5        V6        V7  \\\n",
       "269516 -0.788351  1.017304  2.076547 -0.424758 -0.111348 -0.338223  0.591926   \n",
       "268650  0.031775  0.984943  1.946750  3.485038  0.053358  0.750247  0.292991   \n",
       "233923 -0.862976  0.635569  1.703359  0.975656  0.544971  0.591933  0.315289   \n",
       "29813  -0.905617  1.123705  0.921499  0.826021  0.014548 -0.219043  0.266730   \n",
       "18624  -1.108111 -0.219703  0.246222 -2.014915  0.252283  0.805354 -0.024774   \n",
       "\n",
       "              V8        V9       V10  ...       V20       V21       V22  \\\n",
       "269516 -0.079984  0.631959 -0.254340  ...  0.310954 -0.243521 -0.314397   \n",
       "268650 -0.037411 -0.810757  1.347887  ... -0.020441  0.221212  0.872030   \n",
       "233923  0.389436  0.298056 -0.451674  ...  0.172197 -0.575219 -1.521491   \n",
       "29813   0.570994 -1.011442 -0.136356  ...  0.103558  0.273320  0.740480   \n",
       "18624   0.536040 -0.729734  0.290439  ...  0.033536  0.057153  0.210138   \n",
       "\n",
       "             V23       V24       V25       V26       V27       V28  Amount  \n",
       "269516 -0.297472 -0.079742  0.363853 -0.661865  0.296847 -0.020793    1.00  \n",
       "268650  0.241873 -0.044876 -1.858397 -0.256131  0.065699  0.097293   39.42  \n",
       "233923 -0.064036  0.295989  0.403143 -0.789849  0.330940  0.148762   21.60  \n",
       "29813  -0.023742  0.242122 -0.288354 -0.318455  0.303056  0.124989   26.56  \n",
       "18624  -0.438643 -1.708551  0.196073 -0.236755 -0.010716 -0.224976   78.90  \n",
       "\n",
       "[5 rows x 29 columns]"
      ]
     },
     "execution_count": 55,
     "metadata": {},
     "output_type": "execute_result"
    }
   ],
   "source": [
    "X_test.head()"
   ]
  },
  {
   "cell_type": "markdown",
   "id": "3bd246a0",
   "metadata": {},
   "source": [
    "### 테스트 데이터"
   ]
  },
  {
   "cell_type": "code",
   "execution_count": 56,
   "id": "aeb13f13",
   "metadata": {},
   "outputs": [
    {
     "data": {
      "text/html": [
       "<div>\n",
       "<style scoped>\n",
       "    .dataframe tbody tr th:only-of-type {\n",
       "        vertical-align: middle;\n",
       "    }\n",
       "\n",
       "    .dataframe tbody tr th {\n",
       "        vertical-align: top;\n",
       "    }\n",
       "\n",
       "    .dataframe thead th {\n",
       "        text-align: right;\n",
       "    }\n",
       "</style>\n",
       "<table border=\"1\" class=\"dataframe\">\n",
       "  <thead>\n",
       "    <tr style=\"text-align: right;\">\n",
       "      <th></th>\n",
       "      <th>V1</th>\n",
       "      <th>V2</th>\n",
       "      <th>V3</th>\n",
       "      <th>V4</th>\n",
       "      <th>V5</th>\n",
       "      <th>V6</th>\n",
       "      <th>V7</th>\n",
       "      <th>V8</th>\n",
       "      <th>V9</th>\n",
       "      <th>V10</th>\n",
       "      <th>...</th>\n",
       "      <th>V20</th>\n",
       "      <th>V21</th>\n",
       "      <th>V22</th>\n",
       "      <th>V23</th>\n",
       "      <th>V24</th>\n",
       "      <th>V25</th>\n",
       "      <th>V26</th>\n",
       "      <th>V27</th>\n",
       "      <th>V28</th>\n",
       "      <th>Amount</th>\n",
       "    </tr>\n",
       "  </thead>\n",
       "  <tbody>\n",
       "    <tr>\n",
       "      <th>269516</th>\n",
       "      <td>-0.788351</td>\n",
       "      <td>1.017304</td>\n",
       "      <td>2.076547</td>\n",
       "      <td>-0.424758</td>\n",
       "      <td>-0.111348</td>\n",
       "      <td>-0.338223</td>\n",
       "      <td>0.591926</td>\n",
       "      <td>-0.079984</td>\n",
       "      <td>0.631959</td>\n",
       "      <td>-0.254340</td>\n",
       "      <td>...</td>\n",
       "      <td>0.310954</td>\n",
       "      <td>-0.243521</td>\n",
       "      <td>-0.314397</td>\n",
       "      <td>-0.297472</td>\n",
       "      <td>-0.079742</td>\n",
       "      <td>0.363853</td>\n",
       "      <td>-0.661865</td>\n",
       "      <td>0.296847</td>\n",
       "      <td>-0.020793</td>\n",
       "      <td>-0.293731</td>\n",
       "    </tr>\n",
       "    <tr>\n",
       "      <th>268650</th>\n",
       "      <td>0.031775</td>\n",
       "      <td>0.984943</td>\n",
       "      <td>1.946750</td>\n",
       "      <td>3.485038</td>\n",
       "      <td>0.053358</td>\n",
       "      <td>0.750247</td>\n",
       "      <td>0.292991</td>\n",
       "      <td>-0.037411</td>\n",
       "      <td>-0.810757</td>\n",
       "      <td>1.347887</td>\n",
       "      <td>...</td>\n",
       "      <td>-0.020441</td>\n",
       "      <td>0.221212</td>\n",
       "      <td>0.872030</td>\n",
       "      <td>0.241873</td>\n",
       "      <td>-0.044876</td>\n",
       "      <td>-1.858397</td>\n",
       "      <td>-0.256131</td>\n",
       "      <td>0.065699</td>\n",
       "      <td>0.097293</td>\n",
       "      <td>0.243913</td>\n",
       "    </tr>\n",
       "    <tr>\n",
       "      <th>233923</th>\n",
       "      <td>-0.862976</td>\n",
       "      <td>0.635569</td>\n",
       "      <td>1.703359</td>\n",
       "      <td>0.975656</td>\n",
       "      <td>0.544971</td>\n",
       "      <td>0.591933</td>\n",
       "      <td>0.315289</td>\n",
       "      <td>0.389436</td>\n",
       "      <td>0.298056</td>\n",
       "      <td>-0.451674</td>\n",
       "      <td>...</td>\n",
       "      <td>0.172197</td>\n",
       "      <td>-0.575219</td>\n",
       "      <td>-1.521491</td>\n",
       "      <td>-0.064036</td>\n",
       "      <td>0.295989</td>\n",
       "      <td>0.403143</td>\n",
       "      <td>-0.789849</td>\n",
       "      <td>0.330940</td>\n",
       "      <td>0.148762</td>\n",
       "      <td>-0.005458</td>\n",
       "    </tr>\n",
       "    <tr>\n",
       "      <th>29813</th>\n",
       "      <td>-0.905617</td>\n",
       "      <td>1.123705</td>\n",
       "      <td>0.921499</td>\n",
       "      <td>0.826021</td>\n",
       "      <td>0.014548</td>\n",
       "      <td>-0.219043</td>\n",
       "      <td>0.266730</td>\n",
       "      <td>0.570994</td>\n",
       "      <td>-1.011442</td>\n",
       "      <td>-0.136356</td>\n",
       "      <td>...</td>\n",
       "      <td>0.103558</td>\n",
       "      <td>0.273320</td>\n",
       "      <td>0.740480</td>\n",
       "      <td>-0.023742</td>\n",
       "      <td>0.242122</td>\n",
       "      <td>-0.288354</td>\n",
       "      <td>-0.318455</td>\n",
       "      <td>0.303056</td>\n",
       "      <td>0.124989</td>\n",
       "      <td>0.063952</td>\n",
       "    </tr>\n",
       "    <tr>\n",
       "      <th>18624</th>\n",
       "      <td>-1.108111</td>\n",
       "      <td>-0.219703</td>\n",
       "      <td>0.246222</td>\n",
       "      <td>-2.014915</td>\n",
       "      <td>0.252283</td>\n",
       "      <td>0.805354</td>\n",
       "      <td>-0.024774</td>\n",
       "      <td>0.536040</td>\n",
       "      <td>-0.729734</td>\n",
       "      <td>0.290439</td>\n",
       "      <td>...</td>\n",
       "      <td>0.033536</td>\n",
       "      <td>0.057153</td>\n",
       "      <td>0.210138</td>\n",
       "      <td>-0.438643</td>\n",
       "      <td>-1.708551</td>\n",
       "      <td>0.196073</td>\n",
       "      <td>-0.236755</td>\n",
       "      <td>-0.010716</td>\n",
       "      <td>-0.224976</td>\n",
       "      <td>0.796390</td>\n",
       "    </tr>\n",
       "  </tbody>\n",
       "</table>\n",
       "<p>5 rows × 29 columns</p>\n",
       "</div>"
      ],
      "text/plain": [
       "              V1        V2        V3        V4        V5        V6        V7  \\\n",
       "269516 -0.788351  1.017304  2.076547 -0.424758 -0.111348 -0.338223  0.591926   \n",
       "268650  0.031775  0.984943  1.946750  3.485038  0.053358  0.750247  0.292991   \n",
       "233923 -0.862976  0.635569  1.703359  0.975656  0.544971  0.591933  0.315289   \n",
       "29813  -0.905617  1.123705  0.921499  0.826021  0.014548 -0.219043  0.266730   \n",
       "18624  -1.108111 -0.219703  0.246222 -2.014915  0.252283  0.805354 -0.024774   \n",
       "\n",
       "              V8        V9       V10  ...       V20       V21       V22  \\\n",
       "269516 -0.079984  0.631959 -0.254340  ...  0.310954 -0.243521 -0.314397   \n",
       "268650 -0.037411 -0.810757  1.347887  ... -0.020441  0.221212  0.872030   \n",
       "233923  0.389436  0.298056 -0.451674  ...  0.172197 -0.575219 -1.521491   \n",
       "29813   0.570994 -1.011442 -0.136356  ...  0.103558  0.273320  0.740480   \n",
       "18624   0.536040 -0.729734  0.290439  ...  0.033536  0.057153  0.210138   \n",
       "\n",
       "             V23       V24       V25       V26       V27       V28    Amount  \n",
       "269516 -0.297472 -0.079742  0.363853 -0.661865  0.296847 -0.020793 -0.293731  \n",
       "268650  0.241873 -0.044876 -1.858397 -0.256131  0.065699  0.097293  0.243913  \n",
       "233923 -0.064036  0.295989  0.403143 -0.789849  0.330940  0.148762 -0.005458  \n",
       "29813  -0.023742  0.242122 -0.288354 -0.318455  0.303056  0.124989  0.063952  \n",
       "18624  -0.438643 -1.708551  0.196073 -0.236755 -0.010716 -0.224976  0.796390  \n",
       "\n",
       "[5 rows x 29 columns]"
      ]
     },
     "execution_count": 56,
     "metadata": {},
     "output_type": "execute_result"
    }
   ],
   "source": [
    "amount = scaler.transform(X_test['Amount'].values.reshape(-1,1))\n",
    "X_test['Amount'] = amount.reshape(-1)\n",
    "X_test.head()"
   ]
  },
  {
   "cell_type": "code",
   "execution_count": 60,
   "id": "f547148e",
   "metadata": {},
   "outputs": [],
   "source": [
    "y_pred = clf.predict(X_test)"
   ]
  },
  {
   "cell_type": "code",
   "execution_count": 62,
   "id": "22ea02ac",
   "metadata": {},
   "outputs": [
    {
     "name": "stdout",
     "output_type": "stream",
     "text": [
      "accuracy: 0.9985955450689588\n",
      "precision: 0.5608465608465608\n",
      "recall: 0.8617886178861789\n"
     ]
    }
   ],
   "source": [
    "my.print_score(y_test, y_pred)"
   ]
  },
  {
   "cell_type": "code",
   "execution_count": 64,
   "id": "39d79e72",
   "metadata": {},
   "outputs": [
    {
     "data": {
      "image/png": "[encoded data removed]",
      "text/plain": [
       "<Figure size 500x400 with 1 Axes>"
      ]
     },
     "metadata": {},
     "output_type": "display_data"
    }
   ],
   "source": [
    "my.plot_confusion_matrix(y_test,y_pred)"
   ]
  },
  {
   "cell_type": "markdown",
   "id": "7c6dd432",
   "metadata": {},
   "source": [
    "### 학습 LightGBM"
   ]
  },
  {
   "cell_type": "code",
   "execution_count": 67,
   "id": "d74089fb",
   "metadata": {},
   "outputs": [],
   "source": [
    "# !pip install lightgbm"
   ]
  },
  {
   "cell_type": "code",
   "execution_count": 68,
   "id": "eeeecbc2",
   "metadata": {},
   "outputs": [
    {
     "name": "stdout",
     "output_type": "stream",
     "text": [
      "CPU times: total: 21.1 s\n",
      "Wall time: 3.09 s\n"
     ]
    },
    {
     "data": {
      "text/html": [
       "<style>#sk-container-id-2 {color: black;background-color: white;}#sk-container-id-2 pre{padding: 0;}#sk-container-id-2 div.sk-toggleable {background-color: white;}#sk-container-id-2 label.sk-toggleable__label {cursor: pointer;display: block;width: 100%;margin-bottom: 0;padding: 0.3em;box-sizing: border-box;text-align: center;}#sk-container-id-2 label.sk-toggleable__label-arrow:before {content: \"▸\";float: left;margin-right: 0.25em;color: #696969;}#sk-container-id-2 label.sk-toggleable__label-arrow:hover:before {color: black;}#sk-container-id-2 div.sk-estimator:hover label.sk-toggleable__label-arrow:before {color: black;}#sk-container-id-2 div.sk-toggleable__content {max-height: 0;max-width: 0;overflow: hidden;text-align: left;background-color: #f0f8ff;}#sk-container-id-2 div.sk-toggleable__content pre {margin: 0.2em;color: black;border-radius: 0.25em;background-color: #f0f8ff;}#sk-container-id-2 input.sk-toggleable__control:checked~div.sk-toggleable__content {max-height: 200px;max-width: 100%;overflow: auto;}#sk-container-id-2 input.sk-toggleable__control:checked~label.sk-toggleable__label-arrow:before {content: \"▾\";}#sk-container-id-2 div.sk-estimator input.sk-toggleable__control:checked~label.sk-toggleable__label {background-color: #d4ebff;}#sk-container-id-2 div.sk-label input.sk-toggleable__control:checked~label.sk-toggleable__label {background-color: #d4ebff;}#sk-container-id-2 input.sk-hidden--visually {border: 0;clip: rect(1px 1px 1px 1px);clip: rect(1px, 1px, 1px, 1px);height: 1px;margin: -1px;overflow: hidden;padding: 0;position: absolute;width: 1px;}#sk-container-id-2 div.sk-estimator {font-family: monospace;background-color: #f0f8ff;border: 1px dotted black;border-radius: 0.25em;box-sizing: border-box;margin-bottom: 0.5em;}#sk-container-id-2 div.sk-estimator:hover {background-color: #d4ebff;}#sk-container-id-2 div.sk-parallel-item::after {content: \"\";width: 100%;border-bottom: 1px solid gray;flex-grow: 1;}#sk-container-id-2 div.sk-label:hover label.sk-toggleable__label {background-color: #d4ebff;}#sk-container-id-2 div.sk-serial::before {content: \"\";position: absolute;border-left: 1px solid gray;box-sizing: border-box;top: 0;bottom: 0;left: 50%;z-index: 0;}#sk-container-id-2 div.sk-serial {display: flex;flex-direction: column;align-items: center;background-color: white;padding-right: 0.2em;padding-left: 0.2em;position: relative;}#sk-container-id-2 div.sk-item {position: relative;z-index: 1;}#sk-container-id-2 div.sk-parallel {display: flex;align-items: stretch;justify-content: center;background-color: white;position: relative;}#sk-container-id-2 div.sk-item::before, #sk-container-id-2 div.sk-parallel-item::before {content: \"\";position: absolute;border-left: 1px solid gray;box-sizing: border-box;top: 0;bottom: 0;left: 50%;z-index: -1;}#sk-container-id-2 div.sk-parallel-item {display: flex;flex-direction: column;z-index: 1;position: relative;background-color: white;}#sk-container-id-2 div.sk-parallel-item:first-child::after {align-self: flex-end;width: 50%;}#sk-container-id-2 div.sk-parallel-item:last-child::after {align-self: flex-start;width: 50%;}#sk-container-id-2 div.sk-parallel-item:only-child::after {width: 0;}#sk-container-id-2 div.sk-dashed-wrapped {border: 1px dashed gray;margin: 0 0.4em 0.5em 0.4em;box-sizing: border-box;padding-bottom: 0.4em;background-color: white;}#sk-container-id-2 div.sk-label label {font-family: monospace;font-weight: bold;display: inline-block;line-height: 1.2em;}#sk-container-id-2 div.sk-label-container {text-align: center;}#sk-container-id-2 div.sk-container {/* jupyter's `normalize.less` sets `[hidden] { display: none; }` but bootstrap.min.css set `[hidden] { display: none !important; }` so we also need the `!important` here to be able to override the default hidden behavior on the sphinx rendered scikit-learn.org. See: https://github.com/scikit-learn/scikit-learn/issues/21755 */display: inline-block !important;position: relative;}#sk-container-id-2 div.sk-text-repr-fallback {display: none;}</style><div id=\"sk-container-id-2\" class=\"sk-top-container\"><div class=\"sk-text-repr-fallback\"><pre>LGBMClassifier(max_depth=4, n_estimators=300, random_state=2022)</pre><b>In a Jupyter environment, please rerun this cell to show the HTML representation or trust the notebook. <br />On GitHub, the HTML representation is unable to render, please try loading this page with nbviewer.org.</b></div><div class=\"sk-container\" hidden><div class=\"sk-item\"><div class=\"sk-estimator sk-toggleable\"><input class=\"sk-toggleable__control sk-hidden--visually\" id=\"sk-estimator-id-2\" type=\"checkbox\" checked><label for=\"sk-estimator-id-2\" class=\"sk-toggleable__label sk-toggleable__label-arrow\">LGBMClassifier</label><div class=\"sk-toggleable__content\"><pre>LGBMClassifier(max_depth=4, n_estimators=300, random_state=2022)</pre></div></div></div></div></div>"
      ],
      "text/plain": [
       "LGBMClassifier(max_depth=4, n_estimators=300, random_state=2022)"
      ]
     },
     "execution_count": 68,
     "metadata": {},
     "output_type": "execute_result"
    }
   ],
   "source": [
    "%%time\n",
    "# 이 셀이 얼마나 걸리는지 시간을 측정해주는 %%time (맨 위에 넣어야함)\n",
    "\n",
    "from lightgbm import LGBMClassifier\n",
    "\n",
    "clf = LGBMClassifier(n_estimators=300, max_depth=4, \n",
    "                    learning_rate=0.1, # 딥러닝할 땐 0.001이런식\n",
    "                   random_state=2022)\n",
    "clf.fit(X_train_o, y_train_o) # 지도학습이기 때문에 결과를 같이 넣어준다."
   ]
  },
  {
   "cell_type": "code",
   "execution_count": 72,
   "id": "53bc662d",
   "metadata": {},
   "outputs": [],
   "source": [
    "y_pred = clf.predict(X_test)"
   ]
  },
  {
   "cell_type": "code",
   "execution_count": 73,
   "id": "4d61709a",
   "metadata": {},
   "outputs": [
    {
     "name": "stdout",
     "output_type": "stream",
     "text": [
      "accuracy: 0.9982163422375776\n",
      "precision: 0.49074074074074076\n",
      "recall: 0.8617886178861789\n"
     ]
    }
   ],
   "source": [
    "my.print_score(y_test, y_pred)"
   ]
  },
  {
   "cell_type": "code",
   "execution_count": 74,
   "id": "20cfdcf9",
   "metadata": {},
   "outputs": [
    {
     "data": {
      "image/png": "[encoded data removed]",
      "text/plain": [
       "<Figure size 500x400 with 1 Axes>"
      ]
     },
     "metadata": {},
     "output_type": "display_data"
    }
   ],
   "source": [
    "my.plot_confusion_matrix(y_test,y_pred)"
   ]
  },
  {
   "cell_type": "markdown",
   "id": "09287a5c",
   "metadata": {},
   "source": [
    "### RandomForest"
   ]
  },
  {
   "cell_type": "code",
   "execution_count": 76,
   "id": "b09f1144",
   "metadata": {},
   "outputs": [
    {
     "name": "stdout",
     "output_type": "stream",
     "text": [
      "CPU times: total: 4min 6s\n",
      "Wall time: 4min 22s\n"
     ]
    },
    {
     "data": {
      "text/html": [
       "<style>#sk-container-id-3 {color: black;background-color: white;}#sk-container-id-3 pre{padding: 0;}#sk-container-id-3 div.sk-toggleable {background-color: white;}#sk-container-id-3 label.sk-toggleable__label {cursor: pointer;display: block;width: 100%;margin-bottom: 0;padding: 0.3em;box-sizing: border-box;text-align: center;}#sk-container-id-3 label.sk-toggleable__label-arrow:before {content: \"▸\";float: left;margin-right: 0.25em;color: #696969;}#sk-container-id-3 label.sk-toggleable__label-arrow:hover:before {color: black;}#sk-container-id-3 div.sk-estimator:hover label.sk-toggleable__label-arrow:before {color: black;}#sk-container-id-3 div.sk-toggleable__content {max-height: 0;max-width: 0;overflow: hidden;text-align: left;background-color: #f0f8ff;}#sk-container-id-3 div.sk-toggleable__content pre {margin: 0.2em;color: black;border-radius: 0.25em;background-color: #f0f8ff;}#sk-container-id-3 input.sk-toggleable__control:checked~div.sk-toggleable__content {max-height: 200px;max-width: 100%;overflow: auto;}#sk-container-id-3 input.sk-toggleable__control:checked~label.sk-toggleable__label-arrow:before {content: \"▾\";}#sk-container-id-3 div.sk-estimator input.sk-toggleable__control:checked~label.sk-toggleable__label {background-color: #d4ebff;}#sk-container-id-3 div.sk-label input.sk-toggleable__control:checked~label.sk-toggleable__label {background-color: #d4ebff;}#sk-container-id-3 input.sk-hidden--visually {border: 0;clip: rect(1px 1px 1px 1px);clip: rect(1px, 1px, 1px, 1px);height: 1px;margin: -1px;overflow: hidden;padding: 0;position: absolute;width: 1px;}#sk-container-id-3 div.sk-estimator {font-family: monospace;background-color: #f0f8ff;border: 1px dotted black;border-radius: 0.25em;box-sizing: border-box;margin-bottom: 0.5em;}#sk-container-id-3 div.sk-estimator:hover {background-color: #d4ebff;}#sk-container-id-3 div.sk-parallel-item::after {content: \"\";width: 100%;border-bottom: 1px solid gray;flex-grow: 1;}#sk-container-id-3 div.sk-label:hover label.sk-toggleable__label {background-color: #d4ebff;}#sk-container-id-3 div.sk-serial::before {content: \"\";position: absolute;border-left: 1px solid gray;box-sizing: border-box;top: 0;bottom: 0;left: 50%;z-index: 0;}#sk-container-id-3 div.sk-serial {display: flex;flex-direction: column;align-items: center;background-color: white;padding-right: 0.2em;padding-left: 0.2em;position: relative;}#sk-container-id-3 div.sk-item {position: relative;z-index: 1;}#sk-container-id-3 div.sk-parallel {display: flex;align-items: stretch;justify-content: center;background-color: white;position: relative;}#sk-container-id-3 div.sk-item::before, #sk-container-id-3 div.sk-parallel-item::before {content: \"\";position: absolute;border-left: 1px solid gray;box-sizing: border-box;top: 0;bottom: 0;left: 50%;z-index: -1;}#sk-container-id-3 div.sk-parallel-item {display: flex;flex-direction: column;z-index: 1;position: relative;background-color: white;}#sk-container-id-3 div.sk-parallel-item:first-child::after {align-self: flex-end;width: 50%;}#sk-container-id-3 div.sk-parallel-item:last-child::after {align-self: flex-start;width: 50%;}#sk-container-id-3 div.sk-parallel-item:only-child::after {width: 0;}#sk-container-id-3 div.sk-dashed-wrapped {border: 1px dashed gray;margin: 0 0.4em 0.5em 0.4em;box-sizing: border-box;padding-bottom: 0.4em;background-color: white;}#sk-container-id-3 div.sk-label label {font-family: monospace;font-weight: bold;display: inline-block;line-height: 1.2em;}#sk-container-id-3 div.sk-label-container {text-align: center;}#sk-container-id-3 div.sk-container {/* jupyter's `normalize.less` sets `[hidden] { display: none; }` but bootstrap.min.css set `[hidden] { display: none !important; }` so we also need the `!important` here to be able to override the default hidden behavior on the sphinx rendered scikit-learn.org. See: https://github.com/scikit-learn/scikit-learn/issues/21755 */display: inline-block !important;position: relative;}#sk-container-id-3 div.sk-text-repr-fallback {display: none;}</style><div id=\"sk-container-id-3\" class=\"sk-top-container\"><div class=\"sk-text-repr-fallback\"><pre>RandomForestClassifier(max_depth=4, n_estimators=300, random_state=2022)</pre><b>In a Jupyter environment, please rerun this cell to show the HTML representation or trust the notebook. <br />On GitHub, the HTML representation is unable to render, please try loading this page with nbviewer.org.</b></div><div class=\"sk-container\" hidden><div class=\"sk-item\"><div class=\"sk-estimator sk-toggleable\"><input class=\"sk-toggleable__control sk-hidden--visually\" id=\"sk-estimator-id-3\" type=\"checkbox\" checked><label for=\"sk-estimator-id-3\" class=\"sk-toggleable__label sk-toggleable__label-arrow\">RandomForestClassifier</label><div class=\"sk-toggleable__content\"><pre>RandomForestClassifier(max_depth=4, n_estimators=300, random_state=2022)</pre></div></div></div></div></div>"
      ],
      "text/plain": [
       "RandomForestClassifier(max_depth=4, n_estimators=300, random_state=2022)"
      ]
     },
     "execution_count": 76,
     "metadata": {},
     "output_type": "execute_result"
    }
   ],
   "source": [
    "%%time\n",
    "\n",
    "from sklearn.ensemble import RandomForestClassifier\n",
    "\n",
    "clf = RandomForestClassifier(n_estimators=300, max_depth=4,\n",
    "                   random_state=2022)\n",
    "clf.fit(X_train_o, y_train_o) # 지도학습이기 때문에 결과를 같이 넣어준다."
   ]
  },
  {
   "cell_type": "code",
   "execution_count": 77,
   "id": "25fe6577",
   "metadata": {},
   "outputs": [],
   "source": [
    "y_pred = clf.predict(X_test)"
   ]
  },
  {
   "cell_type": "code",
   "execution_count": 78,
   "id": "fa84a468",
   "metadata": {},
   "outputs": [
    {
     "name": "stdout",
     "output_type": "stream",
     "text": [
      "accuracy: 0.9949860958961827\n",
      "precision: 0.2422907488986784\n",
      "recall: 0.8943089430894309\n"
     ]
    }
   ],
   "source": [
    "my.print_score(y_test, y_pred)"
   ]
  },
  {
   "cell_type": "code",
   "execution_count": 79,
   "id": "1f062d01",
   "metadata": {},
   "outputs": [
    {
     "data": {
      "image/png": "[encoded data removed]",
      "text/plain": [
       "<Figure size 500x400 with 1 Axes>"
      ]
     },
     "metadata": {},
     "output_type": "display_data"
    }
   ],
   "source": [
    "my.plot_confusion_matrix(y_test,y_pred)"
   ]
  },
  {
   "cell_type": "code",
   "execution_count": null,
   "id": "44db5207",
   "metadata": {},
   "outputs": [],
   "source": []
  }
 ],
 "metadata": {
  "kernelspec": {
   "display_name": "flyai",
   "language": "python",
   "name": "flyai"
  },
  "language_info": {
   "codemirror_mode": {
    "name": "ipython",
    "version": 3
   },
   "file_extension": ".py",
   "mimetype": "text/x-python",
   "name": "python",
   "nbconvert_exporter": "python",
   "pygments_lexer": "ipython3",
   "version": "3.8.0"
  }
 },
 "nbformat": 4,
 "nbformat_minor": 5
}
